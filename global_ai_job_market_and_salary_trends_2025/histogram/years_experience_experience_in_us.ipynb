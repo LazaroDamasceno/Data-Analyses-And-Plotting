{
 "cells": [
  {
   "cell_type": "code",
   "execution_count": null,
   "id": "be52d791",
   "metadata": {},
   "outputs": [],
   "source": [
    "import kagglehub\n",
    "from kagglehub import KaggleDatasetAdapter \n",
    "import matplotlib.pyplot as plt\n",
    "import seaborn as sns"
   ]
  },
  {
   "cell_type": "code",
   "execution_count": null,
   "id": "5450b8f2",
   "metadata": {},
   "outputs": [],
   "source": [
    "file_path = \"ai_job_dataset.csv\"\n",
    "df = kagglehub.load_dataset(\n",
    "  KaggleDatasetAdapter.PANDAS,\n",
    "  \"bismasajjad/global-ai-job-market-and-salary-trends-2025\",\n",
    "  file_path,\n",
    ")\n",
    ""
   ]
  },
  {
   "cell_type": "code",
   "execution_count": null,
   "id": "228a7e22",
   "metadata": {},
   "outputs": [],
   "source": [
    "filter_us = df_cleaned['company_location'] == 'United States'\n",
    "df_us = df_cleaned[filter_us]"
   ]
  },
  {
   "cell_type": "code",
   "execution_count": null,
   "id": "5cde1e38",
   "metadata": {},
   "outputs": [],
   "source": [
    "df_grouped = df_us.groupby(['years_experience', 'experience_level']).size().reset_index(name='value')"
   ]
  },
  {
   "cell_type": "code",
   "execution_count": null,
   "id": "b77f4d23",
   "metadata": {},
   "outputs": [],
   "source": [
    "filter_en = df_grouped['experience_level'] == 'EN'\n",
    "filter_mi = df_grouped['experience_level'] == 'MI'\n",
    "filter_se = df_grouped['experience_level'] == 'SE'\n",
    "filter_ex = df_grouped['experience_level'] == 'EX'\n",
    "\n",
    "df_en = df_grouped[filter_en]\n",
    "df_mi = df_grouped[filter_mi]\n",
    "df_se = df_grouped[filter_se]\n",
    "df_ex = df_grouped[filter_ex]"
   ]
  },
  {
   "cell_type": "code",
   "execution_count": null,
   "id": "a35fa21f",
   "metadata": {},
   "outputs": [],
   "source": [
    "fig, ax = plt.subplots(2, 2, figsize=(12, 8))\n",
    "\n",
    "sns.barplot(ax=ax[0, 0], data=df_en, x='years_experience', y='value')\n",
    "sns.barplot(ax=ax[0, 1], data=df_mi, x='years_experience', y='value')\n",
    "sns.barplot(ax=ax[1, 0], data=df_se, x='years_experience', y='value')\n",
    "sns.barplot(ax=ax[1, 1], data=df_ex, x='years_experience', y='value')\n",
    "\n",
    "sns.despine()\n",
    "\n",
    "ax[0, 0].set_xlabel(\"\")\n",
    "ax[0, 0].set_ylabel(\"\")\n",
    "ax[0, 1].set_xlabel(\"\")\n",
    "ax[0, 1].set_ylabel(\"\")\n",
    "ax[1, 0].set_xlabel(\"\")\n",
    "ax[1, 0].set_ylabel(\"\")\n",
    "ax[1, 1].set_xlabel(\"\")\n",
    "ax[1, 1].set_ylabel(\"\")\n",
    "\n",
    "ax[0, 0].set_title(\"Experience Level: EN\", fontweight=\"bold\")\n",
    "ax[0, 1].set_title(\"Experience Level: MI\", fontweight=\"bold\")\n",
    "ax[1, 0].set_title(\"Experience Level: SE\", fontweight=\"bold\")\n",
    "ax[1, 1].set_title(\"Experience Level: EX\", fontweight=\"bold\")\n",
    "\n",
    "plt.suptitle(\"Years Of Experience By Experience Level In The US\", fontweight='bold')\n",
    "\n",
    "plt.tight_layout()\n",
    "plt.show()"
   ]
  }
 ],
 "metadata": {
  "kernelspec": {
   "display_name": "Python 3",
   "language": "python",
   "name": "python3"
  },
  "language_info": {
   "codemirror_mode": {
    "name": "ipython",
    "version": 3
   },
   "file_extension": ".py",
   "mimetype": "text/x-python",
   "name": "python",
   "nbconvert_exporter": "python",
   "pygments_lexer": "ipython3",
   "version": "3.13.5"
  }
 },
 "nbformat": 4,
 "nbformat_minor": 5
}
