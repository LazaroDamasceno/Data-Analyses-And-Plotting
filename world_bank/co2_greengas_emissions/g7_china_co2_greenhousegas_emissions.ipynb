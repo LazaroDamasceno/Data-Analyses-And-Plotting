{
 "cells": [
  {
   "cell_type": "code",
   "execution_count": null,
   "id": "f62a4764",
   "metadata": {},
   "outputs": [],
   "source": [
    "import pandas as pd\n",
    "import matplotlib.pyplot as plt\n",
    "import seaborn as sns"
   ]
  },
  {
   "cell_type": "code",
   "execution_count": null,
   "id": "9ed92424",
   "metadata": {},
   "outputs": [],
   "source": [
    "df = pd.read_csv('WB_ESG_EN_ATM_CO2E_PC_WIDEF.csv')"
   ]
  },
  {
   "cell_type": "code",
   "execution_count": null,
   "id": "3fb013a5",
   "metadata": {},
   "outputs": [],
   "source": [
    "df = df.drop(columns=[\n",
    "    'INDICATOR',\n",
    "    'INDICATOR_LABEL',\n",
    "    'UNIT_MEASURE',\n",
    "    'UNIT_MEASURE_LABEL',\n",
    "    'DATABASE_ID',\n",
    "    'DATABASE_ID_LABEL',\n",
    "    'UNIT_MULT',\n",
    "    'UNIT_MULT_LABEL',\n",
    "    'OBS_STATUS',\n",
    "    'OBS_STATUS_LABEL',\n",
    "    'OBS_CONF',\n",
    "    'OBS_CONF_LABEL',\n",
    "    'FREQ',\n",
    "    'FREQ_LABEL',\n",
    "    'REF_AREA'\n",
    "])"
   ]
  },
  {
   "cell_type": "code",
   "execution_count": null,
   "id": "776f509b",
   "metadata": {},
   "outputs": [],
   "source": [
    "df = df.rename(columns={'REF_AREA_LABEL': 'Country'})"
   ]
  },
  {
   "cell_type": "code",
   "execution_count": null,
   "id": "e4c948f7",
   "metadata": {},
   "outputs": [],
   "source": [
    "df['Country'].fillna(0.0)"
   ]
  },
  {
   "cell_type": "code",
   "execution_count": null,
   "id": "220b68f3",
   "metadata": {},
   "outputs": [],
   "source": [
    "nations = [\n",
    "    'Canada',\n",
    "    'France',\n",
    "    'Germany',\n",
    "    'Italy',\n",
    "    'Japan',\n",
    "    'United Kingdom',\n",
    "    'United States',\n",
    "    'China'\n",
    "]\n",
    "df_filtered = df.query(\"Country in @nations\").reset_index(drop=True)"
   ]
  },
  {
   "cell_type": "code",
   "execution_count": null,
   "id": "671511e8",
   "metadata": {},
   "outputs": [],
   "source": [
    "years = [str(year) for year in range(1990, 2021)]\n",
    "df_tidy = df_filtered.melt(\n",
    "    id_vars='Country', \n",
    "    value_vars=years,\n",
    "    var_name='Year'\n",
    ")"
   ]
  },
  {
   "cell_type": "code",
   "execution_count": null,
   "id": "5612811d",
   "metadata": {},
   "outputs": [],
   "source": [
    "plt.figure(figsize=(12, 8))\n",
    "\n",
    "sns.lineplot(data=df_tidy, x='Year', y='value', hue='Country')\n",
    "\n",
    "sns.despine()\n",
    "plt.xticks(rotation=45)\n",
    "plt.tight_layout()\n",
    "plt.title('CO2 And Green Emissions Emissions per G7 Countries And China (1990-2020)', fontweight='bold')\n",
    "plt.legend(title='Countries', bbox_to_anchor=(1.05, 1), loc='upper left')\n",
    "plt.show()"
   ]
  }
 ],
 "metadata": {
  "kernelspec": {
   "display_name": "Python 3",
   "language": "python",
   "name": "python3"
  },
  "language_info": {
   "codemirror_mode": {
    "name": "ipython",
    "version": 3
   },
   "file_extension": ".py",
   "mimetype": "text/x-python",
   "name": "python",
   "nbconvert_exporter": "python",
   "pygments_lexer": "ipython3",
   "version": "3.13.5"
  }
 },
 "nbformat": 4,
 "nbformat_minor": 5
}
