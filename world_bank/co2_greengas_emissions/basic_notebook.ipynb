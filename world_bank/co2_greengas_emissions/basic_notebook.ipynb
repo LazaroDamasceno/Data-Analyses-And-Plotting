{
 "cells": [
  {
   "cell_type": "code",
   "execution_count": 1,
   "id": "f62a4764",
   "metadata": {},
   "outputs": [],
   "source": [
    "import pandas as pd"
   ]
  },
  {
   "cell_type": "code",
   "execution_count": 2,
   "id": "9ed92424",
   "metadata": {},
   "outputs": [],
   "source": [
    "df = pd.read_csv('WB_ESG_EN_ATM_CO2E_PC_WIDEF.csv')"
   ]
  },
  {
   "cell_type": "code",
   "execution_count": 4,
   "id": "3fb013a5",
   "metadata": {},
   "outputs": [],
   "source": [
    "df = df.drop(columns=[\n",
    "    'INDICATOR',\n",
    "    'INDICATOR_LABEL',\n",
    "    'UNIT_MEASURE',\n",
    "    'UNIT_MEASURE_LABEL',\n",
    "    'DATABASE_ID',\n",
    "    'DATABASE_ID_LABEL',\n",
    "    'UNIT_MULT',\n",
    "    'UNIT_MULT_LABEL',\n",
    "    'OBS_STATUS',\n",
    "    'OBS_STATUS_LABEL',\n",
    "    'OBS_CONF',\n",
    "    'OBS_CONF_LABEL',\n",
    "    'FREQ',\n",
    "    'FREQ_LABEL',\n",
    "    'REF_AREA'\n",
    "])"
   ]
  },
  {
   "cell_type": "code",
   "execution_count": 5,
   "id": "776f509b",
   "metadata": {},
   "outputs": [],
   "source": [
    "df = df.rename(columns={'REF_AREA_LABEL': 'Country'})"
   ]
  }
 ],
 "metadata": {
  "kernelspec": {
   "display_name": "Python 3",
   "language": "python",
   "name": "python3"
  },
  "language_info": {
   "codemirror_mode": {
    "name": "ipython",
    "version": 3
   },
   "file_extension": ".py",
   "mimetype": "text/x-python",
   "name": "python",
   "nbconvert_exporter": "python",
   "pygments_lexer": "ipython3",
   "version": "3.13.5"
  }
 },
 "nbformat": 4,
 "nbformat_minor": 5
}
