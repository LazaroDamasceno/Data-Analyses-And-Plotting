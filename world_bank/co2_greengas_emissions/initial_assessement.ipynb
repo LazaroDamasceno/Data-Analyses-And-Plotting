{
 "cells": [
  {
   "cell_type": "code",
   "execution_count": 1,
   "id": "f62a4764",
   "metadata": {},
   "outputs": [],
   "source": [
    "import pandas as pd"
   ]
  },
  {
   "cell_type": "code",
   "execution_count": 2,
   "id": "9ed92424",
   "metadata": {},
   "outputs": [],
   "source": [
    "df = pd.read_csv('WB_ESG_EN_ATM_CO2E_PC_WIDEF.csv')"
   ]
  },
  {
   "cell_type": "code",
   "execution_count": 3,
   "id": "2849e17c",
   "metadata": {},
   "outputs": [
    {
     "name": "stdout",
     "output_type": "stream",
     "text": [
      "<class 'pandas.core.frame.DataFrame'>\n",
      "RangeIndex: 237 entries, 0 to 236\n",
      "Data columns (total 47 columns):\n",
      " #   Column              Non-Null Count  Dtype  \n",
      "---  ------              --------------  -----  \n",
      " 0   FREQ                237 non-null    object \n",
      " 1   FREQ_LABEL          237 non-null    object \n",
      " 2   REF_AREA            237 non-null    object \n",
      " 3   REF_AREA_LABEL      237 non-null    object \n",
      " 4   INDICATOR           237 non-null    object \n",
      " 5   INDICATOR_LABEL     237 non-null    object \n",
      " 6   UNIT_MEASURE        237 non-null    object \n",
      " 7   UNIT_MEASURE_LABEL  237 non-null    object \n",
      " 8   DATABASE_ID         237 non-null    object \n",
      " 9   DATABASE_ID_LABEL   237 non-null    object \n",
      " 10  UNIT_MULT           237 non-null    int64  \n",
      " 11  UNIT_MULT_LABEL     237 non-null    object \n",
      " 12  OBS_STATUS          237 non-null    object \n",
      " 13  OBS_STATUS_LABEL    237 non-null    object \n",
      " 14  OBS_CONF            237 non-null    object \n",
      " 15  OBS_CONF_LABEL      237 non-null    object \n",
      " 16  1990                236 non-null    float64\n",
      " 17  1991                237 non-null    float64\n",
      " 18  1992                237 non-null    float64\n",
      " 19  1993                237 non-null    float64\n",
      " 20  1994                237 non-null    float64\n",
      " 21  1995                237 non-null    float64\n",
      " 22  1996                237 non-null    float64\n",
      " 23  1997                237 non-null    float64\n",
      " 24  1998                237 non-null    float64\n",
      " 25  1999                237 non-null    float64\n",
      " 26  2000                237 non-null    float64\n",
      " 27  2001                237 non-null    float64\n",
      " 28  2002                237 non-null    float64\n",
      " 29  2003                237 non-null    float64\n",
      " 30  2004                237 non-null    float64\n",
      " 31  2005                237 non-null    float64\n",
      " 32  2006                237 non-null    float64\n",
      " 33  2007                237 non-null    float64\n",
      " 34  2008                237 non-null    float64\n",
      " 35  2009                237 non-null    float64\n",
      " 36  2010                237 non-null    float64\n",
      " 37  2011                237 non-null    float64\n",
      " 38  2012                237 non-null    float64\n",
      " 39  2013                237 non-null    float64\n",
      " 40  2014                237 non-null    float64\n",
      " 41  2015                237 non-null    float64\n",
      " 42  2016                237 non-null    float64\n",
      " 43  2017                237 non-null    float64\n",
      " 44  2018                237 non-null    float64\n",
      " 45  2019                237 non-null    float64\n",
      " 46  2020                237 non-null    float64\n",
      "dtypes: float64(31), int64(1), object(15)\n",
      "memory usage: 87.2+ KB\n"
     ]
    }
   ],
   "source": [
    "df.info()"
   ]
  },
  {
   "cell_type": "code",
   "execution_count": 4,
   "id": "3fb013a5",
   "metadata": {},
   "outputs": [],
   "source": [
    "df = df.drop(columns=[\n",
    "    'INDICATOR',\n",
    "    'INDICATOR_LABEL',\n",
    "    'UNIT_MEASURE',\n",
    "    'UNIT_MEASURE_LABEL',\n",
    "    'DATABASE_ID',\n",
    "    'DATABASE_ID_LABEL',\n",
    "    'UNIT_MULT',\n",
    "    'UNIT_MULT_LABEL',\n",
    "    'OBS_STATUS',\n",
    "    'OBS_STATUS_LABEL',\n",
    "    'OBS_CONF',\n",
    "    'OBS_CONF_LABEL',\n",
    "    'FREQ',\n",
    "    'FREQ_LABEL',\n",
    "    'REF_AREA'\n",
    "])"
   ]
  },
  {
   "cell_type": "code",
   "execution_count": 5,
   "id": "776f509b",
   "metadata": {},
   "outputs": [],
   "source": [
    "df = df.rename(columns={'REF_AREA_LABEL': 'Country'})"
   ]
  },
  {
   "cell_type": "code",
   "execution_count": 6,
   "id": "34cf4b58",
   "metadata": {},
   "outputs": [
    {
     "name": "stdout",
     "output_type": "stream",
     "text": [
      "<class 'pandas.core.frame.DataFrame'>\n",
      "RangeIndex: 237 entries, 0 to 236\n",
      "Data columns (total 32 columns):\n",
      " #   Column   Non-Null Count  Dtype  \n",
      "---  ------   --------------  -----  \n",
      " 0   Country  237 non-null    object \n",
      " 1   1990     236 non-null    float64\n",
      " 2   1991     237 non-null    float64\n",
      " 3   1992     237 non-null    float64\n",
      " 4   1993     237 non-null    float64\n",
      " 5   1994     237 non-null    float64\n",
      " 6   1995     237 non-null    float64\n",
      " 7   1996     237 non-null    float64\n",
      " 8   1997     237 non-null    float64\n",
      " 9   1998     237 non-null    float64\n",
      " 10  1999     237 non-null    float64\n",
      " 11  2000     237 non-null    float64\n",
      " 12  2001     237 non-null    float64\n",
      " 13  2002     237 non-null    float64\n",
      " 14  2003     237 non-null    float64\n",
      " 15  2004     237 non-null    float64\n",
      " 16  2005     237 non-null    float64\n",
      " 17  2006     237 non-null    float64\n",
      " 18  2007     237 non-null    float64\n",
      " 19  2008     237 non-null    float64\n",
      " 20  2009     237 non-null    float64\n",
      " 21  2010     237 non-null    float64\n",
      " 22  2011     237 non-null    float64\n",
      " 23  2012     237 non-null    float64\n",
      " 24  2013     237 non-null    float64\n",
      " 25  2014     237 non-null    float64\n",
      " 26  2015     237 non-null    float64\n",
      " 27  2016     237 non-null    float64\n",
      " 28  2017     237 non-null    float64\n",
      " 29  2018     237 non-null    float64\n",
      " 30  2019     237 non-null    float64\n",
      " 31  2020     237 non-null    float64\n",
      "dtypes: float64(31), object(1)\n",
      "memory usage: 59.4+ KB\n"
     ]
    }
   ],
   "source": [
    "df.info()"
   ]
  },
  {
   "cell_type": "code",
   "execution_count": 7,
   "id": "38c5e413",
   "metadata": {},
   "outputs": [
    {
     "data": {
      "application/vnd.microsoft.datawrangler.viewer.v0+json": {
       "columns": [
        {
         "name": "index",
         "rawType": "object",
         "type": "string"
        },
        {
         "name": "0",
         "rawType": "int64",
         "type": "integer"
        }
       ],
       "ref": "213d2655-e69b-452c-aeb5-5d88fac8d953",
       "rows": [
        [
         "Country",
         "0"
        ],
        [
         "1990",
         "1"
        ],
        [
         "1991",
         "0"
        ],
        [
         "1992",
         "0"
        ],
        [
         "1993",
         "0"
        ],
        [
         "1994",
         "0"
        ],
        [
         "1995",
         "0"
        ],
        [
         "1996",
         "0"
        ],
        [
         "1997",
         "0"
        ],
        [
         "1998",
         "0"
        ],
        [
         "1999",
         "0"
        ],
        [
         "2000",
         "0"
        ],
        [
         "2001",
         "0"
        ],
        [
         "2002",
         "0"
        ],
        [
         "2003",
         "0"
        ],
        [
         "2004",
         "0"
        ],
        [
         "2005",
         "0"
        ],
        [
         "2006",
         "0"
        ],
        [
         "2007",
         "0"
        ],
        [
         "2008",
         "0"
        ],
        [
         "2009",
         "0"
        ],
        [
         "2010",
         "0"
        ],
        [
         "2011",
         "0"
        ],
        [
         "2012",
         "0"
        ],
        [
         "2013",
         "0"
        ],
        [
         "2014",
         "0"
        ],
        [
         "2015",
         "0"
        ],
        [
         "2016",
         "0"
        ],
        [
         "2017",
         "0"
        ],
        [
         "2018",
         "0"
        ],
        [
         "2019",
         "0"
        ],
        [
         "2020",
         "0"
        ]
       ],
       "shape": {
        "columns": 1,
        "rows": 32
       }
      },
      "text/plain": [
       "Country    0\n",
       "1990       1\n",
       "1991       0\n",
       "1992       0\n",
       "1993       0\n",
       "1994       0\n",
       "1995       0\n",
       "1996       0\n",
       "1997       0\n",
       "1998       0\n",
       "1999       0\n",
       "2000       0\n",
       "2001       0\n",
       "2002       0\n",
       "2003       0\n",
       "2004       0\n",
       "2005       0\n",
       "2006       0\n",
       "2007       0\n",
       "2008       0\n",
       "2009       0\n",
       "2010       0\n",
       "2011       0\n",
       "2012       0\n",
       "2013       0\n",
       "2014       0\n",
       "2015       0\n",
       "2016       0\n",
       "2017       0\n",
       "2018       0\n",
       "2019       0\n",
       "2020       0\n",
       "dtype: int64"
      ]
     },
     "execution_count": 7,
     "metadata": {},
     "output_type": "execute_result"
    }
   ],
   "source": [
    "df.isna().sum()"
   ]
  },
  {
   "cell_type": "code",
   "execution_count": null,
   "id": "e4c948f7",
   "metadata": {},
   "outputs": [],
   "source": [
    "df['Country'].fillna(0.0)"
   ]
  }
 ],
 "metadata": {
  "kernelspec": {
   "display_name": "Python 3",
   "language": "python",
   "name": "python3"
  },
  "language_info": {
   "codemirror_mode": {
    "name": "ipython",
    "version": 3
   },
   "file_extension": ".py",
   "mimetype": "text/x-python",
   "name": "python",
   "nbconvert_exporter": "python",
   "pygments_lexer": "ipython3",
   "version": "3.13.5"
  }
 },
 "nbformat": 4,
 "nbformat_minor": 5
}
