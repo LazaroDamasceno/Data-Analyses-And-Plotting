{
 "cells": [
  {
   "cell_type": "code",
   "execution_count": null,
   "id": "b61d0708-f2f2-4e22-a76e-d59181612dc2",
   "metadata": {},
   "outputs": [],
   "source": [
    "import pandas as pd\n",
    "import numpy as np\n",
    "import matplotlib.pyplot as plt"
   ]
  },
  {
   "cell_type": "code",
   "execution_count": null,
   "id": "8a764097-6548-4cc8-822c-41c49117023e",
   "metadata": {},
   "outputs": [],
   "source": [
    "df = pd.read_csv(\"ai_job_dataset.csv\")"
   ]
  },
  {
   "cell_type": "code",
   "execution_count": null,
   "id": "bb19a8bb-49a0-4074-ac21-5986b975db41",
   "metadata": {},
   "outputs": [],
   "source": [
    "df_cleaned = df.dropna()\n",
    "filter_us = df_cleaned['company_location'] == 'US'\n",
    "df_cleaned = df_cleaned[filter_us]"
   ]
  },
  {
   "cell_type": "code",
   "execution_count": null,
   "id": "7c1e93bb-4945-4ec3-8373-70a7a2d154a2",
   "metadata": {},
   "outputs": [],
   "source": [
    "df_longer = df_cleaned.melt(\n",
    "    id_vars=['experience_level', 'company_size'],\n",
    "    value_vars=\"employee_residence\",\n",
    "    value_name=\"residencies\"\n",
    ")"
   ]
  },
  {
   "cell_type": "code",
   "execution_count": null,
   "id": "13a813b7-37e2-4485-9f29-962c34476827",
   "metadata": {},
   "outputs": [],
   "source": [
    "df_pivot = df_longer.pivot_table(\n",
    "    index=['experience_level', 'company_size'],\n",
    "    columns=\"residencies\",\n",
    "    aggfunc=\"mean\"\n",
    ")\n",
    "print(df_pivot.to_markdown())"
   ]
  },
  {
   "cell_type": "code",
   "execution_count": null,
   "id": "b9050bec-77de-4f0d-b0eb-05b5282319a4",
   "metadata": {},
   "outputs": [],
   "source": [
    "df_stacked = df_pivot.stack().reset_index()"
   ]
  }
 ],
 "metadata": {
  "kernelspec": {
   "display_name": "Python 3 (ipykernel)",
   "language": "python",
   "name": "python3"
  },
  "language_info": {
   "codemirror_mode": {
    "name": "ipython",
    "version": 3
   },
   "file_extension": ".py",
   "mimetype": "text/x-python",
   "name": "python",
   "nbconvert_exporter": "python",
   "pygments_lexer": "ipython3",
   "version": "3.13.5"
  }
 },
 "nbformat": 4,
 "nbformat_minor": 5
}
