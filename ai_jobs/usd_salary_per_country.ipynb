{
 "cells": [
  {
   "cell_type": "markdown",
   "id": "10ecb95d",
   "metadata": {},
   "source": [
    "# 1. Initial Settings"
   ]
  },
  {
   "cell_type": "code",
   "execution_count": 1,
   "id": "0c38691d",
   "metadata": {},
   "outputs": [],
   "source": [
    "import pandas as pd\n",
    "import numpy as np\n",
    "import matplotlib.pyplot as plt"
   ]
  },
  {
   "cell_type": "markdown",
   "id": "2da23e7e",
   "metadata": {},
   "source": [
    "# 2. Reading the CSV file"
   ]
  },
  {
   "cell_type": "code",
   "execution_count": 2,
   "id": "1652e5fe",
   "metadata": {},
   "outputs": [],
   "source": [
    "df = pd.read_csv(\"ai_job_dataset.csv\")\n"
   ]
  },
  {
   "cell_type": "markdown",
   "id": "8dae961b",
   "metadata": {},
   "source": [
    "# 3. Removing Empty Values"
   ]
  },
  {
   "cell_type": "code",
   "execution_count": 3,
   "id": "201208c9",
   "metadata": {},
   "outputs": [],
   "source": [
    "df_cleaned = df.dropna()"
   ]
  },
  {
   "cell_type": "code",
   "execution_count": 4,
   "id": "a53fdc6b",
   "metadata": {},
   "outputs": [],
   "source": [
    "df_salary_usd_melt = df_cleaned.melt(\n",
    "    id_vars=\"company_location\",\n",
    "    value_vars=\"salary_usd\",\n",
    "    var_name=\"salaries\"\n",
    ")"
   ]
  },
  {
   "cell_type": "code",
   "execution_count": 5,
   "id": "af9375b5",
   "metadata": {},
   "outputs": [],
   "source": [
    "df_salary_usd_pivot = df_salary_usd_melt.pivot_table(\n",
    "    index=\"company_location\",\n",
    "    columns=\"salaries\",\n",
    "    aggfunc=['mean', 'min', 'max', 'count']\n",
    ")"
   ]
  },
  {
   "cell_type": "code",
   "execution_count": null,
   "id": "9cf98573",
   "metadata": {},
   "outputs": [],
   "source": []
  }
 ],
 "metadata": {
  "kernelspec": {
   "display_name": "Python 3",
   "language": "python",
   "name": "python3"
  },
  "language_info": {
   "codemirror_mode": {
    "name": "ipython",
    "version": 3
   },
   "file_extension": ".py",
   "mimetype": "text/x-python",
   "name": "python",
   "nbconvert_exporter": "python",
   "pygments_lexer": "ipython3",
   "version": "3.13.5"
  }
 },
 "nbformat": 4,
 "nbformat_minor": 5
}
