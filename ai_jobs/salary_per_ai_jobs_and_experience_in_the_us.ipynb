{
 "cells": [
  {
   "cell_type": "code",
   "execution_count": null,
   "id": "cc412675",
   "metadata": {},
   "outputs": [],
   "source": [
    "import pandas as pd\n",
    "import numpy as np\n",
    "import matplotlib.pyplot as plt"
   ]
  },
  {
   "cell_type": "code",
   "execution_count": null,
   "id": "5d334e38",
   "metadata": {},
   "outputs": [],
   "source": [
    "df = pd.read_csv(\"ai_job_dataset.csv\")"
   ]
  },
  {
   "cell_type": "code",
   "execution_count": null,
   "id": "660c95bd",
   "metadata": {},
   "outputs": [],
   "source": [
    "df_cleaned = df.dropna()"
   ]
  },
  {
   "cell_type": "code",
   "execution_count": null,
   "id": "96f70200",
   "metadata": {},
   "outputs": [],
   "source": [
    "filter = df_cleaned['company_location'] == 'United States'\n",
    "df_cleaned = df_cleaned[filter]"
   ]
  },
  {
   "cell_type": "code",
   "execution_count": null,
   "id": "c7ee997e",
   "metadata": {},
   "outputs": [],
   "source": [
    "df_longer = df_cleaned.melt(\n",
    "    id_vars=[\"job_title\", 'experience_level'],\n",
    "    value_vars=\"salary_usd\",\n",
    "    var_name=\"salaries\"\n",
    ")"
   ]
  },
  {
   "cell_type": "code",
   "execution_count": null,
   "id": "2ffc208b",
   "metadata": {},
   "outputs": [],
   "source": [
    "df_pivot = df_longer.pivot_table(\n",
    "    index=[\"job_title\", 'experience_level'],\n",
    "    columns=\"salaries\"\n",
    ")"
   ]
  },
  {
   "cell_type": "code",
   "execution_count": null,
   "id": "6ee79277",
   "metadata": {},
   "outputs": [],
   "source": [
    "df_ascending = df_pivot.sort_values(by=('value', 'salary_usd'), ascending=True)"
   ]
  },
  {
   "cell_type": "code",
   "execution_count": null,
   "id": "7247f594",
   "metadata": {},
   "outputs": [],
   "source": [
    "jobs = set(df_ascending.index.levels[0])\n",
    "xp = set(df_ascending.index.levels[1])\n",
    "\n",
    "new_df = {\n",
    "    'experience_level': xp,\n",
    "    'en': [],\n",
    "    'mi': [],\n",
    "    'se': [],\n",
    "    'ex': []\n",
    "}\n",
    "\n",
    "index = df_ascending.index\n",
    "\n",
    "for i in jobs:\n",
    "    for j in xp:\n",
    "        temp = df_ascending.loc[(i, j)]\n",
    "        if (j == 'EN'): new_df['en'].append(temp['value']['salary_usd'])\n",
    "        elif (j == 'MI'): new_df['mi'].append(temp['value']['salary_usd'])\n",
    "        elif (j == 'SE'): new_df['se'].append(temp['value']['salary_usd'])\n",
    "        else: new_df['ex'].append(temp['value']['salary_usd'])\n",
    "\n",
    "print(new_df['en'])\n",
    "\n",
    "        \n",
    "        "
   ]
  }
 ],
 "metadata": {
  "kernelspec": {
   "display_name": "Python 3",
   "language": "python",
   "name": "python3"
  },
  "language_info": {
   "codemirror_mode": {
    "name": "ipython",
    "version": 3
   },
   "file_extension": ".py",
   "mimetype": "text/x-python",
   "name": "python",
   "nbconvert_exporter": "python",
   "pygments_lexer": "ipython3",
   "version": "3.13.5"
  }
 },
 "nbformat": 4,
 "nbformat_minor": 5
}
