{
 "cells": [
  {
   "cell_type": "code",
   "execution_count": 7,
   "id": "29f93836",
   "metadata": {},
   "outputs": [],
   "source": [
    "import pandas as pd\n",
    "import numpy as np\n",
    "import matplotlib.pyplot as plt"
   ]
  },
  {
   "cell_type": "code",
   "execution_count": 8,
   "id": "45fecae5",
   "metadata": {},
   "outputs": [],
   "source": [
    "df = pd.read_csv('ai_job_dataset.csv')"
   ]
  },
  {
   "cell_type": "code",
   "execution_count": 9,
   "id": "51ae4250",
   "metadata": {},
   "outputs": [],
   "source": [
    "df_cleaned = df.dropna()"
   ]
  },
  {
   "cell_type": "code",
   "execution_count": 10,
   "id": "fc98efff",
   "metadata": {},
   "outputs": [],
   "source": [
    "filter_usd = (df_cleaned['salary_currency'] == 'USD') & (df_cleaned['company_location'] == 'United States')\n",
    "df_filtered_usd = df_cleaned[filter_usd]"
   ]
  },
  {
   "cell_type": "code",
   "execution_count": 11,
   "id": "b4db12a9",
   "metadata": {},
   "outputs": [],
   "source": [
    "df_longer = df_filtered_usd.melt(\n",
    "    id_vars=[\"job_title\", 'experience_level'],\n",
    "    value_vars=\"salary_usd\",\n",
    "    var_name=\"salaries\"\n",
    ")"
   ]
  },
  {
   "cell_type": "code",
   "execution_count": 12,
   "id": "c205d9da",
   "metadata": {},
   "outputs": [],
   "source": [
    "df_pivot = df_longer.pivot_table(\n",
    "    index=[\"job_title\", 'experience_level'],\n",
    "    columns=\"salaries\",\n",
    "    aggfunc=[\"mean\", 'max', 'min', 'count']\n",
    ")"
   ]
  }
 ],
 "metadata": {
  "kernelspec": {
   "display_name": "Python 3",
   "language": "python",
   "name": "python3"
  },
  "language_info": {
   "codemirror_mode": {
    "name": "ipython",
    "version": 3
   },
   "file_extension": ".py",
   "mimetype": "text/x-python",
   "name": "python",
   "nbconvert_exporter": "python",
   "pygments_lexer": "ipython3",
   "version": "3.13.5"
  }
 },
 "nbformat": 4,
 "nbformat_minor": 5
}
