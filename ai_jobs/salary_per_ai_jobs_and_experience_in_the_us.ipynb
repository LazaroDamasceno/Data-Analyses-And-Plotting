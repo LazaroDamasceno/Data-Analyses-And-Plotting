{
 "cells": [
  {
   "cell_type": "code",
   "execution_count": null,
   "id": "cc412675",
   "metadata": {},
   "outputs": [],
   "source": [
    "import pandas as pd\n",
    "import numpy as np\n",
    "import matplotlib.pyplot as plt"
   ]
  },
  {
   "cell_type": "code",
   "execution_count": null,
   "id": "5d334e38",
   "metadata": {},
   "outputs": [],
   "source": [
    "df = pd.read_csv(\"ai_job_dataset.csv\")"
   ]
  },
  {
   "cell_type": "code",
   "execution_count": null,
   "id": "660c95bd",
   "metadata": {},
   "outputs": [],
   "source": [
    "df_cleaned = df.dropna()"
   ]
  },
  {
   "cell_type": "code",
   "execution_count": null,
   "id": "96f70200",
   "metadata": {},
   "outputs": [],
   "source": [
    "filter = df_cleaned['company_location'] == 'United States'\n",
    "df_cleaned = df_cleaned[filter]"
   ]
  },
  {
   "cell_type": "code",
   "execution_count": null,
   "id": "c7ee997e",
   "metadata": {},
   "outputs": [],
   "source": [
    "df_longer = df_cleaned.melt(\n",
    "    id_vars=[\"job_title\", 'experience_level'],\n",
    "    value_vars=\"salary_usd\",\n",
    "    var_name=\"salaries\"\n",
    ")"
   ]
  },
  {
   "cell_type": "code",
   "execution_count": null,
   "id": "2ffc208b",
   "metadata": {},
   "outputs": [],
   "source": [
    "df_pivot = df_longer.pivot_table(\n",
    "    index=[\"job_title\", 'experience_level'],\n",
    "    columns=\"salaries\",\n",
    "    aggfunc=\"mean\"\n",
    ")"
   ]
  },
  {
   "cell_type": "code",
   "execution_count": null,
   "id": "c3ecaf71",
   "metadata": {},
   "outputs": [],
   "source": [
    "new_df = df_pivot.stack().reset_index()"
   ]
  }
 ],
 "metadata": {
  "kernelspec": {
   "display_name": "Python 3",
   "language": "python",
   "name": "python3"
  },
  "language_info": {
   "codemirror_mode": {
    "name": "ipython",
    "version": 3
   },
   "file_extension": ".py",
   "mimetype": "text/x-python",
   "name": "python",
   "nbconvert_exporter": "python",
   "pygments_lexer": "ipython3",
   "version": "3.13.5"
  }
 },
 "nbformat": 4,
 "nbformat_minor": 5
}
