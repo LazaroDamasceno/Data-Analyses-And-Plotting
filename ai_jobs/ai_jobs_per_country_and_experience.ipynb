{
 "cells": [
  {
   "cell_type": "code",
   "execution_count": null,
   "id": "6d5449eb",
   "metadata": {},
   "outputs": [],
   "source": [
    "import pandas as pd\n",
    "import seaborn as sns\n",
    "import matplotlib.pyplot as plt\n",
    "\n",
    "df = pd.read_csv(\"\")\n",
    "df_cleaned = df.dropna()\n",
    "\n",
    "df_grouped = df_cleaned.groupby([''])\n",
    "df_grouped = None\n",
    "df_grouped = df_grouped.reset_index(name='value')\n",
    "\n",
    "print(df_grouped.to_markdown())"
   ]
  },
  {
   "cell_type": "code",
   "execution_count": null,
   "id": "eb2ee795",
   "metadata": {},
   "outputs": [],
   "source": [
    "df_sorted = df_grouped.sort_values(by=('value'), ascending=False)\n",
    "df_sorted = df_sorted.reset_index(drop=True)\n",
    "\n",
    "print(df_sorted.to_markdown())"
   ]
  },
  {
   "cell_type": "markdown",
   "id": "154205d6",
   "metadata": {},
   "source": [
    "fig, ax = plt.subplots(figsize=(12, 8))\n",
    "\n",
    "sns.barplot(data=df_sorted, orient='h', ax=ax, x='value', y='')\n",
    "\n",
    "#ax.bar_label(ax.containers[0])\n",
    "#for container in ax.containers: ax.bar_label(container, fmt=\"%.0f\")\n",
    "\n",
    "ax.bar_label(ax.containers[0])\n",
    "ax.set_title(\"\", fontweight=\"bold\")\n",
    "ax.set_ylabel(\"\")\n",
    "ax.xaxis.set_visible(False)\n",
    "ax.spines[['top', 'right', 'bottom']].set_visible(False)\n",
    "\n",
    "plt.tight_layout()\n",
    "plt.show()"
   ]
  }
 ],
 "metadata": {
  "kernelspec": {
   "display_name": "Python 3",
   "language": "python",
   "name": "python3"
  },
  "language_info": {
   "codemirror_mode": {
    "name": "ipython",
    "version": 3
   },
   "file_extension": ".py",
   "mimetype": "text/x-python",
   "name": "python",
   "nbconvert_exporter": "python",
   "pygments_lexer": "ipython3",
   "version": "3.13.5"
  }
 },
 "nbformat": 4,
 "nbformat_minor": 5
}
