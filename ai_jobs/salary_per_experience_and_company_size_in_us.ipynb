{
 "cells": [
  {
   "cell_type": "code",
   "execution_count": 20,
   "id": "b61d0708-f2f2-4e22-a76e-d59181612dc2",
   "metadata": {},
   "outputs": [],
   "source": [
    "import pandas as pd\n",
    "import numpy as np\n",
    "import matplotlib.pyplot as plt"
   ]
  },
  {
   "cell_type": "code",
   "execution_count": 21,
   "id": "8a764097-6548-4cc8-822c-41c49117023e",
   "metadata": {},
   "outputs": [],
   "source": [
    "df = pd.read_csv(\"ai_job_dataset.csv\")"
   ]
  },
  {
   "cell_type": "code",
   "execution_count": 22,
   "id": "bb19a8bb-49a0-4074-ac21-5986b975db41",
   "metadata": {},
   "outputs": [],
   "source": [
    "df_cleaned = df.dropna()\n",
    "filter = df_cleaned['company_location'] == 'United States'\n",
    "df_cleaned = df_cleaned[filter]"
   ]
  },
  {
   "cell_type": "code",
   "execution_count": 23,
   "id": "7c1e93bb-4945-4ec3-8373-70a7a2d154a2",
   "metadata": {},
   "outputs": [],
   "source": [
    "df_longer = df_cleaned.melt(\n",
    "    id_vars=['experience_level', 'company_size'],\n",
    "    value_vars=\"salary_usd\",\n",
    "    var_name=\"salary\"\n",
    ")"
   ]
  },
  {
   "cell_type": "code",
   "execution_count": 24,
   "id": "7465c139-c3b0-4636-b19f-006c17d49f75",
   "metadata": {},
   "outputs": [],
   "source": [
    "df_pivot = df_longer.pivot_table(\n",
    "    index=['experience_level', 'company_size'],\n",
    "    columns='salary',\n",
    "    aggfunc='mean'\n",
    ")"
   ]
  }
 ],
 "metadata": {
  "kernelspec": {
   "display_name": "Python 3 (ipykernel)",
   "language": "python",
   "name": "python3"
  },
  "language_info": {
   "codemirror_mode": {
    "name": "ipython",
    "version": 3
   },
   "file_extension": ".py",
   "mimetype": "text/x-python",
   "name": "python",
   "nbconvert_exporter": "python",
   "pygments_lexer": "ipython3",
   "version": "3.13.5"
  }
 },
 "nbformat": 4,
 "nbformat_minor": 5
}
