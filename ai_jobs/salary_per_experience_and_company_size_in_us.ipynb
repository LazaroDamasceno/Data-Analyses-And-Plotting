{
 "cells": [
  {
   "cell_type": "code",
   "execution_count": 4,
   "id": "b61d0708-f2f2-4e22-a76e-d59181612dc2",
   "metadata": {},
   "outputs": [],
   "source": [
    "import pandas as pd\n",
    "import numpy as np\n",
    "import matplotlib.pyplot as plt"
   ]
  },
  {
   "cell_type": "raw",
   "id": "8a764097-6548-4cc8-822c-41c49117023e",
   "metadata": {
    "vscode": {
     "languageId": "raw"
    }
   },
   "source": [
    "df = pd.read_csv(\"ai_job_dataset.csv\")\n",
    "print(df.info())"
   ]
  },
  {
   "cell_type": "markdown",
   "id": "dc3e71d0-e722-4c06-916b-91df1d5c5c2b",
   "metadata": {},
   "source": [
    "df_cleaned = df.dropna()\n",
    "filter_us = df_cleaned['company_location'] == 'US'\n",
    "df_cleaned = df_cleaned[filter_us]"
   ]
  },
  {
   "cell_type": "markdown",
   "id": "6f849de2-8958-4d0e-85ad-0f32be5e558a",
   "metadata": {},
   "source": [
    "df_longer = df_cleaned.melt(\n",
    "    id_vars=['experience_level', 'company_size'],\n",
    "    value_vars=\"employee_residence\",\n",
    "    value_name=\"residencies\"\n",
    ")"
   ]
  }
 ],
 "metadata": {
  "kernelspec": {
   "display_name": "Python 3",
   "language": "python",
   "name": "python3"
  },
  "language_info": {
   "codemirror_mode": {
    "name": "ipython",
    "version": 3
   },
   "file_extension": ".py",
   "mimetype": "text/x-python",
   "name": "python",
   "nbconvert_exporter": "python",
   "pygments_lexer": "ipython3",
   "version": "3.13.5"
  }
 },
 "nbformat": 4,
 "nbformat_minor": 5
}
