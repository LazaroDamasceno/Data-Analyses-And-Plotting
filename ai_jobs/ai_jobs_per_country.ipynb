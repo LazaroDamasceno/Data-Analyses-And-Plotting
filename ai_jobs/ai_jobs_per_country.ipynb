{
 "cells": [
  {
   "cell_type": "markdown",
   "id": "5821b180",
   "metadata": {},
   "source": [
    "#  1. Initial Settings"
   ]
  },
  {
   "cell_type": "code",
   "execution_count": 6,
   "id": "84c38620",
   "metadata": {},
   "outputs": [],
   "source": [
    "import pandas as pd\n",
    "import numpy as np\n",
    "import matplotlib.pyplot as plt"
   ]
  },
  {
   "cell_type": "markdown",
   "id": "a7992712",
   "metadata": {},
   "source": [
    "# 2. Reading the CSV file"
   ]
  },
  {
   "cell_type": "code",
   "execution_count": 7,
   "id": "1835ecc5",
   "metadata": {},
   "outputs": [],
   "source": [
    "df = pd.read_csv(\"ai_job_dataset.csv\")"
   ]
  },
  {
   "cell_type": "markdown",
   "id": "7ef03d74",
   "metadata": {},
   "source": [
    "# 3. Removing Empty Value"
   ]
  },
  {
   "cell_type": "code",
   "execution_count": 8,
   "id": "d9517cd6",
   "metadata": {},
   "outputs": [],
   "source": [
    "df_cleaned = df.dropna()"
   ]
  },
  {
   "cell_type": "markdown",
   "id": "05e7613a",
   "metadata": {},
   "source": [
    "# 4. Unpivoting Data"
   ]
  },
  {
   "cell_type": "code",
   "execution_count": 9,
   "id": "772a575b",
   "metadata": {},
   "outputs": [],
   "source": [
    "df_longer = df_cleaned.melt(\n",
    "    id_vars=\"company_location\",\n",
    "    value_vars=\"job_title\",\n",
    "    var_name=\"jobs\"\n",
    ")"
   ]
  },
  {
   "cell_type": "markdown",
   "id": "bab27200",
   "metadata": {},
   "source": [
    "# 5. Pivoting Data"
   ]
  },
  {
   "cell_type": "code",
   "execution_count": 10,
   "id": "2ac02943",
   "metadata": {},
   "outputs": [],
   "source": [
    "df_pivot = df_longer.pivot_table(\n",
    "    index=\"company_location\",\n",
    "    columns=\"jobs\",\n",
    "    aggfunc='sum'\n",
    ")"
   ]
  }
 ],
 "metadata": {
  "kernelspec": {
   "display_name": "Python 3",
   "language": "python",
   "name": "python3"
  },
  "language_info": {
   "codemirror_mode": {
    "name": "ipython",
    "version": 3
   },
   "file_extension": ".py",
   "mimetype": "text/x-python",
   "name": "python",
   "nbconvert_exporter": "python",
   "pygments_lexer": "ipython3",
   "version": "3.13.5"
  }
 },
 "nbformat": 4,
 "nbformat_minor": 5
}
