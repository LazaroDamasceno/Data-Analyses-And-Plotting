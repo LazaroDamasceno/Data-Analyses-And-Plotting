{
 "cells": [
  {
   "cell_type": "code",
   "execution_count": null,
   "id": "1da16171",
   "metadata": {},
   "outputs": [],
   "source": [
    "import pandas as pd\n",
    "import numpy as np\n",
    "import matplotlib.pyplot as plt"
   ]
  },
  {
   "cell_type": "code",
   "execution_count": null,
   "id": "13061b49",
   "metadata": {},
   "outputs": [],
   "source": [
    "df = pd.read_csv(\"ai_job_dataset.csv\")"
   ]
  },
  {
   "cell_type": "code",
   "execution_count": null,
   "id": "d58f8d3b",
   "metadata": {},
   "outputs": [],
   "source": [
    "df_cleaned = df.dropna()"
   ]
  },
  {
   "cell_type": "code",
   "execution_count": null,
   "id": "6674ff1a",
   "metadata": {},
   "outputs": [],
   "source": [
    "df_longer = df_cleaned.melt(\n",
    "    id_vars=\"job_title\",\n",
    "    value_vars=\"salary_usd\",\n",
    "    var_name=\"salaries\"\n",
    ")"
   ]
  },
  {
   "cell_type": "code",
   "execution_count": null,
   "id": "834c8f52",
   "metadata": {},
   "outputs": [],
   "source": [
    "df_pivot = df_longer.pivot_table(\n",
    "    index=\"job_title\",\n",
    "    columns=\"salaries\",\n",
    "    aggfunc=[\"mean\", 'max', 'min']\n",
    ")"
   ]
  },
  {
   "cell_type": "code",
   "execution_count": null,
   "id": "deec0c94",
   "metadata": {},
   "outputs": [],
   "source": [
    "df_ascending_mean = df_pivot.sort_values(by=('mean', 'value', 'salary_usd'), ascending=True)\n",
    "df_ascending_max = df_pivot.sort_values(by=('max', 'value', 'salary_usd'), ascending=True)\n",
    "df_ascending_min = df_pivot.sort_values(by=('min', 'value', 'salary_usd'), ascending=True)"
   ]
  },
  {
   "cell_type": "code",
   "execution_count": null,
   "id": "ce199094",
   "metadata": {},
   "outputs": [],
   "source": []
  }
 ],
 "metadata": {
  "kernelspec": {
   "display_name": "Python 3",
   "language": "python",
   "name": "python3"
  },
  "language_info": {
   "codemirror_mode": {
    "name": "ipython",
    "version": 3
   },
   "file_extension": ".py",
   "mimetype": "text/x-python",
   "name": "python",
   "nbconvert_exporter": "python",
   "pygments_lexer": "ipython3",
   "version": "3.13.5"
  }
 },
 "nbformat": 4,
 "nbformat_minor": 5
}
