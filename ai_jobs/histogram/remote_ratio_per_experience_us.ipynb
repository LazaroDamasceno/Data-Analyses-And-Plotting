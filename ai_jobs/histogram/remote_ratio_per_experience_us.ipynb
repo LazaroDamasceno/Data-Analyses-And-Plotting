{
 "cells": [
  {
   "cell_type": "code",
   "execution_count": null,
   "id": "da719207",
   "metadata": {},
   "outputs": [],
   "source": [
    "import kagglehub\n",
    "from kagglehub import KaggleDatasetAdapter\n",
    "import seaborn as sns\n",
    "import matplotlib.pyplot as plt\n",
    "\n",
    "file_path = \"ai_job_dataset.csv\"\n",
    "df = kagglehub.load_dataset(\n",
    "  KaggleDatasetAdapter.PANDAS,\n",
    "  \"bismasajjad/global-ai-job-market-and-salary-trends-2025\",\n",
    "  file_path,\n",
    ")\n",
    "df_cleaned = df.dropna()\n",
    "\n",
    "filter = df_cleaned['company_location'] == 'United States'\n",
    "df_cleaned = df_cleaned[filter]\n",
    "\n",
    "df_grouped = df_cleaned.groupby(['remote_ratio', 'experience_level']).size().reset_index(name='value')\n",
    "\n",
    "df_sorted = df_grouped.sort_values(by=('value'), ascending=False)\n",
    "df_sorted = df_sorted.reset_index(drop=True)"
   ]
  }
 ],
 "metadata": {
  "kernelspec": {
   "display_name": "Python 3",
   "language": "python",
   "name": "python3"
  },
  "language_info": {
   "codemirror_mode": {
    "name": "ipython",
    "version": 3
   },
   "file_extension": ".py",
   "mimetype": "text/x-python",
   "name": "python",
   "nbconvert_exporter": "python",
   "pygments_lexer": "ipython3",
   "version": "3.13.5"
  }
 },
 "nbformat": 4,
 "nbformat_minor": 5
}
