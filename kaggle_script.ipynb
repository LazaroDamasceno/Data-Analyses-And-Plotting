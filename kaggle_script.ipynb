{
 "cells": [
  {
   "cell_type": "code",
   "execution_count": null,
   "id": "0b7afaab",
   "metadata": {},
   "outputs": [],
   "source": [
    "import kagglehub\n",
    "from kagglehub import KaggleDatasetAdapter\n",
    "import seaborn as sns\n",
    "import matplotlib.pyplot as plt"
   ]
  },
  {
   "cell_type": "code",
   "execution_count": null,
   "id": "d2117a77",
   "metadata": {},
   "outputs": [],
   "source": [
    "file_path = None\n",
    "df = None"
   ]
  },
  {
   "cell_type": "code",
   "execution_count": null,
   "id": "8c4f5299",
   "metadata": {},
   "outputs": [],
   "source": [
    "#filter = df['company_location'] == 'United States'\n",
    "#df = df[filter]"
   ]
  },
  {
   "cell_type": "code",
   "execution_count": null,
   "id": "22a1b2e9",
   "metadata": {},
   "outputs": [],
   "source": [
    "df_grouped = df.groupby([''])"
   ]
  },
  {
   "cell_type": "code",
   "execution_count": null,
   "id": "08af6fed",
   "metadata": {},
   "outputs": [],
   "source": [
    "#df_sorted = df_grouped.sort_values(by=(''), ascending=False).reset_index(drop=True)"
   ]
  },
  {
   "cell_type": "code",
   "execution_count": null,
   "id": "ffbf4d47",
   "metadata": {},
   "outputs": [],
   "source": [
    "fig, ax = plt.subplots(figsize=(12, 8))\n",
    "\n",
    "#ax.bar_label(ax.containers[0])\n",
    "#for container in ax.containers: ax.bar_label(container, fmt=\"%.0f\")\n",
    "\n",
    "ax.set_title(\"\", fontweight=\"bold\")\n",
    "ax.set_ylabel(\"\")\n",
    "#sns.despine()\n",
    "#sns.despine(bottom=True)\n",
    "ax.legend(title=\"\")\n",
    "\n",
    "plt.tight_layout()\n",
    "plt.show()"
   ]
  }
 ],
 "metadata": {
  "language_info": {
   "name": "python"
  }
 },
 "nbformat": 4,
 "nbformat_minor": 5
}
