{
 "cells": [
  {
   "cell_type": "markdown",
   "id": "1881e536-ecda-431e-8090-97a5817bf747",
   "metadata": {},
   "source": [
    "IMPORTAÇAO DAS BIBLIOTECAS"
   ]
  },
  {
   "cell_type": "code",
   "execution_count": 1,
   "id": "e5e46076-bf49-443b-a375-45fa11ac6add",
   "metadata": {},
   "outputs": [],
   "source": [
    "import pandas as pd\n",
    "import numpy as np\n",
    "import janitor"
   ]
  },
  {
   "cell_type": "markdown",
   "id": "a9105ea9-61f8-45b7-a019-526be2bc0051",
   "metadata": {},
   "source": [
    "DATASET: QUANTITATIVO DE PROPOSTAS DE PROJETOS POR ANO E ÁREA CULTURAL"
   ]
  },
  {
   "cell_type": "code",
   "execution_count": 2,
   "id": "e7927074-b382-4c60-8d95-b76d0e6c1cb0",
   "metadata": {},
   "outputs": [],
   "source": [
    "df = pd.read_excel('grid_Qtde_Proposta_Transformada_Por_Ano_Area.xlsx')"
   ]
  },
  {
   "cell_type": "code",
   "execution_count": 3,
   "id": "bef18a25-8903-443b-8746-c82461e0a50b",
   "metadata": {},
   "outputs": [
    {
     "data": {
      "text/html": [
       "<div>\n",
       "<style scoped>\n",
       "    .dataframe tbody tr th:only-of-type {\n",
       "        vertical-align: middle;\n",
       "    }\n",
       "\n",
       "    .dataframe tbody tr th {\n",
       "        vertical-align: top;\n",
       "    }\n",
       "\n",
       "    .dataframe thead th {\n",
       "        text-align: right;\n",
       "    }\n",
       "</style>\n",
       "<table border=\"1\" class=\"dataframe\">\n",
       "  <thead>\n",
       "    <tr style=\"text-align: right;\">\n",
       "      <th></th>\n",
       "      <th>Área Cultural</th>\n",
       "      <th>2.009</th>\n",
       "      <th>2.01</th>\n",
       "      <th>2.011</th>\n",
       "      <th>2.012</th>\n",
       "      <th>2.013</th>\n",
       "      <th>2.014</th>\n",
       "      <th>2.015</th>\n",
       "      <th>2.016</th>\n",
       "      <th>2.017</th>\n",
       "      <th>2.018</th>\n",
       "      <th>2.019</th>\n",
       "      <th>2.02</th>\n",
       "      <th>2.021</th>\n",
       "      <th>2.022</th>\n",
       "      <th>2.023</th>\n",
       "      <th>2.024</th>\n",
       "      <th>2.025</th>\n",
       "      <th>Total</th>\n",
       "    </tr>\n",
       "  </thead>\n",
       "  <tbody>\n",
       "    <tr>\n",
       "      <th>0</th>\n",
       "      <td>NaN</td>\n",
       "      <td>Qtde</td>\n",
       "      <td>Qtde</td>\n",
       "      <td>Qtde</td>\n",
       "      <td>Qtde</td>\n",
       "      <td>Qtde</td>\n",
       "      <td>Qtde</td>\n",
       "      <td>Qtde</td>\n",
       "      <td>Qtde</td>\n",
       "      <td>Qtde</td>\n",
       "      <td>Qtde</td>\n",
       "      <td>Qtde</td>\n",
       "      <td>Qtde</td>\n",
       "      <td>Qtde</td>\n",
       "      <td>Qtde</td>\n",
       "      <td>Qtde</td>\n",
       "      <td>Qtde</td>\n",
       "      <td>Qtde</td>\n",
       "      <td>Qtde</td>\n",
       "    </tr>\n",
       "    <tr>\n",
       "      <th>1</th>\n",
       "      <td>Artes Cênicas</td>\n",
       "      <td>1305</td>\n",
       "      <td>1975</td>\n",
       "      <td>2029</td>\n",
       "      <td>1811</td>\n",
       "      <td>2094</td>\n",
       "      <td>2270</td>\n",
       "      <td>2193</td>\n",
       "      <td>1506</td>\n",
       "      <td>1862</td>\n",
       "      <td>1826</td>\n",
       "      <td>1252</td>\n",
       "      <td>1727</td>\n",
       "      <td>677</td>\n",
       "      <td>845</td>\n",
       "      <td>3619</td>\n",
       "      <td>4409</td>\n",
       "      <td>2258</td>\n",
       "      <td>33658</td>\n",
       "    </tr>\n",
       "    <tr>\n",
       "      <th>2</th>\n",
       "      <td>Artes Integradas</td>\n",
       "      <td>1111</td>\n",
       "      <td>878</td>\n",
       "      <td>622</td>\n",
       "      <td>NaN</td>\n",
       "      <td>NaN</td>\n",
       "      <td>NaN</td>\n",
       "      <td>NaN</td>\n",
       "      <td>NaN</td>\n",
       "      <td>NaN</td>\n",
       "      <td>NaN</td>\n",
       "      <td>NaN</td>\n",
       "      <td>NaN</td>\n",
       "      <td>NaN</td>\n",
       "      <td>NaN</td>\n",
       "      <td>NaN</td>\n",
       "      <td>NaN</td>\n",
       "      <td>NaN</td>\n",
       "      <td>2611</td>\n",
       "    </tr>\n",
       "    <tr>\n",
       "      <th>3</th>\n",
       "      <td>Artes Visuais</td>\n",
       "      <td>289</td>\n",
       "      <td>543</td>\n",
       "      <td>577</td>\n",
       "      <td>532</td>\n",
       "      <td>690</td>\n",
       "      <td>697</td>\n",
       "      <td>633</td>\n",
       "      <td>372</td>\n",
       "      <td>454</td>\n",
       "      <td>526</td>\n",
       "      <td>298</td>\n",
       "      <td>426</td>\n",
       "      <td>260</td>\n",
       "      <td>273</td>\n",
       "      <td>1267</td>\n",
       "      <td>1695</td>\n",
       "      <td>987</td>\n",
       "      <td>10519</td>\n",
       "    </tr>\n",
       "    <tr>\n",
       "      <th>4</th>\n",
       "      <td>Audiovisual</td>\n",
       "      <td>454</td>\n",
       "      <td>685</td>\n",
       "      <td>974</td>\n",
       "      <td>750</td>\n",
       "      <td>631</td>\n",
       "      <td>605</td>\n",
       "      <td>539</td>\n",
       "      <td>468</td>\n",
       "      <td>393</td>\n",
       "      <td>462</td>\n",
       "      <td>441</td>\n",
       "      <td>515</td>\n",
       "      <td>493</td>\n",
       "      <td>244</td>\n",
       "      <td>638</td>\n",
       "      <td>1419</td>\n",
       "      <td>1005</td>\n",
       "      <td>10716</td>\n",
       "    </tr>\n",
       "  </tbody>\n",
       "</table>\n",
       "</div>"
      ],
      "text/plain": [
       "      Área Cultural 2.009  2.01 2.011 2.012 2.013 2.014 2.015 2.016 2.017  \\\n",
       "0               NaN  Qtde  Qtde  Qtde  Qtde  Qtde  Qtde  Qtde  Qtde  Qtde   \n",
       "1     Artes Cênicas  1305  1975  2029  1811  2094  2270  2193  1506  1862   \n",
       "2  Artes Integradas  1111   878   622   NaN   NaN   NaN   NaN   NaN   NaN   \n",
       "3     Artes Visuais   289   543   577   532   690   697   633   372   454   \n",
       "4       Audiovisual   454   685   974   750   631   605   539   468   393   \n",
       "\n",
       "  2.018 2.019  2.02 2.021 2.022 2.023 2.024 2.025  Total  \n",
       "0  Qtde  Qtde  Qtde  Qtde  Qtde  Qtde  Qtde  Qtde   Qtde  \n",
       "1  1826  1252  1727   677   845  3619  4409  2258  33658  \n",
       "2   NaN   NaN   NaN   NaN   NaN   NaN   NaN   NaN   2611  \n",
       "3   526   298   426   260   273  1267  1695   987  10519  \n",
       "4   462   441   515   493   244   638  1419  1005  10716  "
      ]
     },
     "execution_count": 3,
     "metadata": {},
     "output_type": "execute_result"
    }
   ],
   "source": [
    "df.head()"
   ]
  },
  {
   "cell_type": "code",
   "execution_count": 4,
   "id": "f966ef9d-6aff-41ed-a5be-744f363504bf",
   "metadata": {},
   "outputs": [
    {
     "data": {
      "text/plain": [
       "Área Cultural    object\n",
       "2.009            object\n",
       "2.01             object\n",
       "2.011            object\n",
       "2.012            object\n",
       "2.013            object\n",
       "2.014            object\n",
       "2.015            object\n",
       "2.016            object\n",
       "2.017            object\n",
       "2.018            object\n",
       "2.019            object\n",
       "2.02             object\n",
       "2.021            object\n",
       "2.022            object\n",
       "2.023            object\n",
       "2.024            object\n",
       "2.025            object\n",
       "Total            object\n",
       "dtype: object"
      ]
     },
     "execution_count": 4,
     "metadata": {},
     "output_type": "execute_result"
    }
   ],
   "source": [
    "df.dtypes"
   ]
  },
  {
   "cell_type": "code",
   "execution_count": 5,
   "id": "659255b7-ae75-43b7-8b87-aba7437d4259",
   "metadata": {},
   "outputs": [],
   "source": [
    "df = df.iloc[1:, :].reset_index(drop=True)"
   ]
  },
  {
   "cell_type": "code",
   "execution_count": 6,
   "id": "2d5f296d-d776-474b-b9e1-051d7c95075a",
   "metadata": {},
   "outputs": [
    {
     "data": {
      "text/plain": [
       "Área Cultural    object\n",
       "2.009            object\n",
       "2.01             object\n",
       "2.011            object\n",
       "2.012            object\n",
       "2.013            object\n",
       "2.014            object\n",
       "2.015            object\n",
       "2.016            object\n",
       "2.017            object\n",
       "2.018            object\n",
       "2.019            object\n",
       "2.02             object\n",
       "2.021            object\n",
       "2.022            object\n",
       "2.023            object\n",
       "2.024            object\n",
       "2.025            object\n",
       "Total            object\n",
       "dtype: object"
      ]
     },
     "execution_count": 6,
     "metadata": {},
     "output_type": "execute_result"
    }
   ],
   "source": [
    "df.dtypes"
   ]
  },
  {
   "cell_type": "markdown",
   "id": "ac38e052-963f-42d9-9b16-b30540bd877a",
   "metadata": {},
   "source": [
    "LIMPEZA E TRANSFORMAÇÃO DE DADOS"
   ]
  },
  {
   "cell_type": "code",
   "execution_count": 7,
   "id": "2246e90c-4bb1-41e1-8834-84c080143778",
   "metadata": {},
   "outputs": [
    {
     "data": {
      "text/plain": [
       "array([2.009, 2.01 , 2.011, 2.012, 2.013, 2.014, 2.015, 2.016, 2.017,\n",
       "       2.018, 2.019, 2.02 , 2.021, 2.022, 2.023, 2.024, 2.025])"
      ]
     },
     "execution_count": 7,
     "metadata": {},
     "output_type": "execute_result"
    }
   ],
   "source": [
    "pt_flutuante = np.round(np.arange(2.009, 2.026, 0.001), decimals=4)\n",
    "pt_flutuante"
   ]
  },
  {
   "cell_type": "code",
   "execution_count": 8,
   "id": "cb20cc6b-ce15-47ce-a263-69650db66391",
   "metadata": {},
   "outputs": [
    {
     "data": {
      "text/plain": [
       "array([2009, 2010, 2011, 2012, 2013, 2014, 2015, 2016, 2017, 2018, 2019,\n",
       "       2020, 2021, 2022, 2023, 2024, 2025])"
      ]
     },
     "execution_count": 8,
     "metadata": {},
     "output_type": "execute_result"
    }
   ],
   "source": [
    "anos_int = np.arange(2009, 2026)\n",
    "anos_int"
   ]
  },
  {
   "cell_type": "code",
   "execution_count": 9,
   "id": "534275e7-5fde-49f3-8b90-1a07d9fdfb0e",
   "metadata": {
    "scrolled": true
   },
   "outputs": [
    {
     "data": {
      "text/plain": [
       "{np.float64(2.009): np.int64(2009),\n",
       " np.float64(2.01): np.int64(2010),\n",
       " np.float64(2.011): np.int64(2011),\n",
       " np.float64(2.012): np.int64(2012),\n",
       " np.float64(2.013): np.int64(2013),\n",
       " np.float64(2.014): np.int64(2014),\n",
       " np.float64(2.015): np.int64(2015),\n",
       " np.float64(2.016): np.int64(2016),\n",
       " np.float64(2.017): np.int64(2017),\n",
       " np.float64(2.018): np.int64(2018),\n",
       " np.float64(2.019): np.int64(2019),\n",
       " np.float64(2.02): np.int64(2020),\n",
       " np.float64(2.021): np.int64(2021),\n",
       " np.float64(2.022): np.int64(2022),\n",
       " np.float64(2.023): np.int64(2023),\n",
       " np.float64(2.024): np.int64(2024),\n",
       " np.float64(2.025): np.int64(2025)}"
      ]
     },
     "execution_count": 9,
     "metadata": {},
     "output_type": "execute_result"
    }
   ],
   "source": [
    "anos = dict(zip(pt_flutuante, anos_int))\n",
    "anos"
   ]
  },
  {
   "cell_type": "code",
   "execution_count": 10,
   "id": "5baa0e55-b738-46e6-a3b5-ac3dcb55d235",
   "metadata": {},
   "outputs": [],
   "source": [
    "df = df.rename(columns=anos)"
   ]
  },
  {
   "cell_type": "code",
   "execution_count": 11,
   "id": "0391da51-2a4c-4050-bccb-3ddf0e642781",
   "metadata": {},
   "outputs": [
    {
     "data": {
      "text/html": [
       "<div>\n",
       "<style scoped>\n",
       "    .dataframe tbody tr th:only-of-type {\n",
       "        vertical-align: middle;\n",
       "    }\n",
       "\n",
       "    .dataframe tbody tr th {\n",
       "        vertical-align: top;\n",
       "    }\n",
       "\n",
       "    .dataframe thead th {\n",
       "        text-align: right;\n",
       "    }\n",
       "</style>\n",
       "<table border=\"1\" class=\"dataframe\">\n",
       "  <thead>\n",
       "    <tr style=\"text-align: right;\">\n",
       "      <th></th>\n",
       "      <th>Área Cultural</th>\n",
       "      <th>2009</th>\n",
       "      <th>2010</th>\n",
       "      <th>2011</th>\n",
       "      <th>2012</th>\n",
       "      <th>2013</th>\n",
       "      <th>2014</th>\n",
       "      <th>2015</th>\n",
       "      <th>2016</th>\n",
       "      <th>2017</th>\n",
       "      <th>2018</th>\n",
       "      <th>2019</th>\n",
       "      <th>2020</th>\n",
       "      <th>2021</th>\n",
       "      <th>2022</th>\n",
       "      <th>2023</th>\n",
       "      <th>2024</th>\n",
       "      <th>2025</th>\n",
       "      <th>Total</th>\n",
       "    </tr>\n",
       "  </thead>\n",
       "  <tbody>\n",
       "    <tr>\n",
       "      <th>0</th>\n",
       "      <td>Artes Cênicas</td>\n",
       "      <td>1305</td>\n",
       "      <td>1975</td>\n",
       "      <td>2029</td>\n",
       "      <td>1811</td>\n",
       "      <td>2094</td>\n",
       "      <td>2270</td>\n",
       "      <td>2193</td>\n",
       "      <td>1506</td>\n",
       "      <td>1862</td>\n",
       "      <td>1826</td>\n",
       "      <td>1252</td>\n",
       "      <td>1727</td>\n",
       "      <td>677</td>\n",
       "      <td>845</td>\n",
       "      <td>3619</td>\n",
       "      <td>4409</td>\n",
       "      <td>2258</td>\n",
       "      <td>33658</td>\n",
       "    </tr>\n",
       "    <tr>\n",
       "      <th>1</th>\n",
       "      <td>Artes Integradas</td>\n",
       "      <td>1111</td>\n",
       "      <td>878</td>\n",
       "      <td>622</td>\n",
       "      <td>NaN</td>\n",
       "      <td>NaN</td>\n",
       "      <td>NaN</td>\n",
       "      <td>NaN</td>\n",
       "      <td>NaN</td>\n",
       "      <td>NaN</td>\n",
       "      <td>NaN</td>\n",
       "      <td>NaN</td>\n",
       "      <td>NaN</td>\n",
       "      <td>NaN</td>\n",
       "      <td>NaN</td>\n",
       "      <td>NaN</td>\n",
       "      <td>NaN</td>\n",
       "      <td>NaN</td>\n",
       "      <td>2611</td>\n",
       "    </tr>\n",
       "    <tr>\n",
       "      <th>2</th>\n",
       "      <td>Artes Visuais</td>\n",
       "      <td>289</td>\n",
       "      <td>543</td>\n",
       "      <td>577</td>\n",
       "      <td>532</td>\n",
       "      <td>690</td>\n",
       "      <td>697</td>\n",
       "      <td>633</td>\n",
       "      <td>372</td>\n",
       "      <td>454</td>\n",
       "      <td>526</td>\n",
       "      <td>298</td>\n",
       "      <td>426</td>\n",
       "      <td>260</td>\n",
       "      <td>273</td>\n",
       "      <td>1267</td>\n",
       "      <td>1695</td>\n",
       "      <td>987</td>\n",
       "      <td>10519</td>\n",
       "    </tr>\n",
       "    <tr>\n",
       "      <th>3</th>\n",
       "      <td>Audiovisual</td>\n",
       "      <td>454</td>\n",
       "      <td>685</td>\n",
       "      <td>974</td>\n",
       "      <td>750</td>\n",
       "      <td>631</td>\n",
       "      <td>605</td>\n",
       "      <td>539</td>\n",
       "      <td>468</td>\n",
       "      <td>393</td>\n",
       "      <td>462</td>\n",
       "      <td>441</td>\n",
       "      <td>515</td>\n",
       "      <td>493</td>\n",
       "      <td>244</td>\n",
       "      <td>638</td>\n",
       "      <td>1419</td>\n",
       "      <td>1005</td>\n",
       "      <td>10716</td>\n",
       "    </tr>\n",
       "    <tr>\n",
       "      <th>4</th>\n",
       "      <td>Humanidades</td>\n",
       "      <td>950</td>\n",
       "      <td>1422</td>\n",
       "      <td>1168</td>\n",
       "      <td>1017</td>\n",
       "      <td>1296</td>\n",
       "      <td>1094</td>\n",
       "      <td>1031</td>\n",
       "      <td>707</td>\n",
       "      <td>677</td>\n",
       "      <td>846</td>\n",
       "      <td>529</td>\n",
       "      <td>618</td>\n",
       "      <td>456</td>\n",
       "      <td>388</td>\n",
       "      <td>1476</td>\n",
       "      <td>1928</td>\n",
       "      <td>1061</td>\n",
       "      <td>16664</td>\n",
       "    </tr>\n",
       "  </tbody>\n",
       "</table>\n",
       "</div>"
      ],
      "text/plain": [
       "      Área Cultural  2009  2010  2011  2012  2013  2014  2015  2016  2017  \\\n",
       "0     Artes Cênicas  1305  1975  2029  1811  2094  2270  2193  1506  1862   \n",
       "1  Artes Integradas  1111   878   622   NaN   NaN   NaN   NaN   NaN   NaN   \n",
       "2     Artes Visuais   289   543   577   532   690   697   633   372   454   \n",
       "3       Audiovisual   454   685   974   750   631   605   539   468   393   \n",
       "4       Humanidades   950  1422  1168  1017  1296  1094  1031   707   677   \n",
       "\n",
       "   2018  2019  2020 2021 2022  2023  2024  2025  Total  \n",
       "0  1826  1252  1727  677  845  3619  4409  2258  33658  \n",
       "1   NaN   NaN   NaN  NaN  NaN   NaN   NaN   NaN   2611  \n",
       "2   526   298   426  260  273  1267  1695   987  10519  \n",
       "3   462   441   515  493  244   638  1419  1005  10716  \n",
       "4   846   529   618  456  388  1476  1928  1061  16664  "
      ]
     },
     "execution_count": 11,
     "metadata": {},
     "output_type": "execute_result"
    }
   ],
   "source": [
    "df.head()"
   ]
  },
  {
   "cell_type": "code",
   "execution_count": 12,
   "id": "6d405a89-d7d3-4a14-b91e-74e6c7b9bc64",
   "metadata": {},
   "outputs": [
    {
     "name": "stderr",
     "output_type": "stream",
     "text": [
      "C:\\Users\\lazar\\AppData\\Local\\Temp\\ipykernel_5796\\3475559988.py:1: FutureWarning: Downcasting object dtype arrays on .fillna, .ffill, .bfill is deprecated and will change in a future version. Call result.infer_objects(copy=False) instead. To opt-in to the future behavior, set `pd.set_option('future.no_silent_downcasting', True)`\n",
      "  df = df.fillna(0)\n"
     ]
    }
   ],
   "source": [
    "df = df.fillna(0)"
   ]
  },
  {
   "cell_type": "code",
   "execution_count": 13,
   "id": "622319cc-3854-4b1a-993e-a3ecc49072d1",
   "metadata": {},
   "outputs": [
    {
     "data": {
      "text/plain": [
       "Área Cultural    object\n",
       "2009              int64\n",
       "2010              int64\n",
       "2011              int64\n",
       "2012              int64\n",
       "2013              int64\n",
       "2014              int64\n",
       "2015              int64\n",
       "2016              int64\n",
       "2017              int64\n",
       "2018              int64\n",
       "2019              int64\n",
       "2020              int64\n",
       "2021              int64\n",
       "2022              int64\n",
       "2023              int64\n",
       "2024              int64\n",
       "2025              int64\n",
       "Total             int64\n",
       "dtype: object"
      ]
     },
     "execution_count": 13,
     "metadata": {},
     "output_type": "execute_result"
    }
   ],
   "source": [
    "df.dtypes"
   ]
  },
  {
   "cell_type": "code",
   "execution_count": 14,
   "id": "70bb0b9f-a7d8-4636-91c8-4d8a26d36c01",
   "metadata": {},
   "outputs": [],
   "source": [
    "df = df.clean_names()"
   ]
  },
  {
   "cell_type": "code",
   "execution_count": 15,
   "id": "361d045e-7e6e-438d-98ad-5d5abb4acfe3",
   "metadata": {},
   "outputs": [
    {
     "data": {
      "text/plain": [
       "Index(['area_cultural', '2009', '2010', '2011', '2012', '2013', '2014', '2015',\n",
       "       '2016', '2017', '2018', '2019', '2020', '2021', '2022', '2023', '2024',\n",
       "       '2025', 'total'],\n",
       "      dtype='object')"
      ]
     },
     "execution_count": 15,
     "metadata": {},
     "output_type": "execute_result"
    }
   ],
   "source": [
    "df.columns"
   ]
  },
  {
   "cell_type": "code",
   "execution_count": 16,
   "id": "d6f15438-f728-4ff8-bc99-b38f5343ccf9",
   "metadata": {},
   "outputs": [],
   "source": [
    "df = df.melt(\n",
    "    id_vars='area_cultural',\n",
    "    value_vars=[str(x) for x in range(2009, 2025)],\n",
    "    var_name='ano',\n",
    "    value_name='qtd_propostas_transformadas'\n",
    ")"
   ]
  },
  {
   "cell_type": "code",
   "execution_count": 17,
   "id": "0ebda401-c2f1-4c6d-968a-ee1fd6531b46",
   "metadata": {},
   "outputs": [
    {
     "data": {
      "text/html": [
       "<div>\n",
       "<style scoped>\n",
       "    .dataframe tbody tr th:only-of-type {\n",
       "        vertical-align: middle;\n",
       "    }\n",
       "\n",
       "    .dataframe tbody tr th {\n",
       "        vertical-align: top;\n",
       "    }\n",
       "\n",
       "    .dataframe thead th {\n",
       "        text-align: right;\n",
       "    }\n",
       "</style>\n",
       "<table border=\"1\" class=\"dataframe\">\n",
       "  <thead>\n",
       "    <tr style=\"text-align: right;\">\n",
       "      <th></th>\n",
       "      <th>area_cultural</th>\n",
       "      <th>ano</th>\n",
       "      <th>qtd_propostas_transformadas</th>\n",
       "    </tr>\n",
       "  </thead>\n",
       "  <tbody>\n",
       "    <tr>\n",
       "      <th>0</th>\n",
       "      <td>Artes Cênicas</td>\n",
       "      <td>2009</td>\n",
       "      <td>1305</td>\n",
       "    </tr>\n",
       "    <tr>\n",
       "      <th>1</th>\n",
       "      <td>Artes Integradas</td>\n",
       "      <td>2009</td>\n",
       "      <td>1111</td>\n",
       "    </tr>\n",
       "    <tr>\n",
       "      <th>2</th>\n",
       "      <td>Artes Visuais</td>\n",
       "      <td>2009</td>\n",
       "      <td>289</td>\n",
       "    </tr>\n",
       "    <tr>\n",
       "      <th>3</th>\n",
       "      <td>Audiovisual</td>\n",
       "      <td>2009</td>\n",
       "      <td>454</td>\n",
       "    </tr>\n",
       "    <tr>\n",
       "      <th>4</th>\n",
       "      <td>Humanidades</td>\n",
       "      <td>2009</td>\n",
       "      <td>950</td>\n",
       "    </tr>\n",
       "  </tbody>\n",
       "</table>\n",
       "</div>"
      ],
      "text/plain": [
       "      area_cultural   ano  qtd_propostas_transformadas\n",
       "0     Artes Cênicas  2009                         1305\n",
       "1  Artes Integradas  2009                         1111\n",
       "2     Artes Visuais  2009                          289\n",
       "3       Audiovisual  2009                          454\n",
       "4       Humanidades  2009                          950"
      ]
     },
     "execution_count": 17,
     "metadata": {},
     "output_type": "execute_result"
    }
   ],
   "source": [
    "df.head()"
   ]
  },
  {
   "cell_type": "code",
   "execution_count": 18,
   "id": "917d7217-e926-4ba3-a4c9-93ec33ffc33d",
   "metadata": {},
   "outputs": [
    {
     "data": {
      "text/plain": [
       "area_cultural                  object\n",
       "ano                            object\n",
       "qtd_propostas_transformadas     int64\n",
       "dtype: object"
      ]
     },
     "execution_count": 18,
     "metadata": {},
     "output_type": "execute_result"
    }
   ],
   "source": [
    "df.dtypes"
   ]
  },
  {
   "cell_type": "code",
   "execution_count": 19,
   "id": "74c02fb7-06a7-47e1-a8cf-a3e208a5c49b",
   "metadata": {},
   "outputs": [],
   "source": [
    "df['ano'] = df['ano'].astype(np.int64)"
   ]
  },
  {
   "cell_type": "code",
   "execution_count": 20,
   "id": "d8ca6d02-31a4-4f2b-a563-ea68c6253543",
   "metadata": {},
   "outputs": [
    {
     "data": {
      "text/plain": [
       "area_cultural                  object\n",
       "ano                             int64\n",
       "qtd_propostas_transformadas     int64\n",
       "dtype: object"
      ]
     },
     "execution_count": 20,
     "metadata": {},
     "output_type": "execute_result"
    }
   ],
   "source": [
    "df.dtypes"
   ]
  },
  {
   "cell_type": "code",
   "execution_count": 21,
   "id": "ef81b574-2353-45b5-b92e-a69378550517",
   "metadata": {},
   "outputs": [],
   "source": [
    "df.to_csv('qtd_propostas_transformadas.csv', index=False)"
   ]
  }
 ],
 "metadata": {
  "kernelspec": {
   "display_name": "Python [conda env:base] *",
   "language": "python",
   "name": "conda-base-py"
  },
  "language_info": {
   "codemirror_mode": {
    "name": "ipython",
    "version": 3
   },
   "file_extension": ".py",
   "mimetype": "text/x-python",
   "name": "python",
   "nbconvert_exporter": "python",
   "pygments_lexer": "ipython3",
   "version": "3.13.5"
  }
 },
 "nbformat": 4,
 "nbformat_minor": 5
}
