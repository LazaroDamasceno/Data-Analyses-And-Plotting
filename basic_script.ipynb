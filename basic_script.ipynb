{
 "cells": [
  {
   "cell_type": "code",
   "execution_count": null,
   "id": "0b7afaab",
   "metadata": {},
   "outputs": [],
   "source": [
    "import pandas as pd\n",
    "import seaborn as sns\n",
    "import matplotlib.pyplot as plt\n",
    "\n",
    "df = pd.read_csv(\"\")\n",
    "df_cleaned = df.dropna()\n",
    "\n",
    "#filter = df_cleaned['company_location'] == 'United States'\n",
    "#df_cleaned = df_cleaned[filter]\n",
    "\n",
    "df_grouped = df_cleaned.groupby([''])\n",
    "df_grouped = None\n",
    "df_grouped = df_grouped.reset_index(name='value')\n",
    "\n",
    "df_sorted = df_grouped.sort_values(by=('value'), ascending=False)\n",
    "df_sorted = df_sorted.reset_index(drop=True)"
   ]
  },
  {
   "cell_type": "code",
   "execution_count": null,
   "id": "ffbf4d47",
   "metadata": {},
   "outputs": [],
   "source": [
    "fig, ax = plt.subplots(figsize=(12, 8))\n",
    "\n",
    "sns.barplot(data=df_sorted, orient='h', ax=ax, x='value', y='')\n",
    "\n",
    "#ax.bar_label(ax.containers[0])\n",
    "#for container in ax.containers: ax.bar_label(container, fmt=\"%.0f\")\n",
    "\n",
    "ax.bar_label(ax.containers[0])\n",
    "ax.set_title(\"\", fontweight=\"bold\")\n",
    "ax.set_ylabel(\"\")\n",
    "ax.xaxis.set_visible(False)\n",
    "ax.spines[['top', 'right', 'bottom']].set_visible(False)\n",
    "ax.legend(title=\"\")\n",
    "\n",
    "plt.tight_layout()\n",
    "plt.show()"
   ]
  }
 ],
 "metadata": {
  "language_info": {
   "name": "python"
  }
 },
 "nbformat": 4,
 "nbformat_minor": 5
}
