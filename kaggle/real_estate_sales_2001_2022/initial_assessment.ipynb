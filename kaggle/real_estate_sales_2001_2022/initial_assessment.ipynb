{
 "cells": [
  {
   "cell_type": "code",
   "execution_count": 1,
   "id": "7fc59a0d",
   "metadata": {},
   "outputs": [],
   "source": [
    "import pandas as pd\n",
    "from sklearn.preprocessing import OrdinalEncoder\n",
    "import matplotlib.pyplot as plt\n",
    "import seaborn as sns"
   ]
  },
  {
   "cell_type": "code",
   "execution_count": 2,
   "id": "4e5fa6b1",
   "metadata": {},
   "outputs": [
    {
     "name": "stderr",
     "output_type": "stream",
     "text": [
      "C:\\Users\\lazar\\AppData\\Local\\Temp\\ipykernel_4936\\2150459603.py:1: DtypeWarning: Columns (8,9,10,11,12) have mixed types. Specify dtype option on import or set low_memory=False.\n",
      "  df = pd.read_csv('Real_Estate_Sales_2001-2022_GL.csv')\n"
     ]
    }
   ],
   "source": [
    "df = pd.read_csv('Real_Estate_Sales_2001-2022_GL.csv')"
   ]
  },
  {
   "cell_type": "code",
   "execution_count": 3,
   "id": "2017e34a",
   "metadata": {},
   "outputs": [
    {
     "name": "stdout",
     "output_type": "stream",
     "text": [
      "<class 'pandas.core.frame.DataFrame'>\n",
      "RangeIndex: 1097629 entries, 0 to 1097628\n",
      "Data columns (total 14 columns):\n",
      " #   Column            Non-Null Count    Dtype  \n",
      "---  ------            --------------    -----  \n",
      " 0   Serial Number     1097629 non-null  int64  \n",
      " 1   List Year         1097629 non-null  int64  \n",
      " 2   Date Recorded     1097627 non-null  object \n",
      " 3   Town              1097629 non-null  object \n",
      " 4   Address           1097578 non-null  object \n",
      " 5   Assessed Value    1097629 non-null  float64\n",
      " 6   Sale Amount       1097629 non-null  float64\n",
      " 7   Sales Ratio       1097629 non-null  float64\n",
      " 8   Property Type     715183 non-null   object \n",
      " 9   Residential Type  699240 non-null   object \n",
      " 10  Non Use Code      313451 non-null   object \n",
      " 11  Assessor Remarks  171228 non-null   object \n",
      " 12  OPM remarks       13031 non-null    object \n",
      " 13  Location          298111 non-null   object \n",
      "dtypes: float64(3), int64(2), object(9)\n",
      "memory usage: 117.2+ MB\n"
     ]
    }
   ],
   "source": [
    "df.info()"
   ]
  },
  {
   "cell_type": "code",
   "execution_count": 4,
   "id": "22c9e823",
   "metadata": {},
   "outputs": [
    {
     "data": {
      "application/vnd.microsoft.datawrangler.viewer.v0+json": {
       "columns": [
        {
         "name": "index",
         "rawType": "int64",
         "type": "integer"
        },
        {
         "name": "Serial Number",
         "rawType": "int64",
         "type": "integer"
        },
        {
         "name": "List Year",
         "rawType": "int64",
         "type": "integer"
        },
        {
         "name": "Date Recorded",
         "rawType": "object",
         "type": "string"
        },
        {
         "name": "Town",
         "rawType": "object",
         "type": "string"
        },
        {
         "name": "Address",
         "rawType": "object",
         "type": "string"
        },
        {
         "name": "Assessed Value",
         "rawType": "float64",
         "type": "float"
        },
        {
         "name": "Sale Amount",
         "rawType": "float64",
         "type": "float"
        },
        {
         "name": "Sales Ratio",
         "rawType": "float64",
         "type": "float"
        },
        {
         "name": "Property Type",
         "rawType": "object",
         "type": "string"
        },
        {
         "name": "Residential Type",
         "rawType": "object",
         "type": "unknown"
        },
        {
         "name": "Non Use Code",
         "rawType": "object",
         "type": "unknown"
        },
        {
         "name": "Assessor Remarks",
         "rawType": "object",
         "type": "unknown"
        },
        {
         "name": "OPM remarks",
         "rawType": "object",
         "type": "unknown"
        },
        {
         "name": "Location",
         "rawType": "object",
         "type": "unknown"
        }
       ],
       "ref": "b49c5e6f-bef7-465f-8eae-e1a462f1bf40",
       "rows": [
        [
         "0",
         "2020177",
         "2020",
         "04/14/2021",
         "Ansonia",
         "323 BEAVER ST",
         "133000.0",
         "248400.0",
         "0.5354",
         "Residential",
         "Single Family",
         null,
         null,
         null,
         "POINT (-73.06822 41.35014)"
        ],
        [
         "1",
         "2020225",
         "2020",
         "05/26/2021",
         "Ansonia",
         "152 JACKSON ST",
         "110500.0",
         "239900.0",
         "0.4606",
         "Residential",
         "Three Family",
         null,
         null,
         null,
         null
        ],
        [
         "2",
         "2020348",
         "2020",
         "09/13/2021",
         "Ansonia",
         "230 WAKELEE AVE",
         "150500.0",
         "325000.0",
         "0.463",
         "Commercial",
         null,
         null,
         null,
         null,
         null
        ],
        [
         "3",
         "2020090",
         "2020",
         "12/14/2020",
         "Ansonia",
         "57 PLATT ST",
         "127400.0",
         "202500.0",
         "0.6291",
         "Residential",
         "Two Family",
         null,
         null,
         null,
         null
        ],
        [
         "4",
         "210288",
         "2021",
         "06/20/2022",
         "Avon",
         "12 BYRON DRIVE",
         "179990.0",
         "362500.0",
         "0.4965",
         "Residential",
         "Condo",
         null,
         null,
         null,
         "POINT (-72.879115982 41.773452988)"
        ],
        [
         "5",
         "200500",
         "2020",
         "09/07/2021",
         "Avon",
         "245 NEW ROAD",
         "217640.0",
         "400000.0",
         "0.5441",
         "Residential",
         "Single Family",
         null,
         null,
         null,
         null
        ],
        [
         "6",
         "200121",
         "2020",
         "12/15/2020",
         "Avon",
         "63 NORTHGATE",
         "528490.0",
         "775000.0",
         "0.6819",
         "Residential",
         "Single Family",
         null,
         null,
         null,
         "POINT (-72.89675 41.79445)"
        ],
        [
         "7",
         "20058",
         "2020",
         "06/01/2021",
         "Barkhamsted",
         "46 RATLUM MTN RD",
         "203530.0",
         "415000.0",
         "0.490433735",
         "Residential",
         "Single Family",
         null,
         "2003 COLONIAL, 2140 SFLA, 2.99 AC",
         null,
         null
        ],
        [
         "8",
         "200046",
         "2020",
         "01/25/2021",
         "Beacon Falls",
         "34 LASKY ROAD",
         "158030.0",
         "243000.0",
         "0.6503",
         "Residential",
         "Single Family",
         null,
         null,
         null,
         null
        ],
        [
         "9",
         "200016",
         "2020",
         "11/13/2020",
         "Beacon Falls",
         "9 AVON COURT",
         "65590.0",
         "100000.0",
         "0.6559",
         "Residential",
         "Condo",
         null,
         null,
         null,
         null
        ]
       ],
       "shape": {
        "columns": 14,
        "rows": 10
       }
      },
      "text/html": [
       "<div>\n",
       "<style scoped>\n",
       "    .dataframe tbody tr th:only-of-type {\n",
       "        vertical-align: middle;\n",
       "    }\n",
       "\n",
       "    .dataframe tbody tr th {\n",
       "        vertical-align: top;\n",
       "    }\n",
       "\n",
       "    .dataframe thead th {\n",
       "        text-align: right;\n",
       "    }\n",
       "</style>\n",
       "<table border=\"1\" class=\"dataframe\">\n",
       "  <thead>\n",
       "    <tr style=\"text-align: right;\">\n",
       "      <th></th>\n",
       "      <th>Serial Number</th>\n",
       "      <th>List Year</th>\n",
       "      <th>Date Recorded</th>\n",
       "      <th>Town</th>\n",
       "      <th>Address</th>\n",
       "      <th>Assessed Value</th>\n",
       "      <th>Sale Amount</th>\n",
       "      <th>Sales Ratio</th>\n",
       "      <th>Property Type</th>\n",
       "      <th>Residential Type</th>\n",
       "      <th>Non Use Code</th>\n",
       "      <th>Assessor Remarks</th>\n",
       "      <th>OPM remarks</th>\n",
       "      <th>Location</th>\n",
       "    </tr>\n",
       "  </thead>\n",
       "  <tbody>\n",
       "    <tr>\n",
       "      <th>0</th>\n",
       "      <td>2020177</td>\n",
       "      <td>2020</td>\n",
       "      <td>04/14/2021</td>\n",
       "      <td>Ansonia</td>\n",
       "      <td>323 BEAVER ST</td>\n",
       "      <td>133000.0</td>\n",
       "      <td>248400.0</td>\n",
       "      <td>0.535400</td>\n",
       "      <td>Residential</td>\n",
       "      <td>Single Family</td>\n",
       "      <td>NaN</td>\n",
       "      <td>NaN</td>\n",
       "      <td>NaN</td>\n",
       "      <td>POINT (-73.06822 41.35014)</td>\n",
       "    </tr>\n",
       "    <tr>\n",
       "      <th>1</th>\n",
       "      <td>2020225</td>\n",
       "      <td>2020</td>\n",
       "      <td>05/26/2021</td>\n",
       "      <td>Ansonia</td>\n",
       "      <td>152 JACKSON ST</td>\n",
       "      <td>110500.0</td>\n",
       "      <td>239900.0</td>\n",
       "      <td>0.460600</td>\n",
       "      <td>Residential</td>\n",
       "      <td>Three Family</td>\n",
       "      <td>NaN</td>\n",
       "      <td>NaN</td>\n",
       "      <td>NaN</td>\n",
       "      <td>NaN</td>\n",
       "    </tr>\n",
       "    <tr>\n",
       "      <th>2</th>\n",
       "      <td>2020348</td>\n",
       "      <td>2020</td>\n",
       "      <td>09/13/2021</td>\n",
       "      <td>Ansonia</td>\n",
       "      <td>230 WAKELEE AVE</td>\n",
       "      <td>150500.0</td>\n",
       "      <td>325000.0</td>\n",
       "      <td>0.463000</td>\n",
       "      <td>Commercial</td>\n",
       "      <td>NaN</td>\n",
       "      <td>NaN</td>\n",
       "      <td>NaN</td>\n",
       "      <td>NaN</td>\n",
       "      <td>NaN</td>\n",
       "    </tr>\n",
       "    <tr>\n",
       "      <th>3</th>\n",
       "      <td>2020090</td>\n",
       "      <td>2020</td>\n",
       "      <td>12/14/2020</td>\n",
       "      <td>Ansonia</td>\n",
       "      <td>57 PLATT ST</td>\n",
       "      <td>127400.0</td>\n",
       "      <td>202500.0</td>\n",
       "      <td>0.629100</td>\n",
       "      <td>Residential</td>\n",
       "      <td>Two Family</td>\n",
       "      <td>NaN</td>\n",
       "      <td>NaN</td>\n",
       "      <td>NaN</td>\n",
       "      <td>NaN</td>\n",
       "    </tr>\n",
       "    <tr>\n",
       "      <th>4</th>\n",
       "      <td>210288</td>\n",
       "      <td>2021</td>\n",
       "      <td>06/20/2022</td>\n",
       "      <td>Avon</td>\n",
       "      <td>12 BYRON DRIVE</td>\n",
       "      <td>179990.0</td>\n",
       "      <td>362500.0</td>\n",
       "      <td>0.496500</td>\n",
       "      <td>Residential</td>\n",
       "      <td>Condo</td>\n",
       "      <td>NaN</td>\n",
       "      <td>NaN</td>\n",
       "      <td>NaN</td>\n",
       "      <td>POINT (-72.879115982 41.773452988)</td>\n",
       "    </tr>\n",
       "    <tr>\n",
       "      <th>5</th>\n",
       "      <td>200500</td>\n",
       "      <td>2020</td>\n",
       "      <td>09/07/2021</td>\n",
       "      <td>Avon</td>\n",
       "      <td>245 NEW ROAD</td>\n",
       "      <td>217640.0</td>\n",
       "      <td>400000.0</td>\n",
       "      <td>0.544100</td>\n",
       "      <td>Residential</td>\n",
       "      <td>Single Family</td>\n",
       "      <td>NaN</td>\n",
       "      <td>NaN</td>\n",
       "      <td>NaN</td>\n",
       "      <td>NaN</td>\n",
       "    </tr>\n",
       "    <tr>\n",
       "      <th>6</th>\n",
       "      <td>200121</td>\n",
       "      <td>2020</td>\n",
       "      <td>12/15/2020</td>\n",
       "      <td>Avon</td>\n",
       "      <td>63 NORTHGATE</td>\n",
       "      <td>528490.0</td>\n",
       "      <td>775000.0</td>\n",
       "      <td>0.681900</td>\n",
       "      <td>Residential</td>\n",
       "      <td>Single Family</td>\n",
       "      <td>NaN</td>\n",
       "      <td>NaN</td>\n",
       "      <td>NaN</td>\n",
       "      <td>POINT (-72.89675 41.79445)</td>\n",
       "    </tr>\n",
       "    <tr>\n",
       "      <th>7</th>\n",
       "      <td>20058</td>\n",
       "      <td>2020</td>\n",
       "      <td>06/01/2021</td>\n",
       "      <td>Barkhamsted</td>\n",
       "      <td>46 RATLUM MTN RD</td>\n",
       "      <td>203530.0</td>\n",
       "      <td>415000.0</td>\n",
       "      <td>0.490434</td>\n",
       "      <td>Residential</td>\n",
       "      <td>Single Family</td>\n",
       "      <td>NaN</td>\n",
       "      <td>2003 COLONIAL, 2140 SFLA, 2.99 AC</td>\n",
       "      <td>NaN</td>\n",
       "      <td>NaN</td>\n",
       "    </tr>\n",
       "    <tr>\n",
       "      <th>8</th>\n",
       "      <td>200046</td>\n",
       "      <td>2020</td>\n",
       "      <td>01/25/2021</td>\n",
       "      <td>Beacon Falls</td>\n",
       "      <td>34 LASKY ROAD</td>\n",
       "      <td>158030.0</td>\n",
       "      <td>243000.0</td>\n",
       "      <td>0.650300</td>\n",
       "      <td>Residential</td>\n",
       "      <td>Single Family</td>\n",
       "      <td>NaN</td>\n",
       "      <td>NaN</td>\n",
       "      <td>NaN</td>\n",
       "      <td>NaN</td>\n",
       "    </tr>\n",
       "    <tr>\n",
       "      <th>9</th>\n",
       "      <td>200016</td>\n",
       "      <td>2020</td>\n",
       "      <td>11/13/2020</td>\n",
       "      <td>Beacon Falls</td>\n",
       "      <td>9 AVON COURT</td>\n",
       "      <td>65590.0</td>\n",
       "      <td>100000.0</td>\n",
       "      <td>0.655900</td>\n",
       "      <td>Residential</td>\n",
       "      <td>Condo</td>\n",
       "      <td>NaN</td>\n",
       "      <td>NaN</td>\n",
       "      <td>NaN</td>\n",
       "      <td>NaN</td>\n",
       "    </tr>\n",
       "  </tbody>\n",
       "</table>\n",
       "</div>"
      ],
      "text/plain": [
       "   Serial Number  List Year Date Recorded          Town           Address  \\\n",
       "0        2020177       2020    04/14/2021       Ansonia     323 BEAVER ST   \n",
       "1        2020225       2020    05/26/2021       Ansonia    152 JACKSON ST   \n",
       "2        2020348       2020    09/13/2021       Ansonia   230 WAKELEE AVE   \n",
       "3        2020090       2020    12/14/2020       Ansonia       57 PLATT ST   \n",
       "4         210288       2021    06/20/2022          Avon    12 BYRON DRIVE   \n",
       "5         200500       2020    09/07/2021          Avon      245 NEW ROAD   \n",
       "6         200121       2020    12/15/2020          Avon      63 NORTHGATE   \n",
       "7          20058       2020    06/01/2021   Barkhamsted  46 RATLUM MTN RD   \n",
       "8         200046       2020    01/25/2021  Beacon Falls     34 LASKY ROAD   \n",
       "9         200016       2020    11/13/2020  Beacon Falls      9 AVON COURT   \n",
       "\n",
       "   Assessed Value  Sale Amount  Sales Ratio Property Type Residential Type  \\\n",
       "0        133000.0     248400.0     0.535400   Residential    Single Family   \n",
       "1        110500.0     239900.0     0.460600   Residential     Three Family   \n",
       "2        150500.0     325000.0     0.463000    Commercial              NaN   \n",
       "3        127400.0     202500.0     0.629100   Residential       Two Family   \n",
       "4        179990.0     362500.0     0.496500   Residential            Condo   \n",
       "5        217640.0     400000.0     0.544100   Residential    Single Family   \n",
       "6        528490.0     775000.0     0.681900   Residential    Single Family   \n",
       "7        203530.0     415000.0     0.490434   Residential    Single Family   \n",
       "8        158030.0     243000.0     0.650300   Residential    Single Family   \n",
       "9         65590.0     100000.0     0.655900   Residential            Condo   \n",
       "\n",
       "  Non Use Code                   Assessor Remarks OPM remarks  \\\n",
       "0          NaN                                NaN         NaN   \n",
       "1          NaN                                NaN         NaN   \n",
       "2          NaN                                NaN         NaN   \n",
       "3          NaN                                NaN         NaN   \n",
       "4          NaN                                NaN         NaN   \n",
       "5          NaN                                NaN         NaN   \n",
       "6          NaN                                NaN         NaN   \n",
       "7          NaN  2003 COLONIAL, 2140 SFLA, 2.99 AC         NaN   \n",
       "8          NaN                                NaN         NaN   \n",
       "9          NaN                                NaN         NaN   \n",
       "\n",
       "                             Location  \n",
       "0          POINT (-73.06822 41.35014)  \n",
       "1                                 NaN  \n",
       "2                                 NaN  \n",
       "3                                 NaN  \n",
       "4  POINT (-72.879115982 41.773452988)  \n",
       "5                                 NaN  \n",
       "6          POINT (-72.89675 41.79445)  \n",
       "7                                 NaN  \n",
       "8                                 NaN  \n",
       "9                                 NaN  "
      ]
     },
     "execution_count": 4,
     "metadata": {},
     "output_type": "execute_result"
    }
   ],
   "source": [
    "df.head(10)"
   ]
  },
  {
   "cell_type": "code",
   "execution_count": 5,
   "id": "a2d1c99a",
   "metadata": {},
   "outputs": [],
   "source": [
    "df_reduced = df.drop(columns=[\n",
    "    'Non Use Code', \n",
    "    'Assessor Remarks', \n",
    "    'OPM remarks', \n",
    "    'Location', \n",
    "    'Date Recorded',\n",
    "    'Serial Number'\n",
    "]).copy()"
   ]
  },
  {
   "cell_type": "code",
   "execution_count": 6,
   "id": "3a5c5350",
   "metadata": {},
   "outputs": [
    {
     "name": "stdout",
     "output_type": "stream",
     "text": [
      "<class 'pandas.core.frame.DataFrame'>\n",
      "RangeIndex: 1097629 entries, 0 to 1097628\n",
      "Data columns (total 8 columns):\n",
      " #   Column            Non-Null Count    Dtype  \n",
      "---  ------            --------------    -----  \n",
      " 0   List Year         1097629 non-null  int64  \n",
      " 1   Town              1097629 non-null  object \n",
      " 2   Address           1097578 non-null  object \n",
      " 3   Assessed Value    1097629 non-null  float64\n",
      " 4   Sale Amount       1097629 non-null  float64\n",
      " 5   Sales Ratio       1097629 non-null  float64\n",
      " 6   Property Type     715183 non-null   object \n",
      " 7   Residential Type  699240 non-null   object \n",
      "dtypes: float64(3), int64(1), object(4)\n",
      "memory usage: 67.0+ MB\n"
     ]
    }
   ],
   "source": [
    "df_reduced.info()"
   ]
  },
  {
   "cell_type": "code",
   "execution_count": 7,
   "id": "1bc375af",
   "metadata": {},
   "outputs": [
    {
     "data": {
      "application/vnd.microsoft.datawrangler.viewer.v0+json": {
       "columns": [
        {
         "name": "index",
         "rawType": "object",
         "type": "string"
        },
        {
         "name": "0",
         "rawType": "int64",
         "type": "integer"
        }
       ],
       "ref": "bcebb805-a0e9-4bda-a19c-a087544f7dfe",
       "rows": [
        [
         "List Year",
         "0"
        ],
        [
         "Town",
         "0"
        ],
        [
         "Address",
         "51"
        ],
        [
         "Assessed Value",
         "0"
        ],
        [
         "Sale Amount",
         "0"
        ],
        [
         "Sales Ratio",
         "0"
        ],
        [
         "Property Type",
         "382446"
        ],
        [
         "Residential Type",
         "398389"
        ]
       ],
       "shape": {
        "columns": 1,
        "rows": 8
       }
      },
      "text/plain": [
       "List Year                0\n",
       "Town                     0\n",
       "Address                 51\n",
       "Assessed Value           0\n",
       "Sale Amount              0\n",
       "Sales Ratio              0\n",
       "Property Type       382446\n",
       "Residential Type    398389\n",
       "dtype: int64"
      ]
     },
     "execution_count": 7,
     "metadata": {},
     "output_type": "execute_result"
    }
   ],
   "source": [
    "df_reduced.isna().sum()"
   ]
  },
  {
   "cell_type": "code",
   "execution_count": 8,
   "id": "af178288",
   "metadata": {},
   "outputs": [],
   "source": [
    "df_nona = df_reduced.fillna('Unknown').copy()"
   ]
  },
  {
   "cell_type": "code",
   "execution_count": 9,
   "id": "8195900e",
   "metadata": {},
   "outputs": [
    {
     "data": {
      "application/vnd.microsoft.datawrangler.viewer.v0+json": {
       "columns": [
        {
         "name": "index",
         "rawType": "int64",
         "type": "integer"
        },
        {
         "name": "List Year",
         "rawType": "int64",
         "type": "integer"
        },
        {
         "name": "Town",
         "rawType": "object",
         "type": "string"
        },
        {
         "name": "Address",
         "rawType": "object",
         "type": "string"
        },
        {
         "name": "Assessed Value",
         "rawType": "float64",
         "type": "float"
        },
        {
         "name": "Sale Amount",
         "rawType": "float64",
         "type": "float"
        },
        {
         "name": "Sales Ratio",
         "rawType": "float64",
         "type": "float"
        },
        {
         "name": "Property Type",
         "rawType": "object",
         "type": "string"
        },
        {
         "name": "Residential Type",
         "rawType": "object",
         "type": "string"
        }
       ],
       "ref": "8bde21fb-2cfe-4b92-8486-0398e401b581",
       "rows": [
        [
         "0",
         "2020",
         "Ansonia",
         "323 BEAVER ST",
         "133000.0",
         "248400.0",
         "0.5354",
         "Residential",
         "Single Family"
        ],
        [
         "1",
         "2020",
         "Ansonia",
         "152 JACKSON ST",
         "110500.0",
         "239900.0",
         "0.4606",
         "Residential",
         "Three Family"
        ],
        [
         "2",
         "2020",
         "Ansonia",
         "230 WAKELEE AVE",
         "150500.0",
         "325000.0",
         "0.463",
         "Commercial",
         "Unknown"
        ],
        [
         "3",
         "2020",
         "Ansonia",
         "57 PLATT ST",
         "127400.0",
         "202500.0",
         "0.6291",
         "Residential",
         "Two Family"
        ],
        [
         "4",
         "2021",
         "Avon",
         "12 BYRON DRIVE",
         "179990.0",
         "362500.0",
         "0.4965",
         "Residential",
         "Condo"
        ],
        [
         "5",
         "2020",
         "Avon",
         "245 NEW ROAD",
         "217640.0",
         "400000.0",
         "0.5441",
         "Residential",
         "Single Family"
        ],
        [
         "6",
         "2020",
         "Avon",
         "63 NORTHGATE",
         "528490.0",
         "775000.0",
         "0.6819",
         "Residential",
         "Single Family"
        ],
        [
         "7",
         "2020",
         "Barkhamsted",
         "46 RATLUM MTN RD",
         "203530.0",
         "415000.0",
         "0.490433735",
         "Residential",
         "Single Family"
        ],
        [
         "8",
         "2020",
         "Beacon Falls",
         "34 LASKY ROAD",
         "158030.0",
         "243000.0",
         "0.6503",
         "Residential",
         "Single Family"
        ],
        [
         "9",
         "2020",
         "Beacon Falls",
         "9 AVON COURT",
         "65590.0",
         "100000.0",
         "0.6559",
         "Residential",
         "Condo"
        ]
       ],
       "shape": {
        "columns": 8,
        "rows": 10
       }
      },
      "text/html": [
       "<div>\n",
       "<style scoped>\n",
       "    .dataframe tbody tr th:only-of-type {\n",
       "        vertical-align: middle;\n",
       "    }\n",
       "\n",
       "    .dataframe tbody tr th {\n",
       "        vertical-align: top;\n",
       "    }\n",
       "\n",
       "    .dataframe thead th {\n",
       "        text-align: right;\n",
       "    }\n",
       "</style>\n",
       "<table border=\"1\" class=\"dataframe\">\n",
       "  <thead>\n",
       "    <tr style=\"text-align: right;\">\n",
       "      <th></th>\n",
       "      <th>List Year</th>\n",
       "      <th>Town</th>\n",
       "      <th>Address</th>\n",
       "      <th>Assessed Value</th>\n",
       "      <th>Sale Amount</th>\n",
       "      <th>Sales Ratio</th>\n",
       "      <th>Property Type</th>\n",
       "      <th>Residential Type</th>\n",
       "    </tr>\n",
       "  </thead>\n",
       "  <tbody>\n",
       "    <tr>\n",
       "      <th>0</th>\n",
       "      <td>2020</td>\n",
       "      <td>Ansonia</td>\n",
       "      <td>323 BEAVER ST</td>\n",
       "      <td>133000.0</td>\n",
       "      <td>248400.0</td>\n",
       "      <td>0.535400</td>\n",
       "      <td>Residential</td>\n",
       "      <td>Single Family</td>\n",
       "    </tr>\n",
       "    <tr>\n",
       "      <th>1</th>\n",
       "      <td>2020</td>\n",
       "      <td>Ansonia</td>\n",
       "      <td>152 JACKSON ST</td>\n",
       "      <td>110500.0</td>\n",
       "      <td>239900.0</td>\n",
       "      <td>0.460600</td>\n",
       "      <td>Residential</td>\n",
       "      <td>Three Family</td>\n",
       "    </tr>\n",
       "    <tr>\n",
       "      <th>2</th>\n",
       "      <td>2020</td>\n",
       "      <td>Ansonia</td>\n",
       "      <td>230 WAKELEE AVE</td>\n",
       "      <td>150500.0</td>\n",
       "      <td>325000.0</td>\n",
       "      <td>0.463000</td>\n",
       "      <td>Commercial</td>\n",
       "      <td>Unknown</td>\n",
       "    </tr>\n",
       "    <tr>\n",
       "      <th>3</th>\n",
       "      <td>2020</td>\n",
       "      <td>Ansonia</td>\n",
       "      <td>57 PLATT ST</td>\n",
       "      <td>127400.0</td>\n",
       "      <td>202500.0</td>\n",
       "      <td>0.629100</td>\n",
       "      <td>Residential</td>\n",
       "      <td>Two Family</td>\n",
       "    </tr>\n",
       "    <tr>\n",
       "      <th>4</th>\n",
       "      <td>2021</td>\n",
       "      <td>Avon</td>\n",
       "      <td>12 BYRON DRIVE</td>\n",
       "      <td>179990.0</td>\n",
       "      <td>362500.0</td>\n",
       "      <td>0.496500</td>\n",
       "      <td>Residential</td>\n",
       "      <td>Condo</td>\n",
       "    </tr>\n",
       "    <tr>\n",
       "      <th>5</th>\n",
       "      <td>2020</td>\n",
       "      <td>Avon</td>\n",
       "      <td>245 NEW ROAD</td>\n",
       "      <td>217640.0</td>\n",
       "      <td>400000.0</td>\n",
       "      <td>0.544100</td>\n",
       "      <td>Residential</td>\n",
       "      <td>Single Family</td>\n",
       "    </tr>\n",
       "    <tr>\n",
       "      <th>6</th>\n",
       "      <td>2020</td>\n",
       "      <td>Avon</td>\n",
       "      <td>63 NORTHGATE</td>\n",
       "      <td>528490.0</td>\n",
       "      <td>775000.0</td>\n",
       "      <td>0.681900</td>\n",
       "      <td>Residential</td>\n",
       "      <td>Single Family</td>\n",
       "    </tr>\n",
       "    <tr>\n",
       "      <th>7</th>\n",
       "      <td>2020</td>\n",
       "      <td>Barkhamsted</td>\n",
       "      <td>46 RATLUM MTN RD</td>\n",
       "      <td>203530.0</td>\n",
       "      <td>415000.0</td>\n",
       "      <td>0.490434</td>\n",
       "      <td>Residential</td>\n",
       "      <td>Single Family</td>\n",
       "    </tr>\n",
       "    <tr>\n",
       "      <th>8</th>\n",
       "      <td>2020</td>\n",
       "      <td>Beacon Falls</td>\n",
       "      <td>34 LASKY ROAD</td>\n",
       "      <td>158030.0</td>\n",
       "      <td>243000.0</td>\n",
       "      <td>0.650300</td>\n",
       "      <td>Residential</td>\n",
       "      <td>Single Family</td>\n",
       "    </tr>\n",
       "    <tr>\n",
       "      <th>9</th>\n",
       "      <td>2020</td>\n",
       "      <td>Beacon Falls</td>\n",
       "      <td>9 AVON COURT</td>\n",
       "      <td>65590.0</td>\n",
       "      <td>100000.0</td>\n",
       "      <td>0.655900</td>\n",
       "      <td>Residential</td>\n",
       "      <td>Condo</td>\n",
       "    </tr>\n",
       "  </tbody>\n",
       "</table>\n",
       "</div>"
      ],
      "text/plain": [
       "   List Year          Town           Address  Assessed Value  Sale Amount  \\\n",
       "0       2020       Ansonia     323 BEAVER ST        133000.0     248400.0   \n",
       "1       2020       Ansonia    152 JACKSON ST        110500.0     239900.0   \n",
       "2       2020       Ansonia   230 WAKELEE AVE        150500.0     325000.0   \n",
       "3       2020       Ansonia       57 PLATT ST        127400.0     202500.0   \n",
       "4       2021          Avon    12 BYRON DRIVE        179990.0     362500.0   \n",
       "5       2020          Avon      245 NEW ROAD        217640.0     400000.0   \n",
       "6       2020          Avon      63 NORTHGATE        528490.0     775000.0   \n",
       "7       2020   Barkhamsted  46 RATLUM MTN RD        203530.0     415000.0   \n",
       "8       2020  Beacon Falls     34 LASKY ROAD        158030.0     243000.0   \n",
       "9       2020  Beacon Falls      9 AVON COURT         65590.0     100000.0   \n",
       "\n",
       "   Sales Ratio Property Type Residential Type  \n",
       "0     0.535400   Residential    Single Family  \n",
       "1     0.460600   Residential     Three Family  \n",
       "2     0.463000    Commercial          Unknown  \n",
       "3     0.629100   Residential       Two Family  \n",
       "4     0.496500   Residential            Condo  \n",
       "5     0.544100   Residential    Single Family  \n",
       "6     0.681900   Residential    Single Family  \n",
       "7     0.490434   Residential    Single Family  \n",
       "8     0.650300   Residential    Single Family  \n",
       "9     0.655900   Residential            Condo  "
      ]
     },
     "execution_count": 9,
     "metadata": {},
     "output_type": "execute_result"
    }
   ],
   "source": [
    "df_nona.head(10)"
   ]
  },
  {
   "cell_type": "code",
   "execution_count": 10,
   "id": "4af838ed",
   "metadata": {},
   "outputs": [],
   "source": [
    "df_sorted = df_nona.sort_values(by=('List Year'), ascending=True).reset_index(drop=True)"
   ]
  },
  {
   "cell_type": "code",
   "execution_count": 11,
   "id": "bb59c3b4",
   "metadata": {},
   "outputs": [],
   "source": [
    "df_corr = df_sorted.copy()"
   ]
  },
  {
   "cell_type": "code",
   "execution_count": 12,
   "id": "7352d72c",
   "metadata": {},
   "outputs": [
    {
     "data": {
      "application/vnd.microsoft.datawrangler.viewer.v0+json": {
       "columns": [
        {
         "name": "index",
         "rawType": "object",
         "type": "string"
        },
        {
         "name": "0",
         "rawType": "object",
         "type": "unknown"
        }
       ],
       "ref": "acfef0e5-29e5-429d-88de-2eb3bd70bcf2",
       "rows": [
        [
         "List Year",
         "int64"
        ],
        [
         "Town",
         "object"
        ],
        [
         "Address",
         "object"
        ],
        [
         "Assessed Value",
         "float64"
        ],
        [
         "Sale Amount",
         "float64"
        ],
        [
         "Sales Ratio",
         "float64"
        ],
        [
         "Property Type",
         "object"
        ],
        [
         "Residential Type",
         "object"
        ]
       ],
       "shape": {
        "columns": 1,
        "rows": 8
       }
      },
      "text/plain": [
       "List Year             int64\n",
       "Town                 object\n",
       "Address              object\n",
       "Assessed Value      float64\n",
       "Sale Amount         float64\n",
       "Sales Ratio         float64\n",
       "Property Type        object\n",
       "Residential Type     object\n",
       "dtype: object"
      ]
     },
     "execution_count": 12,
     "metadata": {},
     "output_type": "execute_result"
    }
   ],
   "source": [
    "df_corr.dtypes"
   ]
  },
  {
   "cell_type": "code",
   "execution_count": 13,
   "id": "517a2b9f",
   "metadata": {},
   "outputs": [],
   "source": [
    "df_corr['Town'] = OrdinalEncoder().fit_transform(df[['Town']])\n",
    "df_corr['Address'] = OrdinalEncoder().fit_transform(df[['Address']])\n",
    "df_corr['Property Type'] = OrdinalEncoder().fit_transform(df[['Property Type']])\n",
    "df_corr['Residential Type'] = OrdinalEncoder().fit_transform(df[['Residential Type']])"
   ]
  },
  {
   "cell_type": "code",
   "execution_count": 14,
   "id": "6a4e85ed",
   "metadata": {},
   "outputs": [
    {
     "name": "stdout",
     "output_type": "stream",
     "text": [
      "<class 'pandas.core.frame.DataFrame'>\n",
      "RangeIndex: 1097629 entries, 0 to 1097628\n",
      "Data columns (total 8 columns):\n",
      " #   Column            Non-Null Count    Dtype  \n",
      "---  ------            --------------    -----  \n",
      " 0   List Year         1097629 non-null  int64  \n",
      " 1   Town              1097629 non-null  float64\n",
      " 2   Address           1097578 non-null  float64\n",
      " 3   Assessed Value    1097629 non-null  float64\n",
      " 4   Sale Amount       1097629 non-null  float64\n",
      " 5   Sales Ratio       1097629 non-null  float64\n",
      " 6   Property Type     715183 non-null   float64\n",
      " 7   Residential Type  699240 non-null   float64\n",
      "dtypes: float64(7), int64(1)\n",
      "memory usage: 67.0 MB\n"
     ]
    }
   ],
   "source": [
    "df_corr.info()"
   ]
  },
  {
   "cell_type": "code",
   "execution_count": 16,
   "id": "619ee13c",
   "metadata": {},
   "outputs": [
    {
     "data": {
      "image/png": "[encoded data removed]",
      "text/plain": [
       "<Figure size 1200x800 with 2 Axes>"
      ]
     },
     "metadata": {},
     "output_type": "display_data"
    }
   ],
   "source": [
    "pearson_corr = df_corr.corr(method='pearson')\n",
    "\n",
    "plt.figure(figsize=(12, 8))\n",
    "\n",
    "sns.heatmap(pearson_corr, annot=True, fmt='.2f', cmap='coolwarm')\n",
    "\n",
    "plt.tight_layout()\n",
    "plt.title('Pearson Correlation Coefficient Heatmap')\n",
    "plt.show()"
   ]
  }
 ],
 "metadata": {
  "kernelspec": {
   "display_name": "Python 3",
   "language": "python",
   "name": "python3"
  },
  "language_info": {
   "codemirror_mode": {
    "name": "ipython",
    "version": 3
   },
   "file_extension": ".py",
   "mimetype": "text/x-python",
   "name": "python",
   "nbconvert_exporter": "python",
   "pygments_lexer": "ipython3",
   "version": "3.13.5"
  }
 },
 "nbformat": 4,
 "nbformat_minor": 5
}
