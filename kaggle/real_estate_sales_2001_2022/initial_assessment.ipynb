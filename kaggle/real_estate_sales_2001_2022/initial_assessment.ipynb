{
 "cells": [
  {
   "cell_type": "code",
   "execution_count": null,
   "id": "7fc59a0d",
   "metadata": {},
   "outputs": [],
   "source": [
    "import pandas as pd\n",
    "from sklearn.preprocessing import OrdinalEncoder\n",
    "import matplotlib.pyplot as plt\n",
    "import seaborn as sns"
   ]
  },
  {
   "cell_type": "code",
   "execution_count": null,
   "id": "4e5fa6b1",
   "metadata": {},
   "outputs": [],
   "source": [
    "df = pd.read_csv('Real_Estate_Sales_2001-2022_GL.csv')"
   ]
  },
  {
   "cell_type": "code",
   "execution_count": null,
   "id": "2017e34a",
   "metadata": {},
   "outputs": [],
   "source": [
    "df.info()"
   ]
  },
  {
   "cell_type": "code",
   "execution_count": null,
   "id": "22c9e823",
   "metadata": {},
   "outputs": [],
   "source": [
    "df.head(10)"
   ]
  },
  {
   "cell_type": "code",
   "execution_count": null,
   "id": "a2d1c99a",
   "metadata": {},
   "outputs": [],
   "source": [
    "df_reduced = df.drop(columns=[\n",
    "    'Non Use Code', \n",
    "    'Assessor Remarks', \n",
    "    'OPM remarks', \n",
    "    'Location', \n",
    "    'Date Recorded',\n",
    "    'Serial Number'\n",
    "]).copy()"
   ]
  },
  {
   "cell_type": "code",
   "execution_count": null,
   "id": "3a5c5350",
   "metadata": {},
   "outputs": [],
   "source": [
    "df_reduced.info()"
   ]
  },
  {
   "cell_type": "code",
   "execution_count": null,
   "id": "1bc375af",
   "metadata": {},
   "outputs": [],
   "source": [
    "df_reduced.isna().sum()"
   ]
  },
  {
   "cell_type": "code",
   "execution_count": null,
   "id": "af178288",
   "metadata": {},
   "outputs": [],
   "source": [
    "df_nona = df_reduced.fillna('Unknown').copy()"
   ]
  },
  {
   "cell_type": "code",
   "execution_count": null,
   "id": "8195900e",
   "metadata": {},
   "outputs": [],
   "source": [
    "df_nona.head(10)"
   ]
  },
  {
   "cell_type": "code",
   "execution_count": null,
   "id": "4af838ed",
   "metadata": {},
   "outputs": [],
   "source": [
    "df_sorted = df_nona.sort_values(by=('List Year'), ascending=True).reset_index(drop=True)"
   ]
  },
  {
   "cell_type": "code",
   "execution_count": null,
   "id": "bb59c3b4",
   "metadata": {},
   "outputs": [],
   "source": [
    "df_transformed = df_sorted.copy()"
   ]
  },
  {
   "cell_type": "code",
   "execution_count": null,
   "id": "7352d72c",
   "metadata": {},
   "outputs": [],
   "source": [
    "df_transformed.dtypes"
   ]
  },
  {
   "cell_type": "code",
   "execution_count": null,
   "id": "ee1c83f3",
   "metadata": {},
   "outputs": [],
   "source": [
    "df_transformed.info()"
   ]
  }
 ],
 "metadata": {
  "kernelspec": {
   "display_name": "Python 3",
   "language": "python",
   "name": "python3"
  },
  "language_info": {
   "codemirror_mode": {
    "name": "ipython",
    "version": 3
   },
   "file_extension": ".py",
   "mimetype": "text/x-python",
   "name": "python",
   "nbconvert_exporter": "python",
   "pygments_lexer": "ipython3",
   "version": "3.13.5"
  }
 },
 "nbformat": 4,
 "nbformat_minor": 5
}
