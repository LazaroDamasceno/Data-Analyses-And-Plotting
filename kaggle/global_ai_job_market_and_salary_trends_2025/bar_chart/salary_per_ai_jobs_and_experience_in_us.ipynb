{
 "cells": [
  {
   "cell_type": "code",
   "execution_count": null,
   "id": "60350533",
   "metadata": {},
   "outputs": [],
   "source": [
    "import kagglehub\n",
    "from kagglehub import KaggleDatasetAdapter \n",
    "import matplotlib.pyplot as plt\n",
    "import seaborn as sns\n",
    "\n",
    "file_path = \"ai_job_dataset.csv\"\n",
    "df = kagglehub.load_dataset(\n",
    "  KaggleDatasetAdapter.PANDAS,\n",
    "  \"bismasajjad/global-ai-job-market-and-salary-trends-2025\",\n",
    "  file_path,\n",
    ")\n",
    "\n",
    "filter = df['company_location'] == 'United States'\n",
    "df = df[filter]\n",
    "\n",
    "df_grouped = df.groupby(['job_title', 'experience_level'])['salary_usd']\n",
    "df_grouped = df_grouped.mean()\n",
    "df_grouped = df_grouped.reset_index(name='value')"
   ]
  },
  {
   "cell_type": "code",
   "execution_count": null,
   "id": "1f5b2155",
   "metadata": {},
   "outputs": [],
   "source": [
    "fig, ax = plt.subplots(figsize=(12, 24))\n",
    "\n",
    "sns.barplot(data=df_grouped, orient='h', ax=ax, x='value', y='job_title', hue='experience_level')\n",
    "\n",
    "for container in ax.containers: \n",
    "    ax.bar_label(container, fmt=\"%.0f\")\n",
    "\n",
    "ax.set_title(\"Average Salary By AI Jobs And Experience Levels In The US\", fontweight=\"bold\")\n",
    "ax.set_ylabel(\"\")\n",
    "ax.xaxis.set_visible(False)\n",
    "sns.despine(bottom=True)\n",
    "ax.legend(title=\"Experience Levels\", loc=\"lower left\", bbox_to_anchor=(0, 1.02, 1, 0.2), mode=\"expand\", borderaxespad=0, ncol=2)\n",
    "\n",
    "plt.tight_layout()\n",
    "plt.show()"
   ]
  }
 ],
 "metadata": {
  "kernelspec": {
   "display_name": "Python 3",
   "language": "python",
   "name": "python3"
  },
  "language_info": {
   "codemirror_mode": {
    "name": "ipython",
    "version": 3
   },
   "file_extension": ".py",
   "mimetype": "text/x-python",
   "name": "python",
   "nbconvert_exporter": "python",
   "pygments_lexer": "ipython3",
   "version": "3.13.5"
  }
 },
 "nbformat": 4,
 "nbformat_minor": 5
}
