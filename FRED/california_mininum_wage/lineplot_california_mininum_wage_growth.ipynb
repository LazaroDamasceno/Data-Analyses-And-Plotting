{
 "cells": [
  {
   "cell_type": "code",
   "execution_count": null,
   "id": "bbede0d5",
   "metadata": {},
   "outputs": [],
   "source": [
    "import pandas as pd\n",
    "import matplotlib.pyplot as plt\n",
    "import seaborn as sns"
   ]
  },
  {
   "cell_type": "code",
   "execution_count": null,
   "id": "5ddf5a07",
   "metadata": {},
   "outputs": [],
   "source": [
    "df = pd.read_csv('State_Minimum_Wage_Rate_California.csv')\n",
    "df = df.rename(columns={'STTMINWGCA': 'value'})"
   ]
  },
  {
   "cell_type": "code",
   "execution_count": null,
   "id": "f2856392",
   "metadata": {},
   "outputs": [],
   "source": [
    "years = list(range(1968, 2026))\n",
    "\n",
    "column_items = [f'{year}-01-01' for year in years]\n",
    "\n",
    "for column, year in zip(column_items, years):\n",
    "    df['observation_date'] = df['observation_date'].replace(column, year)"
   ]
  },
  {
   "cell_type": "code",
   "execution_count": null,
   "id": "5abd64c2",
   "metadata": {},
   "outputs": [],
   "source": [
    "fig, ax = plt.subplots(figsize=(12, 8))\n",
    "\n",
    "sns.lineplot(data=df, x='observation_date', y='value')\n",
    "\n",
    "ax.set_xlabel('Years')\n",
    "ax.set_ylabel('Mininum Salary Growth (USD)')\n",
    "ax.set_title('California Mininum Salary Growth From 1968 To 2025', fontweight='bold')\n",
    "sns.despine()\n",
    "\n",
    "plt.tight_layout()\n",
    "plt.show()"
   ]
  }
 ],
 "metadata": {
  "kernelspec": {
   "display_name": "Python 3",
   "language": "python",
   "name": "python3"
  },
  "language_info": {
   "codemirror_mode": {
    "name": "ipython",
    "version": 3
   },
   "file_extension": ".py",
   "mimetype": "text/x-python",
   "name": "python",
   "nbconvert_exporter": "python",
   "pygments_lexer": "ipython3",
   "version": "3.13.5"
  }
 },
 "nbformat": 4,
 "nbformat_minor": 5
}
