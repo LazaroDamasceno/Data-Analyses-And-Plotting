{
 "cells": [
  {
   "cell_type": "code",
   "execution_count": null,
   "id": "8aecec79",
   "metadata": {},
   "outputs": [],
   "source": [
    "import pandas as pd\n",
    "import matplotlib.pyplot as plt\n",
    "import seaborn as sns"
   ]
  },
  {
   "cell_type": "code",
   "execution_count": null,
   "id": "8b2a63e1",
   "metadata": {},
   "outputs": [],
   "source": [
    "df_federal = pd.read_csv('Federal_Mininum_Wage_Rate.csv')\n",
    "df_federal = df_federal.rename(columns={'STTMINWGFG': 'values_federal'})\n",
    "df_federal = df_federal.rename(columns={'observation_date': 'years'})\n",
    "df_federal.dtypes"
   ]
  },
  {
   "cell_type": "code",
   "execution_count": null,
   "id": "9b109541",
   "metadata": {},
   "outputs": [],
   "source": [
    "df_california = pd.read_csv('California_Mininum_Wage_Rate.csv')\n",
    "df_california = df_california.rename(columns={'STTMINWGCA': 'values_california'})\n",
    "df_california = df_california.rename(columns={'observation_date': 'years'})\n",
    "df_california.dtypes"
   ]
  },
  {
   "cell_type": "code",
   "execution_count": null,
   "id": "8bc04c9e",
   "metadata": {},
   "outputs": [],
   "source": [
    "df_joint = pd.merge(df_federal, df_california).reset_index(drop=True)"
   ]
  },
  {
   "cell_type": "code",
   "execution_count": null,
   "id": "824826a6",
   "metadata": {},
   "outputs": [],
   "source": [
    "df_melt = df_joint.melt(\n",
    "    id_vars='years',\n",
    "    value_vars=['values_federal', 'values_california'],\n",
    "    var_name='types'\n",
    ").reset_index(drop=True)\n",
    "\n",
    "df_melt['types'] = df_melt['types'].replace('values_federal', 'federal')\n",
    "df_melt['types'] = df_melt['types'].replace('values_california', 'california')"
   ]
  },
  {
   "cell_type": "code",
   "execution_count": null,
   "id": "d49f2a36",
   "metadata": {},
   "outputs": [],
   "source": [
    "years = range(1968, 2026)\n",
    "\n",
    "def get_dates():\n",
    "    return [f'{i}-01-01' for i in years]\n",
    "\n",
    "mapping = dict(zip(get_dates(), years))"
   ]
  },
  {
   "cell_type": "code",
   "execution_count": null,
   "id": "da67fa7a",
   "metadata": {},
   "outputs": [],
   "source": [
    "filter_federal = df_melt['types'] == 'federal'\n",
    "df_filtered_federal = df_melt[filter_federal].copy()\n",
    "df_filtered_federal['years'] = df_filtered_federal['years'].map(mapping)\n",
    "df_filtered_federal = df_filtered_federal.reset_index(drop=True)"
   ]
  },
  {
   "cell_type": "code",
   "execution_count": null,
   "id": "bd7a160d",
   "metadata": {},
   "outputs": [],
   "source": [
    "filter_california = df_melt['types'] == 'california'\n",
    "df_filtered_california = df_melt[filter_california].copy()\n",
    "df_filtered_california['years'] = df_filtered_california['years'].map(mapping)\n",
    "df_filtered_california = df_filtered_california.reset_index(drop=True)"
   ]
  },
  {
   "cell_type": "code",
   "execution_count": null,
   "id": "e7aa0575",
   "metadata": {},
   "outputs": [],
   "source": [
    "fig, ax = plt.subplots(figsize=(12, 8))\n",
    "\n",
    "sns.lineplot(data=df_filtered_federal, x='years', y='value', label='Federal')\n",
    "sns.lineplot(data=df_filtered_california, x='years', y='value', label='California')\n",
    "\n",
    "ax.set_ylabel('Mininum Wage (USD)')\n",
    "ax.set_xlabel('Year')\n",
    "ax.set_title('California X Federal Mininum Wage Growth From 1968 To 2025', fontweight='bold')\n",
    "sns.despine()\n",
    "\n",
    "plt.tight_layout()\n",
    "plt.show()"
   ]
  }
 ],
 "metadata": {
  "kernelspec": {
   "display_name": "Python 3",
   "language": "python",
   "name": "python3"
  },
  "language_info": {
   "codemirror_mode": {
    "name": "ipython",
    "version": 3
   },
   "file_extension": ".py",
   "mimetype": "text/x-python",
   "name": "python",
   "nbconvert_exporter": "python",
   "pygments_lexer": "ipython3",
   "version": "3.13.5"
  }
 },
 "nbformat": 4,
 "nbformat_minor": 5
}
