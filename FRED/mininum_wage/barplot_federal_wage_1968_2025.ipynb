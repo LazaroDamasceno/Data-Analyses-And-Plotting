{
 "cells": [
  {
   "cell_type": "code",
   "execution_count": null,
   "id": "eea7c672",
   "metadata": {},
   "outputs": [],
   "source": [
    "import pandas as pd\n",
    "import matplotlib.pyplot as plt\n",
    "import seaborn as sns"
   ]
  },
  {
   "cell_type": "code",
   "execution_count": null,
   "id": "41547d22",
   "metadata": {},
   "outputs": [],
   "source": [
    "df = pd.read_csv('Federal_Mininum_Wage_Rate.csv')\n",
    "df = df.rename(columns={'STTMINWGFG': 'value'})"
   ]
  },
  {
   "cell_type": "code",
   "execution_count": null,
   "id": "1f9cde65",
   "metadata": {},
   "outputs": [],
   "source": [
    "years = range(1968, 2026)\n",
    "\n",
    "def get_years():\n",
    "    return [f'{i}-01-01' for i in range(1968, 2026)]\n",
    "\n",
    "mapping = dict(zip(get_years(), years))\n",
    "\n",
    "df['observation_date'] = df['observation_date'].map(mapping).astype(int)"
   ]
  },
  {
   "cell_type": "code",
   "execution_count": null,
   "id": "edc0c610",
   "metadata": {},
   "outputs": [],
   "source": [
    "df_sorted = df.sort_values(by=('observation_date'), ascending=False)"
   ]
  },
  {
   "cell_type": "code",
   "execution_count": null,
   "id": "8b6d378a",
   "metadata": {},
   "outputs": [],
   "source": [
    "fig, ax = plt.subplots(figsize=(12, 18))\n",
    "\n",
    "sns.barplot(data=df_sorted, x='value', y='observation_date', orient='h')\n",
    "\n",
    "ax.bar_label(ax.containers[0], fmt='%.2f')\n",
    "sns.despine()\n",
    "ax.set_xlabel(\"Federal Mininum Salary (USD)\")\n",
    "ax.set_ylabel(\"Year\")\n",
    "ax.set_title('Federal Mininum Wage From 1968 To 2025', fontweight='bold')\n",
    "\n",
    "plt.tight_layout()\n",
    "plt.show()"
   ]
  }
 ],
 "metadata": {
  "kernelspec": {
   "display_name": "Python 3",
   "language": "python",
   "name": "python3"
  },
  "language_info": {
   "codemirror_mode": {
    "name": "ipython",
    "version": 3
   },
   "file_extension": ".py",
   "mimetype": "text/x-python",
   "name": "python",
   "nbconvert_exporter": "python",
   "pygments_lexer": "ipython3",
   "version": "3.13.5"
  }
 },
 "nbformat": 4,
 "nbformat_minor": 5
}
