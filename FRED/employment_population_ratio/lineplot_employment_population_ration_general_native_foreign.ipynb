{
 "cells": [
  {
   "cell_type": "code",
   "execution_count": null,
   "id": "3aab269c",
   "metadata": {},
   "outputs": [],
   "source": [
    "import pandas as pd"
   ]
  },
  {
   "cell_type": "code",
   "execution_count": null,
   "id": "ec29ebf2",
   "metadata": {},
   "outputs": [],
   "source": [
    "df_general = pd.read_csv('Employment_Population_Ratio_General.csv')\n",
    "df_foreign = pd.read_csv('Employment_Population_Ratio_Foreign_Born.csv')\n",
    "df_native = pd.read_csv('Employment_Population_Ratio_Native_Born.csv')"
   ]
  }
 ],
 "metadata": {
  "language_info": {
   "name": "python"
  }
 },
 "nbformat": 4,
 "nbformat_minor": 5
}
