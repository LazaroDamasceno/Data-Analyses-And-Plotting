{
 "cells": [
  {
   "cell_type": "code",
   "execution_count": null,
   "id": "e538d4c2",
   "metadata": {},
   "outputs": [],
   "source": [
    "import pandas as pd\n",
    "import matplotlib.pyplot as plt\n",
    "import seaborn as sns"
   ]
  },
  {
   "cell_type": "code",
   "execution_count": null,
   "id": "d9695e2f",
   "metadata": {},
   "outputs": [],
   "source": [
    "df = pd.read_csv('unemployment_rate_by_metropolitan_statistical_area.csv')"
   ]
  },
  {
   "cell_type": "code",
   "execution_count": null,
   "id": "c91f0126",
   "metadata": {},
   "outputs": [],
   "source": [
    "df = df.drop(columns=['Series ID'])\n",
    "df = df.drop(columns=['Series Name'])\n",
    "df = df.drop(columns=['Units'])\n",
    "df = df.drop(columns=['Region Code'])"
   ]
  },
  {
   "cell_type": "code",
   "execution_count": null,
   "id": "26606603",
   "metadata": {},
   "outputs": [],
   "source": [
    "df_split = df['Region Name'].str.split(pat=', ', expand=True)\n",
    "df['metropolitan_area'] = df_split[0]\n",
    "df['state_designation'] = df_split[1]\n",
    "df = df.drop(columns=['Region Name'])"
   ]
  },
  {
   "cell_type": "code",
   "execution_count": null,
   "id": "d1823524",
   "metadata": {},
   "outputs": [],
   "source": [
    "def get_months(year: int):\n",
    "    return [str(f'{year}-0{i}-01') if i < 10 else str(f'{year}-{i}-01') for i in range(1, 13)]\n",
    "\n",
    "months_names = [\n",
    "    'JANUARY',\n",
    "    'FEBRUARY',\n",
    "    'MARCH',\n",
    "    'APRIL',\n",
    "    'MAY',\n",
    "    'JUNE',\n",
    "    'JULY',\n",
    "    'AUGUST', \n",
    "    'SEPTEMBER',\n",
    "    'OCTOBER', \n",
    "    'NOVEMBER', \n",
    "    'DECEMBER'\n",
    "]"
   ]
  },
  {
   "cell_type": "code",
   "execution_count": null,
   "id": "6ef6e981",
   "metadata": {},
   "outputs": [],
   "source": [
    "df_melted_2019 = df.melt(\n",
    "    id_vars=['metropolitan_area', 'state_designation'],\n",
    "    value_vars=get_months(2019),\n",
    "    value_name='percentages'\n",
    ")\n",
    "\n",
    "df_melted_2019 = df_melted_2019.rename(columns={'variable': 'months'})\n",
    "\n",
    "filter_state = df_melted_2019['state_designation'] == 'CA'\n",
    "filter_metro_area = df_melted_2019['metropolitan_area'] == 'Los Angeles-Long Beach-Anaheim'\n",
    "filter_joint = filter_state & filter_metro_area\n",
    "\n",
    "df_filtered_2019 = df_melted_2019[filter_joint].reset_index(drop=True)\n",
    "\n",
    "month_columns_2019 = get_months(2019)\n",
    "for row, name in zip(month_columns_2019 , months_names):\n",
    "    df_filtered_2019['months'] = df_filtered_2019['months'].replace(row, name)"
   ]
  },
  {
   "cell_type": "code",
   "execution_count": null,
   "id": "49fce1e7",
   "metadata": {},
   "outputs": [],
   "source": [
    "df_melted_2020 = df.melt(\n",
    "    id_vars=['metropolitan_area', 'state_designation'],\n",
    "    value_vars=get_months(2020),\n",
    "    value_name='percentages'\n",
    ")\n",
    "\n",
    "df_melted_2020 = df_melted_2020.rename(columns={'variable': 'months'})\n",
    "\n",
    "filter_state = df_melted_2020['state_designation'] == 'CA'\n",
    "filter_metro_area = df_melted_2020['metropolitan_area'] == 'Los Angeles-Long Beach-Anaheim'\n",
    "filter_joint = filter_state & filter_metro_area\n",
    "\n",
    "df_filtered_2020 = df_melted_2020[filter_joint].reset_index(drop=True)\n",
    "\n",
    "month_columns_2020 = get_months(2020)\n",
    "for row, name in zip(month_columns_2020 , months_names):\n",
    "    df_filtered_2020['months'] = df_filtered_2020['months'].replace(row, name)\n",
    "\n",
    "df_filtered_2020"
   ]
  },
  {
   "cell_type": "code",
   "execution_count": null,
   "id": "3e7b4998",
   "metadata": {},
   "outputs": [],
   "source": [
    "df_melted_2021 = df.melt(\n",
    "    id_vars=['metropolitan_area', 'state_designation'],\n",
    "    value_vars=get_months(2021),\n",
    "    value_name='percentages'\n",
    ")\n",
    "\n",
    "df_melted_2021 = df_melted_2021.rename(columns={'variable': 'months'})\n",
    "\n",
    "filter_state = df_melted_2021['state_designation'] == 'CA'\n",
    "filter_metro_area = df_melted_2021['metropolitan_area'] == 'Los Angeles-Long Beach-Anaheim'\n",
    "filter_joint = filter_state & filter_metro_area\n",
    "\n",
    "df_filtered_2021 = df_melted_2021[filter_joint].reset_index(drop=True)\n",
    "\n",
    "month_columns_2021 = get_months(2021)\n",
    "for row, name in zip(month_columns_2021 , months_names):\n",
    "    df_filtered_2021['months'] = df_filtered_2021['months'].replace(row, name)"
   ]
  },
  {
   "cell_type": "code",
   "execution_count": null,
   "id": "9d9dc752",
   "metadata": {},
   "outputs": [],
   "source": [
    "df_melted_2022 = df.melt(\n",
    "    id_vars=['metropolitan_area', 'state_designation'],\n",
    "    value_vars=get_months(2022),\n",
    "    value_name='percentages'\n",
    ")\n",
    "\n",
    "df_melted_2022 = df_melted_2022.rename(columns={'variable': 'months'})\n",
    "\n",
    "filter_state = df_melted_2022['state_designation'] == 'CA'\n",
    "filter_metro_area = df_melted_2022['metropolitan_area'] == 'Los Angeles-Long Beach-Anaheim'\n",
    "filter_joint = filter_state & filter_metro_area\n",
    "\n",
    "df_filtered_2022 = df_melted_2022[filter_joint].reset_index(drop=True)\n",
    "\n",
    "month_columns_2022 = get_months(2022)\n",
    "for row, name in zip(month_columns_2022 , months_names):\n",
    "    df_filtered_2022['months'] = df_filtered_2022['months'].replace(row, name)"
   ]
  },
  {
   "cell_type": "code",
   "execution_count": null,
   "id": "1a32856d",
   "metadata": {},
   "outputs": [],
   "source": [
    "df_melted_2023 = df.melt(\n",
    "    id_vars=['metropolitan_area', 'state_designation'],\n",
    "    value_vars=get_months(2023),\n",
    "    value_name='percentages'\n",
    ")\n",
    "\n",
    "df_melted_2023 = df_melted_2023.rename(columns={'variable': 'months'})\n",
    "\n",
    "filter_state = df_melted_2023['state_designation'] == 'CA'\n",
    "filter_metro_area = df_melted_2023['metropolitan_area'] == 'Los Angeles-Long Beach-Anaheim'\n",
    "filter_joint = filter_state & filter_metro_area\n",
    "\n",
    "df_filtered_2023 = df_melted_2023[filter_joint].reset_index(drop=True)\n",
    "\n",
    "month_columns_2023 = get_months(2023)\n",
    "for row, name in zip(month_columns_2023 , months_names):\n",
    "    df_filtered_2023['months'] = df_filtered_2023['months'].replace(row, name)"
   ]
  },
  {
   "cell_type": "code",
   "execution_count": null,
   "id": "5e8450eb",
   "metadata": {},
   "outputs": [],
   "source": [
    "df_melted_2024 = df.melt(\n",
    "    id_vars=['metropolitan_area', 'state_designation'],\n",
    "    value_vars=get_months(2024),\n",
    "    value_name='percentages'\n",
    ")\n",
    "\n",
    "df_melted_2024 = df_melted_2024.rename(columns={'variable': 'months'})\n",
    "\n",
    "filter_state = df_melted_2024['state_designation'] == 'CA'\n",
    "filter_metro_area = df_melted_2024['metropolitan_area'] == 'Los Angeles-Long Beach-Anaheim'\n",
    "filter_joint = filter_state & filter_metro_area\n",
    "\n",
    "df_filtered_2024 = df_melted_2024[filter_joint].reset_index(drop=True)\n",
    "\n",
    "month_columns_2024 = get_months(2024)\n",
    "for row, name in zip(month_columns_2024 , months_names):\n",
    "    df_filtered_2024['months'] = df_filtered_2024['months'].replace(row, name)"
   ]
  },
  {
   "cell_type": "code",
   "execution_count": null,
   "id": "8f21d7f2",
   "metadata": {},
   "outputs": [],
   "source": [
    "fig, ax = plt.subplots(figsize=(12, 8))\n",
    "\n",
    "sns.lineplot(data=df_filtered_2019, x='months', y='percentages', label='2019')\n",
    "sns.lineplot(data=df_filtered_2020, x='months', y='percentages', label='2020')\n",
    "sns.lineplot(data=df_filtered_2021, x='months', y='percentages', label='2021')\n",
    "sns.lineplot(data=df_filtered_2022, x='months', y='percentages', label='2022')\n",
    "sns.lineplot(data=df_filtered_2023, x='months', y='percentages', label='2023')\n",
    "sns.lineplot(data=df_filtered_2024, x='months', y='percentages', label='2024')\n",
    "\n",
    "ax.set_title(\"Unemployment Rate In The Los Angeles-Long Beach-Anaheim Metropolitan Area\", fontweight=\"bold\")\n",
    "ax.set_ylabel(\"Unemployment Rate (%)\")\n",
    "ax.set_xlabel(\"Months\")\n",
    "ax.legend(title=\"Years\")\n",
    "\n",
    "plt.tight_layout()\n",
    "plt.show()"
   ]
  }
 ],
 "metadata": {
  "kernelspec": {
   "display_name": "Python 3",
   "language": "python",
   "name": "python3"
  },
  "language_info": {
   "codemirror_mode": {
    "name": "ipython",
    "version": 3
   },
   "file_extension": ".py",
   "mimetype": "text/x-python",
   "name": "python",
   "nbconvert_exporter": "python",
   "pygments_lexer": "ipython3",
   "version": "3.13.5"
  }
 },
 "nbformat": 4,
 "nbformat_minor": 5
}
