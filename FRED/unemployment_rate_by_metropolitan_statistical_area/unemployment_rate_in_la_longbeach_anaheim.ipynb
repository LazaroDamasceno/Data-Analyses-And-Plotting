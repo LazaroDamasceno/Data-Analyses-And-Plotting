{
 "cells": [
  {
   "cell_type": "code",
   "execution_count": 85,
   "id": "e538d4c2",
   "metadata": {},
   "outputs": [],
   "source": [
    "import pandas as pd\n",
    "import matplotlib.pyplot as plt\n",
    "import seaborn as sns"
   ]
  },
  {
   "cell_type": "code",
   "execution_count": 86,
   "id": "d9695e2f",
   "metadata": {},
   "outputs": [],
   "source": [
    "df = pd.read_csv('unemployment_rate_by_metropolitan_statistical_area.csv')"
   ]
  },
  {
   "cell_type": "code",
   "execution_count": 87,
   "id": "c91f0126",
   "metadata": {},
   "outputs": [],
   "source": [
    "df = df.drop(columns=['Series ID'])\n",
    "df = df.drop(columns=['Series Name'])\n",
    "df = df.drop(columns=['Units'])\n",
    "df = df.drop(columns=['Region Code'])"
   ]
  },
  {
   "cell_type": "code",
   "execution_count": 88,
   "id": "26606603",
   "metadata": {},
   "outputs": [],
   "source": [
    "df_split = df['Region Name'].str.split(pat=', ', expand=True)\n",
    "df['metropolitan_area'] = df_split[0]\n",
    "df['state_designation'] = df_split[1]\n",
    "df = df.drop(columns=['Region Name'])"
   ]
  },
  {
   "cell_type": "code",
   "execution_count": 89,
   "id": "d1823524",
   "metadata": {},
   "outputs": [],
   "source": [
    "def get_months(year: int):\n",
    "    return [str(f'{year}-0{i}-01') if i < 10 else str(f'{year}-{i}-01') for i in range(1, 13)]\n",
    "\n",
    "months_names = [\n",
    "    'JANUARY',\n",
    "    'FEBRUARY',\n",
    "    'MARCH',\n",
    "    'APRIL',\n",
    "    'MAY',\n",
    "    'JUNE',\n",
    "    'JULY',\n",
    "    'AUGUST', \n",
    "    'SEPTEMBER',\n",
    "    'OCTOBER', \n",
    "    'NOVEMBER', \n",
    "    'DECEMBER'\n",
    "]"
   ]
  },
  {
   "cell_type": "code",
   "execution_count": 90,
   "id": "6ef6e981",
   "metadata": {},
   "outputs": [],
   "source": [
    "df_melted_2019 = df.melt(\n",
    "    id_vars=['metropolitan_area', 'state_designation'],\n",
    "    value_vars=get_months(2019),\n",
    "    value_name='percentages'\n",
    ")\n",
    "\n",
    "df_melted_2019 = df_melted_2019.rename(columns={'variable': 'months'})\n",
    "filter_metro_area = df_melted_2019['metropolitan_area'] == 'Los Angeles-Long Beach-Anaheim'\n",
    "\n",
    "df_filtered_2019 = df_melted_2019[filter_metro_area].reset_index(drop=True)\n",
    "\n",
    "month_columns_2019 = get_months(2019)\n",
    "for row, name in zip(month_columns_2019 , months_names):\n",
    "    df_filtered_2019['months'] = df_filtered_2019['months'].replace(row, name)"
   ]
  },
  {
   "cell_type": "code",
   "execution_count": 91,
   "id": "49fce1e7",
   "metadata": {},
   "outputs": [
    {
     "data": {
      "application/vnd.microsoft.datawrangler.viewer.v0+json": {
       "columns": [
        {
         "name": "index",
         "rawType": "int64",
         "type": "integer"
        },
        {
         "name": "metropolitan_area",
         "rawType": "object",
         "type": "string"
        },
        {
         "name": "state_designation",
         "rawType": "object",
         "type": "string"
        },
        {
         "name": "months",
         "rawType": "object",
         "type": "string"
        },
        {
         "name": "percentages",
         "rawType": "float64",
         "type": "float"
        }
       ],
       "ref": "146e67f0-2396-4c95-8581-81db2626b8b5",
       "rows": [
        [
         "0",
         "Los Angeles-Long Beach-Anaheim",
         "CA",
         "JANUARY",
         "4.2"
        ],
        [
         "1",
         "Los Angeles-Long Beach-Anaheim",
         "CA",
         "FEBRUARY",
         "4.3"
        ],
        [
         "2",
         "Los Angeles-Long Beach-Anaheim",
         "CA",
         "MARCH",
         "6.2"
        ],
        [
         "3",
         "Los Angeles-Long Beach-Anaheim",
         "CA",
         "APRIL",
         "16.7"
        ],
        [
         "4",
         "Los Angeles-Long Beach-Anaheim",
         "CA",
         "MAY",
         "18.4"
        ],
        [
         "5",
         "Los Angeles-Long Beach-Anaheim",
         "CA",
         "JUNE",
         "16.5"
        ],
        [
         "6",
         "Los Angeles-Long Beach-Anaheim",
         "CA",
         "JULY",
         "16.5"
        ],
        [
         "7",
         "Los Angeles-Long Beach-Anaheim",
         "CA",
         "AUGUST",
         "14.9"
        ],
        [
         "8",
         "Los Angeles-Long Beach-Anaheim",
         "CA",
         "SEPTEMBER",
         "10.9"
        ],
        [
         "9",
         "Los Angeles-Long Beach-Anaheim",
         "CA",
         "OCTOBER",
         "9.9"
        ],
        [
         "10",
         "Los Angeles-Long Beach-Anaheim",
         "CA",
         "NOVEMBER",
         "10.1"
        ],
        [
         "11",
         "Los Angeles-Long Beach-Anaheim",
         "CA",
         "DECEMBER",
         "10.1"
        ]
       ],
       "shape": {
        "columns": 4,
        "rows": 12
       }
      },
      "text/html": [
       "<div>\n",
       "<style scoped>\n",
       "    .dataframe tbody tr th:only-of-type {\n",
       "        vertical-align: middle;\n",
       "    }\n",
       "\n",
       "    .dataframe tbody tr th {\n",
       "        vertical-align: top;\n",
       "    }\n",
       "\n",
       "    .dataframe thead th {\n",
       "        text-align: right;\n",
       "    }\n",
       "</style>\n",
       "<table border=\"1\" class=\"dataframe\">\n",
       "  <thead>\n",
       "    <tr style=\"text-align: right;\">\n",
       "      <th></th>\n",
       "      <th>metropolitan_area</th>\n",
       "      <th>state_designation</th>\n",
       "      <th>months</th>\n",
       "      <th>percentages</th>\n",
       "    </tr>\n",
       "  </thead>\n",
       "  <tbody>\n",
       "    <tr>\n",
       "      <th>0</th>\n",
       "      <td>Los Angeles-Long Beach-Anaheim</td>\n",
       "      <td>CA</td>\n",
       "      <td>JANUARY</td>\n",
       "      <td>4.2</td>\n",
       "    </tr>\n",
       "    <tr>\n",
       "      <th>1</th>\n",
       "      <td>Los Angeles-Long Beach-Anaheim</td>\n",
       "      <td>CA</td>\n",
       "      <td>FEBRUARY</td>\n",
       "      <td>4.3</td>\n",
       "    </tr>\n",
       "    <tr>\n",
       "      <th>2</th>\n",
       "      <td>Los Angeles-Long Beach-Anaheim</td>\n",
       "      <td>CA</td>\n",
       "      <td>MARCH</td>\n",
       "      <td>6.2</td>\n",
       "    </tr>\n",
       "    <tr>\n",
       "      <th>3</th>\n",
       "      <td>Los Angeles-Long Beach-Anaheim</td>\n",
       "      <td>CA</td>\n",
       "      <td>APRIL</td>\n",
       "      <td>16.7</td>\n",
       "    </tr>\n",
       "    <tr>\n",
       "      <th>4</th>\n",
       "      <td>Los Angeles-Long Beach-Anaheim</td>\n",
       "      <td>CA</td>\n",
       "      <td>MAY</td>\n",
       "      <td>18.4</td>\n",
       "    </tr>\n",
       "    <tr>\n",
       "      <th>5</th>\n",
       "      <td>Los Angeles-Long Beach-Anaheim</td>\n",
       "      <td>CA</td>\n",
       "      <td>JUNE</td>\n",
       "      <td>16.5</td>\n",
       "    </tr>\n",
       "    <tr>\n",
       "      <th>6</th>\n",
       "      <td>Los Angeles-Long Beach-Anaheim</td>\n",
       "      <td>CA</td>\n",
       "      <td>JULY</td>\n",
       "      <td>16.5</td>\n",
       "    </tr>\n",
       "    <tr>\n",
       "      <th>7</th>\n",
       "      <td>Los Angeles-Long Beach-Anaheim</td>\n",
       "      <td>CA</td>\n",
       "      <td>AUGUST</td>\n",
       "      <td>14.9</td>\n",
       "    </tr>\n",
       "    <tr>\n",
       "      <th>8</th>\n",
       "      <td>Los Angeles-Long Beach-Anaheim</td>\n",
       "      <td>CA</td>\n",
       "      <td>SEPTEMBER</td>\n",
       "      <td>10.9</td>\n",
       "    </tr>\n",
       "    <tr>\n",
       "      <th>9</th>\n",
       "      <td>Los Angeles-Long Beach-Anaheim</td>\n",
       "      <td>CA</td>\n",
       "      <td>OCTOBER</td>\n",
       "      <td>9.9</td>\n",
       "    </tr>\n",
       "    <tr>\n",
       "      <th>10</th>\n",
       "      <td>Los Angeles-Long Beach-Anaheim</td>\n",
       "      <td>CA</td>\n",
       "      <td>NOVEMBER</td>\n",
       "      <td>10.1</td>\n",
       "    </tr>\n",
       "    <tr>\n",
       "      <th>11</th>\n",
       "      <td>Los Angeles-Long Beach-Anaheim</td>\n",
       "      <td>CA</td>\n",
       "      <td>DECEMBER</td>\n",
       "      <td>10.1</td>\n",
       "    </tr>\n",
       "  </tbody>\n",
       "</table>\n",
       "</div>"
      ],
      "text/plain": [
       "                 metropolitan_area state_designation     months  percentages\n",
       "0   Los Angeles-Long Beach-Anaheim                CA    JANUARY          4.2\n",
       "1   Los Angeles-Long Beach-Anaheim                CA   FEBRUARY          4.3\n",
       "2   Los Angeles-Long Beach-Anaheim                CA      MARCH          6.2\n",
       "3   Los Angeles-Long Beach-Anaheim                CA      APRIL         16.7\n",
       "4   Los Angeles-Long Beach-Anaheim                CA        MAY         18.4\n",
       "5   Los Angeles-Long Beach-Anaheim                CA       JUNE         16.5\n",
       "6   Los Angeles-Long Beach-Anaheim                CA       JULY         16.5\n",
       "7   Los Angeles-Long Beach-Anaheim                CA     AUGUST         14.9\n",
       "8   Los Angeles-Long Beach-Anaheim                CA  SEPTEMBER         10.9\n",
       "9   Los Angeles-Long Beach-Anaheim                CA    OCTOBER          9.9\n",
       "10  Los Angeles-Long Beach-Anaheim                CA   NOVEMBER         10.1\n",
       "11  Los Angeles-Long Beach-Anaheim                CA   DECEMBER         10.1"
      ]
     },
     "execution_count": 91,
     "metadata": {},
     "output_type": "execute_result"
    }
   ],
   "source": [
    "df_melted_2020 = df.melt(\n",
    "    id_vars=['metropolitan_area', 'state_designation'],\n",
    "    value_vars=get_months(2020),\n",
    "    value_name='percentages'\n",
    ")\n",
    "\n",
    "df_melted_2020 = df_melted_2020.rename(columns={'variable': 'months'})\n",
    "filter_metro_area = df_melted_2020['metropolitan_area'] == 'Los Angeles-Long Beach-Anaheim'\n",
    "\n",
    "df_filtered_2020 = df_melted_2020[filter_metro_area].reset_index(drop=True)\n",
    "\n",
    "month_columns_2020 = get_months(2020)\n",
    "for row, name in zip(month_columns_2020 , months_names):\n",
    "    df_filtered_2020['months'] = df_filtered_2020['months'].replace(row, name)\n",
    "\n",
    "df_filtered_2020"
   ]
  },
  {
   "cell_type": "code",
   "execution_count": 92,
   "id": "3e7b4998",
   "metadata": {},
   "outputs": [],
   "source": [
    "df_melted_2021 = df.melt(\n",
    "    id_vars=['metropolitan_area', 'state_designation'],\n",
    "    value_vars=get_months(2021),\n",
    "    value_name='percentages'\n",
    ")\n",
    "\n",
    "df_melted_2021 = df_melted_2021.rename(columns={'variable': 'months'})\n",
    "filter_metro_area = df_melted_2021['metropolitan_area'] == 'Los Angeles-Long Beach-Anaheim'\n",
    "\n",
    "df_filtered_2021 = df_melted_2021[filter_metro_area].reset_index(drop=True)\n",
    "\n",
    "month_columns_2021 = get_months(2021)\n",
    "for row, name in zip(month_columns_2021 , months_names):\n",
    "    df_filtered_2021['months'] = df_filtered_2021['months'].replace(row, name)"
   ]
  },
  {
   "cell_type": "code",
   "execution_count": 93,
   "id": "9d9dc752",
   "metadata": {},
   "outputs": [],
   "source": [
    "df_melted_2022 = df.melt(\n",
    "    id_vars=['metropolitan_area', 'state_designation'],\n",
    "    value_vars=get_months(2022),\n",
    "    value_name='percentages'\n",
    ")\n",
    "\n",
    "df_melted_2022 = df_melted_2022.rename(columns={'variable': 'months'})\n",
    "filter_metro_area = df_melted_2022['metropolitan_area'] == 'Los Angeles-Long Beach-Anaheim'\n",
    "\n",
    "df_filtered_2022 = df_melted_2022[filter_metro_area].reset_index(drop=True)\n",
    "\n",
    "month_columns_2022 = get_months(2022)\n",
    "for row, name in zip(month_columns_2022 , months_names):\n",
    "    df_filtered_2022['months'] = df_filtered_2022['months'].replace(row, name)"
   ]
  },
  {
   "cell_type": "code",
   "execution_count": 94,
   "id": "1a32856d",
   "metadata": {},
   "outputs": [],
   "source": [
    "df_melted_2023 = df.melt(\n",
    "    id_vars=['metropolitan_area', 'state_designation'],\n",
    "    value_vars=get_months(2023),\n",
    "    value_name='percentages'\n",
    ")\n",
    "\n",
    "df_melted_2023 = df_melted_2023.rename(columns={'variable': 'months'})\n",
    "\n",
    "filter_metro_area = df_melted_2023['metropolitan_area'] == 'Los Angeles-Long Beach-Anaheim'\n",
    "df_filtered_2023 = df_melted_2023[filter_metro_area].reset_index(drop=True)\n",
    "\n",
    "month_columns_2023 = get_months(2023)\n",
    "for row, name in zip(month_columns_2023 , months_names):\n",
    "    df_filtered_2023['months'] = df_filtered_2023['months'].replace(row, name)"
   ]
  },
  {
   "cell_type": "code",
   "execution_count": 95,
   "id": "5e8450eb",
   "metadata": {},
   "outputs": [],
   "source": [
    "df_melted_2024 = df.melt(\n",
    "    id_vars=['metropolitan_area', 'state_designation'],\n",
    "    value_vars=get_months(2024),\n",
    "    value_name='percentages'\n",
    ")\n",
    "\n",
    "df_melted_2024 = df_melted_2024.rename(columns={'variable': 'months'})\n",
    "\n",
    "filter_metro_area = df_melted_2024['metropolitan_area'] == 'Los Angeles-Long Beach-Anaheim'\n",
    "df_filtered_2024 = df_melted_2024[filter_metro_area].reset_index(drop=True)\n",
    "\n",
    "month_columns_2024 = get_months(2024)\n",
    "for row, name in zip(month_columns_2024 , months_names):\n",
    "    df_filtered_2024['months'] = df_filtered_2024['months'].replace(row, name)"
   ]
  },
  {
   "cell_type": "code",
   "execution_count": 96,
   "id": "8f21d7f2",
   "metadata": {},
   "outputs": [
    {
     "data": {
      "image/png": "[encoded data removed]",
      "text/plain": [
       "<Figure size 1200x800 with 1 Axes>"
      ]
     },
     "metadata": {},
     "output_type": "display_data"
    }
   ],
   "source": [
    "fig, ax = plt.subplots(figsize=(12, 8))\n",
    "\n",
    "sns.lineplot(data=df_filtered_2019, x='months', y='percentages', label='2019')\n",
    "sns.lineplot(data=df_filtered_2020, x='months', y='percentages', label='2020')\n",
    "sns.lineplot(data=df_filtered_2021, x='months', y='percentages', label='2021')\n",
    "sns.lineplot(data=df_filtered_2022, x='months', y='percentages', label='2022')\n",
    "sns.lineplot(data=df_filtered_2023, x='months', y='percentages', label='2023')\n",
    "sns.lineplot(data=df_filtered_2024, x='months', y='percentages', label='2024')\n",
    "\n",
    "ax.set_title(\"Unemployment Rate In The Los Angeles-Long Beach-Anaheim Metropolitan Area\", fontweight=\"bold\")\n",
    "ax.set_ylabel(\"Unemployment Rate (%)\")\n",
    "ax.set_xlabel(\"Months\")\n",
    "ax.legend(title=\"Years\")\n",
    "\n",
    "plt.tight_layout()\n",
    "plt.show()"
   ]
  }
 ],
 "metadata": {
  "kernelspec": {
   "display_name": "Python 3",
   "language": "python",
   "name": "python3"
  },
  "language_info": {
   "codemirror_mode": {
    "name": "ipython",
    "version": 3
   },
   "file_extension": ".py",
   "mimetype": "text/x-python",
   "name": "python",
   "nbconvert_exporter": "python",
   "pygments_lexer": "ipython3",
   "version": "3.13.5"
  }
 },
 "nbformat": 4,
 "nbformat_minor": 5
}
