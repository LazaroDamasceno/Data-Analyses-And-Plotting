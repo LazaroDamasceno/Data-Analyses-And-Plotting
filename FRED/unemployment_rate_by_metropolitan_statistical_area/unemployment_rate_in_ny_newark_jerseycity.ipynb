{
 "cells": [
  {
   "cell_type": "code",
   "execution_count": 37,
   "id": "7839c31e",
   "metadata": {},
   "outputs": [],
   "source": [
    "import pandas as pd\n",
    "import matplotlib.pyplot as plt\n",
    "import seaborn as sns"
   ]
  },
  {
   "cell_type": "code",
   "execution_count": 38,
   "id": "fc788235",
   "metadata": {},
   "outputs": [],
   "source": [
    "df = pd.read_csv('unemployment_rate_by_metropolitan_statistical_area.csv')"
   ]
  },
  {
   "cell_type": "code",
   "execution_count": 39,
   "id": "b27f740f",
   "metadata": {},
   "outputs": [],
   "source": [
    "df = df.drop(columns=['Series ID'])\n",
    "df = df.drop(columns=['Series Name'])\n",
    "df = df.drop(columns=['Units'])\n",
    "df = df.drop(columns=['Region Code'])"
   ]
  },
  {
   "cell_type": "code",
   "execution_count": 40,
   "id": "3eee0319",
   "metadata": {},
   "outputs": [],
   "source": [
    "df_split = df['Region Name'].str.split(pat=', ', expand=True)\n",
    "df['metropolitan_area'] = df_split[0]\n",
    "df['state_designation'] = df_split[1]\n",
    "df = df.drop(columns=['Region Name'])"
   ]
  },
  {
   "cell_type": "code",
   "execution_count": 41,
   "id": "5dca0b52",
   "metadata": {},
   "outputs": [],
   "source": [
    "def get_months(year: int):\n",
    "    return [str(f'{year}-0{i}-01') if i < 10 else str(f'{year}-{i}-01') for i in range(1, 13)]\n",
    "\n",
    "months_names = [\n",
    "    'JANUARY',\n",
    "    'FEBRUARY',\n",
    "    'MARCH',\n",
    "    'APRIL',\n",
    "    'MAY',\n",
    "    'JUNE',\n",
    "    'JULY',\n",
    "    'AUGUST', \n",
    "    'SEPTEMBER',\n",
    "    'OCTOBER', \n",
    "    'NOVEMBER', \n",
    "    'DECEMBER'\n",
    "]"
   ]
  },
  {
   "cell_type": "code",
   "execution_count": 42,
   "id": "14e04ec9",
   "metadata": {},
   "outputs": [],
   "source": [
    "df_melted_2019 = df.melt(\n",
    "    id_vars=['metropolitan_area', 'state_designation'],\n",
    "    value_vars=get_months(2019),\n",
    "    value_name='percentages'\n",
    ")\n",
    "\n",
    "df_melted_2019 = df_melted_2019.rename(columns={'variable': 'months'})\n",
    "filter_metro_area = df_melted_2019['metropolitan_area'] == 'New York-Newark-Jersey City'\n",
    "\n",
    "df_filtered_2019 = df_melted_2019[filter_metro_area].reset_index(drop=True)\n",
    "\n",
    "month_columns_2019 = get_months(2019)\n",
    "for row, name in zip(month_columns_2019 , months_names):\n",
    "    df_filtered_2019['months'] = df_filtered_2019['months'].replace(row, name)"
   ]
  },
  {
   "cell_type": "code",
   "execution_count": 43,
   "id": "eb180a20",
   "metadata": {},
   "outputs": [
    {
     "data": {
      "application/vnd.microsoft.datawrangler.viewer.v0+json": {
       "columns": [
        {
         "name": "index",
         "rawType": "int64",
         "type": "integer"
        },
        {
         "name": "metropolitan_area",
         "rawType": "object",
         "type": "string"
        },
        {
         "name": "state_designation",
         "rawType": "object",
         "type": "string"
        },
        {
         "name": "months",
         "rawType": "object",
         "type": "string"
        },
        {
         "name": "percentages",
         "rawType": "float64",
         "type": "float"
        }
       ],
       "ref": "8c9bf8ad-2b5d-441a-ba0d-9740a2982de0",
       "rows": [
        [
         "0",
         "New York-Newark-Jersey City",
         "NY-NJ-PA",
         "JANUARY",
         "3.7"
        ],
        [
         "1",
         "New York-Newark-Jersey City",
         "NY-NJ-PA",
         "FEBRUARY",
         "3.6"
        ],
        [
         "2",
         "New York-Newark-Jersey City",
         "NY-NJ-PA",
         "MARCH",
         "4.8"
        ],
        [
         "3",
         "New York-Newark-Jersey City",
         "NY-NJ-PA",
         "APRIL",
         "14.6"
        ],
        [
         "4",
         "New York-Newark-Jersey City",
         "NY-NJ-PA",
         "MAY",
         "17.5"
        ],
        [
         "5",
         "New York-Newark-Jersey City",
         "NY-NJ-PA",
         "JUNE",
         "14.6"
        ],
        [
         "6",
         "New York-Newark-Jersey City",
         "NY-NJ-PA",
         "JULY",
         "14.4"
        ],
        [
         "7",
         "New York-Newark-Jersey City",
         "NY-NJ-PA",
         "AUGUST",
         "12.4"
        ],
        [
         "8",
         "New York-Newark-Jersey City",
         "NY-NJ-PA",
         "SEPTEMBER",
         "10.2"
        ],
        [
         "9",
         "New York-Newark-Jersey City",
         "NY-NJ-PA",
         "OCTOBER",
         "9.6"
        ],
        [
         "10",
         "New York-Newark-Jersey City",
         "NY-NJ-PA",
         "NOVEMBER",
         "9.1"
        ],
        [
         "11",
         "New York-Newark-Jersey City",
         "NY-NJ-PA",
         "DECEMBER",
         "8.9"
        ]
       ],
       "shape": {
        "columns": 4,
        "rows": 12
       }
      },
      "text/html": [
       "<div>\n",
       "<style scoped>\n",
       "    .dataframe tbody tr th:only-of-type {\n",
       "        vertical-align: middle;\n",
       "    }\n",
       "\n",
       "    .dataframe tbody tr th {\n",
       "        vertical-align: top;\n",
       "    }\n",
       "\n",
       "    .dataframe thead th {\n",
       "        text-align: right;\n",
       "    }\n",
       "</style>\n",
       "<table border=\"1\" class=\"dataframe\">\n",
       "  <thead>\n",
       "    <tr style=\"text-align: right;\">\n",
       "      <th></th>\n",
       "      <th>metropolitan_area</th>\n",
       "      <th>state_designation</th>\n",
       "      <th>months</th>\n",
       "      <th>percentages</th>\n",
       "    </tr>\n",
       "  </thead>\n",
       "  <tbody>\n",
       "    <tr>\n",
       "      <th>0</th>\n",
       "      <td>New York-Newark-Jersey City</td>\n",
       "      <td>NY-NJ-PA</td>\n",
       "      <td>JANUARY</td>\n",
       "      <td>3.7</td>\n",
       "    </tr>\n",
       "    <tr>\n",
       "      <th>1</th>\n",
       "      <td>New York-Newark-Jersey City</td>\n",
       "      <td>NY-NJ-PA</td>\n",
       "      <td>FEBRUARY</td>\n",
       "      <td>3.6</td>\n",
       "    </tr>\n",
       "    <tr>\n",
       "      <th>2</th>\n",
       "      <td>New York-Newark-Jersey City</td>\n",
       "      <td>NY-NJ-PA</td>\n",
       "      <td>MARCH</td>\n",
       "      <td>4.8</td>\n",
       "    </tr>\n",
       "    <tr>\n",
       "      <th>3</th>\n",
       "      <td>New York-Newark-Jersey City</td>\n",
       "      <td>NY-NJ-PA</td>\n",
       "      <td>APRIL</td>\n",
       "      <td>14.6</td>\n",
       "    </tr>\n",
       "    <tr>\n",
       "      <th>4</th>\n",
       "      <td>New York-Newark-Jersey City</td>\n",
       "      <td>NY-NJ-PA</td>\n",
       "      <td>MAY</td>\n",
       "      <td>17.5</td>\n",
       "    </tr>\n",
       "    <tr>\n",
       "      <th>5</th>\n",
       "      <td>New York-Newark-Jersey City</td>\n",
       "      <td>NY-NJ-PA</td>\n",
       "      <td>JUNE</td>\n",
       "      <td>14.6</td>\n",
       "    </tr>\n",
       "    <tr>\n",
       "      <th>6</th>\n",
       "      <td>New York-Newark-Jersey City</td>\n",
       "      <td>NY-NJ-PA</td>\n",
       "      <td>JULY</td>\n",
       "      <td>14.4</td>\n",
       "    </tr>\n",
       "    <tr>\n",
       "      <th>7</th>\n",
       "      <td>New York-Newark-Jersey City</td>\n",
       "      <td>NY-NJ-PA</td>\n",
       "      <td>AUGUST</td>\n",
       "      <td>12.4</td>\n",
       "    </tr>\n",
       "    <tr>\n",
       "      <th>8</th>\n",
       "      <td>New York-Newark-Jersey City</td>\n",
       "      <td>NY-NJ-PA</td>\n",
       "      <td>SEPTEMBER</td>\n",
       "      <td>10.2</td>\n",
       "    </tr>\n",
       "    <tr>\n",
       "      <th>9</th>\n",
       "      <td>New York-Newark-Jersey City</td>\n",
       "      <td>NY-NJ-PA</td>\n",
       "      <td>OCTOBER</td>\n",
       "      <td>9.6</td>\n",
       "    </tr>\n",
       "    <tr>\n",
       "      <th>10</th>\n",
       "      <td>New York-Newark-Jersey City</td>\n",
       "      <td>NY-NJ-PA</td>\n",
       "      <td>NOVEMBER</td>\n",
       "      <td>9.1</td>\n",
       "    </tr>\n",
       "    <tr>\n",
       "      <th>11</th>\n",
       "      <td>New York-Newark-Jersey City</td>\n",
       "      <td>NY-NJ-PA</td>\n",
       "      <td>DECEMBER</td>\n",
       "      <td>8.9</td>\n",
       "    </tr>\n",
       "  </tbody>\n",
       "</table>\n",
       "</div>"
      ],
      "text/plain": [
       "              metropolitan_area state_designation     months  percentages\n",
       "0   New York-Newark-Jersey City          NY-NJ-PA    JANUARY          3.7\n",
       "1   New York-Newark-Jersey City          NY-NJ-PA   FEBRUARY          3.6\n",
       "2   New York-Newark-Jersey City          NY-NJ-PA      MARCH          4.8\n",
       "3   New York-Newark-Jersey City          NY-NJ-PA      APRIL         14.6\n",
       "4   New York-Newark-Jersey City          NY-NJ-PA        MAY         17.5\n",
       "5   New York-Newark-Jersey City          NY-NJ-PA       JUNE         14.6\n",
       "6   New York-Newark-Jersey City          NY-NJ-PA       JULY         14.4\n",
       "7   New York-Newark-Jersey City          NY-NJ-PA     AUGUST         12.4\n",
       "8   New York-Newark-Jersey City          NY-NJ-PA  SEPTEMBER         10.2\n",
       "9   New York-Newark-Jersey City          NY-NJ-PA    OCTOBER          9.6\n",
       "10  New York-Newark-Jersey City          NY-NJ-PA   NOVEMBER          9.1\n",
       "11  New York-Newark-Jersey City          NY-NJ-PA   DECEMBER          8.9"
      ]
     },
     "execution_count": 43,
     "metadata": {},
     "output_type": "execute_result"
    }
   ],
   "source": [
    "df_melted_2020 = df.melt(\n",
    "    id_vars=['metropolitan_area', 'state_designation'],\n",
    "    value_vars=get_months(2020),\n",
    "    value_name='percentages'\n",
    ")\n",
    "\n",
    "df_melted_2020 = df_melted_2020.rename(columns={'variable': 'months'})\n",
    "filter_metro_area = df_melted_2020['metropolitan_area'] == 'New York-Newark-Jersey City'\n",
    "\n",
    "df_filtered_2020 = df_melted_2020[filter_metro_area].reset_index(drop=True)\n",
    "\n",
    "month_columns_2020 = get_months(2020)\n",
    "for row, name in zip(month_columns_2020 , months_names):\n",
    "    df_filtered_2020['months'] = df_filtered_2020['months'].replace(row, name)\n",
    "\n",
    "df_filtered_2020"
   ]
  },
  {
   "cell_type": "code",
   "execution_count": 44,
   "id": "6ff9af51",
   "metadata": {},
   "outputs": [],
   "source": [
    "df_melted_2021 = df.melt(\n",
    "    id_vars=['metropolitan_area', 'state_designation'],\n",
    "    value_vars=get_months(2021),\n",
    "    value_name='percentages'\n",
    ")\n",
    "\n",
    "df_melted_2021 = df_melted_2021.rename(columns={'variable': 'months'})\n",
    "filter_metro_area = df_melted_2021['metropolitan_area'] == 'New York-Newark-Jersey City'\n",
    "\n",
    "df_filtered_2021 = df_melted_2021[filter_metro_area].reset_index(drop=True)\n",
    "\n",
    "month_columns_2021 = get_months(2021)\n",
    "for row, name in zip(month_columns_2021 , months_names):\n",
    "    df_filtered_2021['months'] = df_filtered_2021['months'].replace(row, name)"
   ]
  },
  {
   "cell_type": "code",
   "execution_count": 45,
   "id": "94e8b9ad",
   "metadata": {},
   "outputs": [],
   "source": [
    "df_melted_2022 = df.melt(\n",
    "    id_vars=['metropolitan_area', 'state_designation'],\n",
    "    value_vars=get_months(2022),\n",
    "    value_name='percentages'\n",
    ")\n",
    "\n",
    "df_melted_2022 = df_melted_2022.rename(columns={'variable': 'months'})\n",
    "filter_metro_area = df_melted_2022['metropolitan_area'] == 'New York-Newark-Jersey City'\n",
    "\n",
    "df_filtered_2022 = df_melted_2022[filter_metro_area].reset_index(drop=True)\n",
    "\n",
    "month_columns_2022 = get_months(2022)\n",
    "for row, name in zip(month_columns_2022 , months_names):\n",
    "    df_filtered_2022['months'] = df_filtered_2022['months'].replace(row, name)"
   ]
  },
  {
   "cell_type": "code",
   "execution_count": 46,
   "id": "af73e282",
   "metadata": {},
   "outputs": [],
   "source": [
    "df_melted_2023 = df.melt(\n",
    "    id_vars=['metropolitan_area', 'state_designation'],\n",
    "    value_vars=get_months(2023),\n",
    "    value_name='percentages'\n",
    ")\n",
    "\n",
    "df_melted_2023 = df_melted_2023.rename(columns={'variable': 'months'})\n",
    "\n",
    "filter_metro_area = df_melted_2023['metropolitan_area'] == 'New York-Newark-Jersey City'\n",
    "df_filtered_2023 = df_melted_2023[filter_metro_area].reset_index(drop=True)\n",
    "\n",
    "month_columns_2023 = get_months(2023)\n",
    "for row, name in zip(month_columns_2023 , months_names):\n",
    "    df_filtered_2023['months'] = df_filtered_2023['months'].replace(row, name)"
   ]
  },
  {
   "cell_type": "code",
   "execution_count": 47,
   "id": "0eb52e5d",
   "metadata": {},
   "outputs": [],
   "source": [
    "df_melted_2024 = df.melt(\n",
    "    id_vars=['metropolitan_area', 'state_designation'],\n",
    "    value_vars=get_months(2024),\n",
    "    value_name='percentages'\n",
    ")\n",
    "\n",
    "df_melted_2024 = df_melted_2024.rename(columns={'variable': 'months'})\n",
    "\n",
    "filter_metro_area = df_melted_2024['metropolitan_area'] == 'New York-Newark-Jersey City'\n",
    "df_filtered_2024 = df_melted_2024[filter_metro_area].reset_index(drop=True)\n",
    "\n",
    "month_columns_2024 = get_months(2024)\n",
    "for row, name in zip(month_columns_2024 , months_names):\n",
    "    df_filtered_2024['months'] = df_filtered_2024['months'].replace(row, name)"
   ]
  },
  {
   "cell_type": "code",
   "execution_count": 48,
   "id": "fff2f2cb",
   "metadata": {},
   "outputs": [
    {
     "data": {
      "image/png": "[encoded data removed]",
      "text/plain": [
       "<Figure size 1200x800 with 1 Axes>"
      ]
     },
     "metadata": {},
     "output_type": "display_data"
    }
   ],
   "source": [
    "fig, ax = plt.subplots(figsize=(12, 8))\n",
    "\n",
    "sns.lineplot(data=df_filtered_2019, x='months', y='percentages', label='2019')\n",
    "sns.lineplot(data=df_filtered_2020, x='months', y='percentages', label='2020')\n",
    "sns.lineplot(data=df_filtered_2021, x='months', y='percentages', label='2021')\n",
    "sns.lineplot(data=df_filtered_2022, x='months', y='percentages', label='2022')\n",
    "sns.lineplot(data=df_filtered_2023, x='months', y='percentages', label='2023')\n",
    "sns.lineplot(data=df_filtered_2024, x='months', y='percentages', label='2024')\n",
    "\n",
    "ax.set_title(\"Unemployment Rate In The Los Angeles-Long Beach-Anaheim Metropolitan Area\", fontweight=\"bold\")\n",
    "ax.set_ylabel(\"Unemployment Rate (%)\")\n",
    "ax.set_xlabel(\"Months\")\n",
    "ax.legend(title=\"Years\")\n",
    "\n",
    "plt.tight_layout()\n",
    "plt.show()"
   ]
  }
 ],
 "metadata": {
  "kernelspec": {
   "display_name": "Python 3",
   "language": "python",
   "name": "python3"
  },
  "language_info": {
   "codemirror_mode": {
    "name": "ipython",
    "version": 3
   },
   "file_extension": ".py",
   "mimetype": "text/x-python",
   "name": "python",
   "nbconvert_exporter": "python",
   "pygments_lexer": "ipython3",
   "version": "3.13.5"
  }
 },
 "nbformat": 4,
 "nbformat_minor": 5
}
