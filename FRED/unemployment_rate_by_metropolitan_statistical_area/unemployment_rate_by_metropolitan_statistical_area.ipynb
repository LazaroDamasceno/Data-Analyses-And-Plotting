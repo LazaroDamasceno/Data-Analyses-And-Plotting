{
 "cells": [
  {
   "cell_type": "code",
   "execution_count": null,
   "id": "e538d4c2",
   "metadata": {},
   "outputs": [],
   "source": [
    "import pandas as pd"
   ]
  },
  {
   "cell_type": "code",
   "execution_count": null,
   "id": "d9695e2f",
   "metadata": {},
   "outputs": [],
   "source": [
    "df = pd.read_csv('unemployment_rate_by_metropolitan_statistical_area.csv')"
   ]
  },
  {
   "cell_type": "code",
   "execution_count": null,
   "id": "c91f0126",
   "metadata": {},
   "outputs": [],
   "source": [
    "df = df.drop(columns=['Series ID'])\n",
    "df = df.drop(columns=['Series Name'])\n",
    "df = df.drop(columns=['Units'])\n",
    "df = df.drop(columns=['Region Code'])"
   ]
  },
  {
   "cell_type": "code",
   "execution_count": null,
   "id": "e7d0f302",
   "metadata": {},
   "outputs": [],
   "source": []
  }
 ],
 "metadata": {
  "kernelspec": {
   "display_name": "Python 3",
   "language": "python",
   "name": "python3"
  },
  "language_info": {
   "codemirror_mode": {
    "name": "ipython",
    "version": 3
   },
   "file_extension": ".py",
   "mimetype": "text/x-python",
   "name": "python",
   "nbconvert_exporter": "python",
   "pygments_lexer": "ipython3",
   "version": "3.13.5"
  }
 },
 "nbformat": 4,
 "nbformat_minor": 5
}
