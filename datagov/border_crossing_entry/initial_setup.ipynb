{
 "cells": [
  {
   "cell_type": "code",
   "execution_count": null,
   "id": "6f41adfe",
   "metadata": {},
   "outputs": [],
   "source": [
    "import pandas as pd"
   ]
  },
  {
   "cell_type": "code",
   "execution_count": null,
   "id": "f7ebc7a8",
   "metadata": {},
   "outputs": [],
   "source": [
    "df = pd.read_csv('Border_Crossing_Entry_Data.csv')"
   ]
  },
  {
   "cell_type": "code",
   "execution_count": null,
   "id": "f71ee62d",
   "metadata": {},
   "outputs": [],
   "source": [
    "df_split = df['Date'].str.split(pat=' ', expand=True)\n",
    "df['Month'] = df_split[0]\n",
    "df['Year'] = df_split[1]\n",
    "df = df.drop(columns=['Date'])"
   ]
  },
  {
   "cell_type": "code",
   "execution_count": null,
   "id": "feb1e393",
   "metadata": {},
   "outputs": [],
   "source": [
    "northern_states = [\n",
    "    'Maine', \n",
    "    'Idaho', \n",
    "    'Montana', \n",
    "    'Minnesota', \n",
    "    'North Dakota', \n",
    "    'Washington', \n",
    "    'Alaska', \n",
    "    'Michigan',\n",
    "    'New York',\n",
    "    'Vermont'\n",
    "]\n",
    "\n",
    "southern_states = [\n",
    "    'Arizona', \n",
    "    'California', \n",
    "    'Texas', \n",
    "    'New Mexico'\n",
    "]"
   ]
  },
  {
   "cell_type": "code",
   "execution_count": null,
   "id": "20b0164b",
   "metadata": {},
   "outputs": [],
   "source": [
    "def get_location(state):\n",
    "    if state in northern_states:\n",
    "        return 'North'\n",
    "    else:\n",
    "        return 'South'\n",
    "\n",
    "df['Border_Location'] = df['State'].apply(get_location)"
   ]
  },
  {
   "cell_type": "code",
   "execution_count": null,
   "id": "748e9c0d",
   "metadata": {},
   "outputs": [],
   "source": [
    "df = df.rename(columns={\n",
    "    'Port Name': 'Port_Name',\n",
    "    'Port Code': 'Port_Code',\n",
    "})"
   ]
  }
 ],
 "metadata": {
  "kernelspec": {
   "display_name": "Python 3",
   "language": "python",
   "name": "python3"
  },
  "language_info": {
   "codemirror_mode": {
    "name": "ipython",
    "version": 3
   },
   "file_extension": ".py",
   "mimetype": "text/x-python",
   "name": "python",
   "nbconvert_exporter": "python",
   "pygments_lexer": "ipython3",
   "version": "3.13.5"
  }
 },
 "nbformat": 4,
 "nbformat_minor": 5
}
