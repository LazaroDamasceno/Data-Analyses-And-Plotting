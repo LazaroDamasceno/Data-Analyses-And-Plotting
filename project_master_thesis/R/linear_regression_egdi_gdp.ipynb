{
 "cells": [
  {
   "cell_type": "code",
   "execution_count": 71,
   "id": "d23b699b-d59e-4525-8363-cfcb3d29a052",
   "metadata": {
    "vscode": {
     "languageId": "r"
    }
   },
   "outputs": [],
   "source": [
    "library(tidyverse)\n",
    "library(tidyr)"
   ]
  },
  {
   "cell_type": "markdown",
   "id": "1c25987e",
   "metadata": {},
   "source": []
  },
  {
   "cell_type": "code",
   "execution_count": 72,
   "id": "28e91b36-8b47-4f49-926a-2390d1d868b3",
   "metadata": {
    "vscode": {
     "languageId": "r"
    }
   },
   "outputs": [],
   "source": [
    "egdi <- read.csv('EGOV_DATA_2024.csv') %>%\n",
    "    select(Country.Name, E.Government.Index) %>%\n",
    "    arrange(Country.Name)"
   ]
  },
  {
   "cell_type": "code",
   "execution_count": 73,
   "id": "4416e563",
   "metadata": {
    "vscode": {
     "languageId": "r"
    }
   },
   "outputs": [],
   "source": [
    "countries <- unique(egdi$Country.Name)"
   ]
  },
  {
   "cell_type": "markdown",
   "id": "842fa9c4",
   "metadata": {},
   "source": []
  },
  {
   "cell_type": "code",
   "execution_count": 74,
   "id": "2ba9480b",
   "metadata": {
    "vscode": {
     "languageId": "r"
    }
   },
   "outputs": [],
   "source": [
    "gdp <- read.csv('gdp_percapita_ppp.csv') %>%\n",
    "    select(Country.Name, X2024) %>%\n",
    "    arrange(Country.Name)"
   ]
  },
  {
   "cell_type": "code",
   "execution_count": 75,
   "id": "f031fbf0",
   "metadata": {
    "vscode": {
     "languageId": "r"
    }
   },
   "outputs": [],
   "source": [
    "gdp <- gdp %>% \n",
    "    replace_na(list(X2024 = 0))"
   ]
  },
  {
   "cell_type": "markdown",
   "id": "c8bcb25a",
   "metadata": {},
   "source": []
  },
  {
   "cell_type": "code",
   "execution_count": 76,
   "id": "6f703c37",
   "metadata": {
    "vscode": {
     "languageId": "r"
    }
   },
   "outputs": [
    {
     "data": {
      "text/html": [
       "<style>\n",
       ".list-inline {list-style: none; margin:0; padding: 0}\n",
       ".list-inline>li {display: inline-block}\n",
       ".list-inline>li:not(:last-child)::after {content: \"\\00b7\"; padding: 0 .5ex}\n",
       "</style>\n",
       "<ol class=list-inline><li>'Bahamas'</li><li>'Congo'</li><li>'Czech Republic'</li><li>'Côte d\\'Ivoire'</li><li>'Democratic People\\'s Republic of Korea'</li><li>'Democratic Republic of the Congo'</li><li>'Egypt'</li><li>'Gambia'</li><li>'Georgia (Country)'</li><li>'Iran (Islamic Republic of)'</li><li>'Kyrgyzstan'</li><li>'Lao People\\'s Democratic Republic'</li><li>'Micronesia (Federated States of)'</li><li>'Republic of Korea'</li><li>'Republic of Moldova'</li><li>'Saint Kitts and Nevis'</li><li>'Saint Lucia'</li><li>'Saint Vincent and the Grenadines'</li><li>'Slovakia'</li><li>'Türkiye'</li><li>'United Kingdom of Great Britain and Northern Ireland'</li><li>'United Republic of Tanzania'</li><li>'United States of America'</li><li>'Venezuela'</li><li>'Yemen'</li></ol>\n"
      ],
      "text/latex": [
       "\\begin{enumerate*}\n",
       "\\item 'Bahamas'\n",
       "\\item 'Congo'\n",
       "\\item 'Czech Republic'\n",
       "\\item 'Côte d\\textbackslash{}'Ivoire'\n",
       "\\item 'Democratic People\\textbackslash{}'s Republic of Korea'\n",
       "\\item 'Democratic Republic of the Congo'\n",
       "\\item 'Egypt'\n",
       "\\item 'Gambia'\n",
       "\\item 'Georgia (Country)'\n",
       "\\item 'Iran (Islamic Republic of)'\n",
       "\\item 'Kyrgyzstan'\n",
       "\\item 'Lao People\\textbackslash{}'s Democratic Republic'\n",
       "\\item 'Micronesia (Federated States of)'\n",
       "\\item 'Republic of Korea'\n",
       "\\item 'Republic of Moldova'\n",
       "\\item 'Saint Kitts and Nevis'\n",
       "\\item 'Saint Lucia'\n",
       "\\item 'Saint Vincent and the Grenadines'\n",
       "\\item 'Slovakia'\n",
       "\\item 'Türkiye'\n",
       "\\item 'United Kingdom of Great Britain and Northern Ireland'\n",
       "\\item 'United Republic of Tanzania'\n",
       "\\item 'United States of America'\n",
       "\\item 'Venezuela'\n",
       "\\item 'Yemen'\n",
       "\\end{enumerate*}\n"
      ],
      "text/markdown": [
       "1. 'Bahamas'\n",
       "2. 'Congo'\n",
       "3. 'Czech Republic'\n",
       "4. 'Côte d\\'Ivoire'\n",
       "5. 'Democratic People\\'s Republic of Korea'\n",
       "6. 'Democratic Republic of the Congo'\n",
       "7. 'Egypt'\n",
       "8. 'Gambia'\n",
       "9. 'Georgia (Country)'\n",
       "10. 'Iran (Islamic Republic of)'\n",
       "11. 'Kyrgyzstan'\n",
       "12. 'Lao People\\'s Democratic Republic'\n",
       "13. 'Micronesia (Federated States of)'\n",
       "14. 'Republic of Korea'\n",
       "15. 'Republic of Moldova'\n",
       "16. 'Saint Kitts and Nevis'\n",
       "17. 'Saint Lucia'\n",
       "18. 'Saint Vincent and the Grenadines'\n",
       "19. 'Slovakia'\n",
       "20. 'Türkiye'\n",
       "21. 'United Kingdom of Great Britain and Northern Ireland'\n",
       "22. 'United Republic of Tanzania'\n",
       "23. 'United States of America'\n",
       "24. 'Venezuela'\n",
       "25. 'Yemen'\n",
       "\n",
       "\n"
      ],
      "text/plain": [
       " [1] \"Bahamas\"                                             \n",
       " [2] \"Congo\"                                               \n",
       " [3] \"Czech Republic\"                                      \n",
       " [4] \"Côte d'Ivoire\"                                       \n",
       " [5] \"Democratic People's Republic of Korea\"               \n",
       " [6] \"Democratic Republic of the Congo\"                    \n",
       " [7] \"Egypt\"                                               \n",
       " [8] \"Gambia\"                                              \n",
       " [9] \"Georgia (Country)\"                                   \n",
       "[10] \"Iran (Islamic Republic of)\"                          \n",
       "[11] \"Kyrgyzstan\"                                          \n",
       "[12] \"Lao People's Democratic Republic\"                    \n",
       "[13] \"Micronesia (Federated States of)\"                    \n",
       "[14] \"Republic of Korea\"                                   \n",
       "[15] \"Republic of Moldova\"                                 \n",
       "[16] \"Saint Kitts and Nevis\"                               \n",
       "[17] \"Saint Lucia\"                                         \n",
       "[18] \"Saint Vincent and the Grenadines\"                    \n",
       "[19] \"Slovakia\"                                            \n",
       "[20] \"Türkiye\"                                             \n",
       "[21] \"United Kingdom of Great Britain and Northern Ireland\"\n",
       "[22] \"United Republic of Tanzania\"                         \n",
       "[23] \"United States of America\"                            \n",
       "[24] \"Venezuela\"                                           \n",
       "[25] \"Yemen\"                                               "
      ]
     },
     "metadata": {},
     "output_type": "display_data"
    }
   ],
   "source": [
    "setdiff(egdi$Country.Name, gdp$Country.Name)"
   ]
  },
  {
   "cell_type": "code",
   "execution_count": 77,
   "id": "aaa3ba04",
   "metadata": {
    "vscode": {
     "languageId": "r"
    }
   },
   "outputs": [],
   "source": [
    "gdp <- gdp %>% \n",
    "    mutate(Country.Name = case_when(\n",
    "        Country.Name == 'Bahamas, The' ~ 'Bahamas',\n",
    "        Country.Name == 'Congo, Rep.' ~ 'Congo',\n",
    "        Country.Name == 'Czechia' ~ 'Czech Republic',\n",
    "        Country.Name == 'Cote d\\'Ivoire' ~ 'Côte d\\'Ivoire',\n",
    "        Country.Name == 'Egypt, Arab Rep.' ~ 'Egypt',\n",
    "        Country.Name == 'Gambia, The' ~ 'Gambia',\n",
    "        Country.Name == 'Georgia' ~ 'Georgia (Country)',\n",
    "        Country.Name == 'Micronesia, Fed. Sts.' ~ 'Micronesia (Federated States of)',\n",
    "        Country.Name == 'Turkiye' ~ 'Türkiye',\n",
    "        TRUE ~ Country.Name\n",
    "    )\n",
    ")"
   ]
  },
  {
   "cell_type": "code",
   "execution_count": 78,
   "id": "f462b615",
   "metadata": {
    "vscode": {
     "languageId": "r"
    }
   },
   "outputs": [
    {
     "data": {
      "text/html": [
       "<style>\n",
       ".list-inline {list-style: none; margin:0; padding: 0}\n",
       ".list-inline>li {display: inline-block}\n",
       ".list-inline>li:not(:last-child)::after {content: \"\\00b7\"; padding: 0 .5ex}\n",
       "</style>\n",
       "<ol class=list-inline><li>'Democratic People\\'s Republic of Korea'</li><li>'Democratic Republic of the Congo'</li><li>'Iran (Islamic Republic of)'</li><li>'Kyrgyzstan'</li><li>'Lao People\\'s Democratic Republic'</li><li>'Republic of Korea'</li><li>'Republic of Moldova'</li><li>'Saint Kitts and Nevis'</li><li>'Saint Lucia'</li><li>'Saint Vincent and the Grenadines'</li><li>'Slovakia'</li><li>'United Kingdom of Great Britain and Northern Ireland'</li><li>'United Republic of Tanzania'</li><li>'United States of America'</li><li>'Venezuela'</li><li>'Yemen'</li></ol>\n"
      ],
      "text/latex": [
       "\\begin{enumerate*}\n",
       "\\item 'Democratic People\\textbackslash{}'s Republic of Korea'\n",
       "\\item 'Democratic Republic of the Congo'\n",
       "\\item 'Iran (Islamic Republic of)'\n",
       "\\item 'Kyrgyzstan'\n",
       "\\item 'Lao People\\textbackslash{}'s Democratic Republic'\n",
       "\\item 'Republic of Korea'\n",
       "\\item 'Republic of Moldova'\n",
       "\\item 'Saint Kitts and Nevis'\n",
       "\\item 'Saint Lucia'\n",
       "\\item 'Saint Vincent and the Grenadines'\n",
       "\\item 'Slovakia'\n",
       "\\item 'United Kingdom of Great Britain and Northern Ireland'\n",
       "\\item 'United Republic of Tanzania'\n",
       "\\item 'United States of America'\n",
       "\\item 'Venezuela'\n",
       "\\item 'Yemen'\n",
       "\\end{enumerate*}\n"
      ],
      "text/markdown": [
       "1. 'Democratic People\\'s Republic of Korea'\n",
       "2. 'Democratic Republic of the Congo'\n",
       "3. 'Iran (Islamic Republic of)'\n",
       "4. 'Kyrgyzstan'\n",
       "5. 'Lao People\\'s Democratic Republic'\n",
       "6. 'Republic of Korea'\n",
       "7. 'Republic of Moldova'\n",
       "8. 'Saint Kitts and Nevis'\n",
       "9. 'Saint Lucia'\n",
       "10. 'Saint Vincent and the Grenadines'\n",
       "11. 'Slovakia'\n",
       "12. 'United Kingdom of Great Britain and Northern Ireland'\n",
       "13. 'United Republic of Tanzania'\n",
       "14. 'United States of America'\n",
       "15. 'Venezuela'\n",
       "16. 'Yemen'\n",
       "\n",
       "\n"
      ],
      "text/plain": [
       " [1] \"Democratic People's Republic of Korea\"               \n",
       " [2] \"Democratic Republic of the Congo\"                    \n",
       " [3] \"Iran (Islamic Republic of)\"                          \n",
       " [4] \"Kyrgyzstan\"                                          \n",
       " [5] \"Lao People's Democratic Republic\"                    \n",
       " [6] \"Republic of Korea\"                                   \n",
       " [7] \"Republic of Moldova\"                                 \n",
       " [8] \"Saint Kitts and Nevis\"                               \n",
       " [9] \"Saint Lucia\"                                         \n",
       "[10] \"Saint Vincent and the Grenadines\"                    \n",
       "[11] \"Slovakia\"                                            \n",
       "[12] \"United Kingdom of Great Britain and Northern Ireland\"\n",
       "[13] \"United Republic of Tanzania\"                         \n",
       "[14] \"United States of America\"                            \n",
       "[15] \"Venezuela\"                                           \n",
       "[16] \"Yemen\"                                               "
      ]
     },
     "metadata": {},
     "output_type": "display_data"
    }
   ],
   "source": [
    "setdiff(egdi$Country.Name, gdp$Country.Name)"
   ]
  }
 ],
 "metadata": {
  "kernelspec": {
   "display_name": "R",
   "language": "R",
   "name": "ir"
  },
  "language_info": {
   "codemirror_mode": "r",
   "file_extension": ".r",
   "mimetype": "text/x-r-source",
   "name": "R",
   "pygments_lexer": "r",
   "version": "4.5.1"
  }
 },
 "nbformat": 4,
 "nbformat_minor": 5
}
