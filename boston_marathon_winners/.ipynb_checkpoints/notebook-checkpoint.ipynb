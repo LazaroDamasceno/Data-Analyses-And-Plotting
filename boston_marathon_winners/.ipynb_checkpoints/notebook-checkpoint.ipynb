{
 "cells": [
  {
   "cell_type": "markdown",
   "id": "45f13b51",
   "metadata": {},
   "source": [
    "# 1 Initial Settings\n"
   ]
  },
  {
   "cell_type": "code",
   "execution_count": 1,
   "id": "70758136",
   "metadata": {},
   "outputs": [],
   "source": [
    "import pandas as pd\n",
    "import numpy as np\n",
    "import matplotlib.pyplot as plt"
   ]
  },
  {
   "cell_type": "markdown",
   "id": "0e59e46d",
   "metadata": {},
   "source": [
    "# 2 Importing Data"
   ]
  },
  {
   "cell_type": "code",
   "execution_count": 2,
   "id": "dc69103d",
   "metadata": {},
   "outputs": [],
   "source": [
    "df_men = pd.read_csv(\"Mens_Boston_Marathon_Winners.csv\")\n",
    "df_women = pd.read_csv(\"Womens_Boston_Marathon_Winners.csv\")"
   ]
  },
  {
   "cell_type": "markdown",
   "id": "141e408c",
   "metadata": {},
   "source": [
    "# 3 Handling Data"
   ]
  },
  {
   "cell_type": "markdown",
   "id": "18a037a3",
   "metadata": {},
   "source": [
    "## 3.1 Handling men's data"
   ]
  },
  {
   "cell_type": "markdown",
   "id": "766d7d92",
   "metadata": {},
   "source": [
    "### 3.1.1 Removing Empty Values"
   ]
  },
  {
   "cell_type": "code",
   "execution_count": 3,
   "id": "3451109b",
   "metadata": {},
   "outputs": [],
   "source": [
    "df_men_cleaned = df_men.dropna()"
   ]
  },
  {
   "cell_type": "markdown",
   "id": "4e9cac2c",
   "metadata": {},
   "source": [
    "### 3.1.2 Unpivoting Data"
   ]
  },
  {
   "cell_type": "code",
   "execution_count": 4,
   "id": "f3658f89",
   "metadata": {},
   "outputs": [],
   "source": [
    "df_men_longer = df_men_cleaned.melt(\n",
    "    id_vars=\"Country\",\n",
    "    value_vars=\"Distance (KM)\",\n",
    "    var_name=\"Distances\"\n",
    ")"
   ]
  },
  {
   "cell_type": "markdown",
   "id": "7048098d",
   "metadata": {},
   "source": [
    "### 3.1.3 Pivoting Data"
   ]
  },
  {
   "cell_type": "code",
   "execution_count": 5,
   "id": "90a1de94",
   "metadata": {},
   "outputs": [],
   "source": [
    "df_men_pivot = df_men_longer.pivot_table(\n",
    "    index=\"Country\",\n",
    "    columns=\"Distances\",\n",
    "    aggfunc=\"sum\"\n",
    ")"
   ]
  },
  {
   "cell_type": "markdown",
   "id": "53ef8c91",
   "metadata": {},
   "source": [
    "## 3.2 Handling Women's Data"
   ]
  },
  {
   "cell_type": "markdown",
   "id": "d2b6220a",
   "metadata": {},
   "source": [
    "### 3.2.1 Removing Empty Values"
   ]
  },
  {
   "cell_type": "code",
   "execution_count": 6,
   "id": "a2259444",
   "metadata": {},
   "outputs": [],
   "source": [
    "df_women_cleaned = df_women.dropna()"
   ]
  },
  {
   "cell_type": "markdown",
   "id": "4be8eee5",
   "metadata": {},
   "source": [
    "### 3.2.2 Unpivoting Data"
   ]
  },
  {
   "cell_type": "code",
   "execution_count": 7,
   "id": "f71da17b",
   "metadata": {},
   "outputs": [],
   "source": [
    "df_women_longer = df_women_cleaned.melt(\n",
    "    id_vars=\"Country\",\n",
    "    value_vars=\"Distance (KM)\",\n",
    "    var_name=\"Distances\"\n",
    ")"
   ]
  },
  {
   "cell_type": "markdown",
   "id": "1fa9eebe",
   "metadata": {},
   "source": [
    "### 3.2.3 Pivoting Data"
   ]
  },
  {
   "cell_type": "code",
   "execution_count": 8,
   "id": "cc950c32",
   "metadata": {},
   "outputs": [],
   "source": [
    "df_women_pivot = df_women_longer.pivot_table(\n",
    "    index=\"Country\",\n",
    "    columns=\"Distances\",\n",
    "    aggfunc=\"sum\"\n",
    ")"
   ]
  }
 ],
 "metadata": {
  "kernelspec": {
   "display_name": "Python 3 (ipykernel)",
   "language": "python",
   "name": "python3"
  },
  "language_info": {
   "codemirror_mode": {
    "name": "ipython",
    "version": 3
   },
   "file_extension": ".py",
   "mimetype": "text/x-python",
   "name": "python",
   "nbconvert_exporter": "python",
   "pygments_lexer": "ipython3",
   "version": "3.13.5"
  }
 },
 "nbformat": 4,
 "nbformat_minor": 5
}
