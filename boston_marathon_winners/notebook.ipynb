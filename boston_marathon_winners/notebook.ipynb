{
 "cells": [
  {
   "cell_type": "markdown",
   "id": "45f13b51",
   "metadata": {},
   "source": [
    "# 1 Initial Settings\n"
   ]
  },
  {
   "cell_type": "code",
   "execution_count": 34,
   "id": "70758136",
   "metadata": {},
   "outputs": [],
   "source": [
    "import pandas as pd\n",
    "import numpy as np\n",
    "import matplotlib.pyplot as plt"
   ]
  },
  {
   "cell_type": "markdown",
   "id": "0e59e46d",
   "metadata": {},
   "source": [
    "# 2 Importing Data"
   ]
  },
  {
   "cell_type": "code",
   "execution_count": 35,
   "id": "dc69103d",
   "metadata": {},
   "outputs": [],
   "source": [
    "df_men = pd.read_csv(\"Mens_Boston_Marathon_Winners.csv\")\n",
    "df_women = pd.read_csv(\"Womens_Boston_Marathon_Winners.csv\")"
   ]
  },
  {
   "cell_type": "markdown",
   "id": "141e408c",
   "metadata": {},
   "source": [
    "# 3 Handling Data"
   ]
  },
  {
   "cell_type": "markdown",
   "id": "18a037a3",
   "metadata": {},
   "source": [
    "## 3.1 Handling men's data"
   ]
  },
  {
   "cell_type": "markdown",
   "id": "766d7d92",
   "metadata": {},
   "source": [
    "### 3.1.1 Removing Empty Values"
   ]
  },
  {
   "cell_type": "code",
   "execution_count": 36,
   "id": "3451109b",
   "metadata": {},
   "outputs": [],
   "source": [
    "df_men_cleaned = df_men.dropna()"
   ]
  },
  {
   "cell_type": "markdown",
   "id": "4e9cac2c",
   "metadata": {},
   "source": [
    "### 3.1.2 Unpivoting Data"
   ]
  },
  {
   "cell_type": "code",
   "execution_count": 37,
   "id": "f3658f89",
   "metadata": {},
   "outputs": [],
   "source": [
    "df_men_longer = df_men_cleaned.melt(\n",
    "    id_vars=\"Country\",\n",
    "    value_vars=\"Distance (KM)\",\n",
    "    var_name=\"Distances\"\n",
    ")"
   ]
  },
  {
   "cell_type": "markdown",
   "id": "7048098d",
   "metadata": {},
   "source": [
    "### 3.1.3 Pivoting Data"
   ]
  },
  {
   "cell_type": "code",
   "execution_count": 38,
   "id": "90a1de94",
   "metadata": {},
   "outputs": [],
   "source": [
    "df_men_pivot = df_men_longer.pivot_table(\n",
    "    index=\"Country\",\n",
    "    columns=\"Distances\",\n",
    "    aggfunc=\"sum\"\n",
    ")"
   ]
  },
  {
   "cell_type": "markdown",
   "id": "53ef8c91",
   "metadata": {},
   "source": [
    "## 3.2 Handling Women's Data"
   ]
  },
  {
   "cell_type": "markdown",
   "id": "d2b6220a",
   "metadata": {},
   "source": [
    "### 3.2.1 Removing Empty Values"
   ]
  },
  {
   "cell_type": "code",
   "execution_count": 39,
   "id": "a2259444",
   "metadata": {},
   "outputs": [],
   "source": [
    "df_women_cleaned = df_women.dropna()"
   ]
  },
  {
   "cell_type": "markdown",
   "id": "4be8eee5",
   "metadata": {},
   "source": [
    "### 3.2.2 Unpivoting Data"
   ]
  },
  {
   "cell_type": "code",
   "execution_count": 40,
   "id": "f71da17b",
   "metadata": {},
   "outputs": [],
   "source": [
    "df_women_longer = df_women_cleaned.melt(\n",
    "    id_vars=\"Country\",\n",
    "    value_vars=\"Distance (KM)\",\n",
    "    var_name=\"Distances\"\n",
    ")"
   ]
  },
  {
   "cell_type": "markdown",
   "id": "1fa9eebe",
   "metadata": {},
   "source": [
    "### 3.2.3 Pivoting Data"
   ]
  },
  {
   "cell_type": "code",
   "execution_count": 41,
   "id": "cc950c32",
   "metadata": {},
   "outputs": [],
   "source": [
    "df_women_pivot = df_women_longer.pivot_table(\n",
    "    index=\"Country\",\n",
    "    columns=\"Distances\",\n",
    "    aggfunc=\"sum\"\n",
    ")"
   ]
  },
  {
   "cell_type": "markdown",
   "id": "157d877c",
   "metadata": {},
   "source": [
    "# 4 Settings For Plotting A Horizontal Bar Chart"
   ]
  },
  {
   "cell_type": "markdown",
   "id": "86b285cd",
   "metadata": {},
   "source": [
    "## 4.1 For Men"
   ]
  },
  {
   "cell_type": "code",
   "execution_count": 42,
   "id": "7ebfaed4",
   "metadata": {},
   "outputs": [],
   "source": [
    "n_items_men = len(df_men_pivot.index)\n",
    "y_pos_men = np.arange(n_items_men)\n",
    "bar_height = 0.8"
   ]
  },
  {
   "cell_type": "markdown",
   "id": "0572cdef",
   "metadata": {},
   "source": [
    "## 4.2 For Women"
   ]
  },
  {
   "cell_type": "code",
   "execution_count": 43,
   "id": "9f66c1cd",
   "metadata": {},
   "outputs": [],
   "source": [
    "n_items_women = len(df_men_pivot.index)\n",
    "y_pos_women = np.arange(n_items_women)\n",
    "bar_height = 0.8"
   ]
  },
  {
   "cell_type": "markdown",
   "id": "f6e040e6",
   "metadata": {},
   "source": [
    "## 4.3 Plot's Color"
   ]
  },
  {
   "cell_type": "code",
   "execution_count": 44,
   "id": "304b4331",
   "metadata": {},
   "outputs": [],
   "source": [
    "colors = plt.cm.Set2.colors"
   ]
  },
  {
   "cell_type": "markdown",
   "id": "d471e315",
   "metadata": {},
   "source": [
    "# 5 Plotting A Horizontal Bar Chart"
   ]
  },
  {
   "cell_type": "code",
   "execution_count": null,
   "id": "5f547f83",
   "metadata": {},
   "outputs": [],
   "source": [
    "fig, ax = plt.subplots(1, 2, figsize=(12, 8))\n",
    "\n"
   ]
  }
 ],
 "metadata": {
  "kernelspec": {
   "display_name": "Python 3 (ipykernel)",
   "language": "python",
   "name": "python3"
  },
  "language_info": {
   "codemirror_mode": {
    "name": "ipython",
    "version": 3
   },
   "file_extension": ".py",
   "mimetype": "text/x-python",
   "name": "python",
   "nbconvert_exporter": "python",
   "pygments_lexer": "ipython3",
   "version": "3.13.5"
  }
 },
 "nbformat": 4,
 "nbformat_minor": 5
}
