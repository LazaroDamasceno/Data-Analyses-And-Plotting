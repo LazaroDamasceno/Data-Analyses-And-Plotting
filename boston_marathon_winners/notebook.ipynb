{
 "cells": [
  {
   "cell_type": "markdown",
   "id": "45f13b51",
   "metadata": {},
   "source": [
    "# Initial Settings"
   ]
  },
  {
   "cell_type": "code",
   "execution_count": null,
   "id": "70758136",
   "metadata": {},
   "outputs": [],
   "source": [
    "import pandas as pd\n",
    "import numpy as np\n",
    "import matplotlib.pyplot as plt"
   ]
  }
 ],
 "metadata": {
  "language_info": {
   "name": "python"
  }
 },
 "nbformat": 4,
 "nbformat_minor": 5
}
