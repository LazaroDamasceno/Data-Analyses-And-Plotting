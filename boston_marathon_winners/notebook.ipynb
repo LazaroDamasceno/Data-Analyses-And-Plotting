{
 "cells": [
  {
   "cell_type": "markdown",
   "id": "45f13b51",
   "metadata": {},
   "source": [
    "# 1 Initial Settings\n"
   ]
  },
  {
   "cell_type": "code",
   "execution_count": null,
   "id": "70758136",
   "metadata": {},
   "outputs": [],
   "source": [
    "import pandas as pd\n",
    "import numpy as np\n",
    "import matplotlib.pyplot as plt"
   ]
  },
  {
   "cell_type": "markdown",
   "id": "0e59e46d",
   "metadata": {},
   "source": [
    "# 2 Importing Data"
   ]
  },
  {
   "cell_type": "code",
   "execution_count": null,
   "id": "dc69103d",
   "metadata": {},
   "outputs": [],
   "source": [
    "df_men_winners = pd.read_csv(\"MensMens_Boston_Marathon_Winners.csv\")\n",
    "df_women_winners = pd.read_csv(\"Womens_Boston_Marathon_Winners.csv\")"
   ]
  }
 ],
 "metadata": {
  "kernelspec": {
   "display_name": "Python 3",
   "language": "python",
   "name": "python3"
  },
  "language_info": {
   "codemirror_mode": {
    "name": "ipython",
    "version": 3
   },
   "file_extension": ".py",
   "mimetype": "text/x-python",
   "name": "python",
   "nbconvert_exporter": "python",
   "pygments_lexer": "ipython3",
   "version": "3.13.5"
  }
 },
 "nbformat": 4,
 "nbformat_minor": 5
}
